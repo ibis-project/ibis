{
 "cells": [
  {
   "cell_type": "code",
   "execution_count": 1,
   "metadata": {},
   "outputs": [
    {
     "name": "stdout",
     "output_type": "stream",
     "text": [
      "Requirement already satisfied: ibis-framework[bigquery] in /Users/vinojosa/Documents/OpenSourceProjects/ibis (1.3.0+157.g550c894)\n",
      "Requirement already satisfied: multipledispatch>=0.6.0 in /Users/vinojosa/opt/anaconda3/envs/ibis-dev/lib/python3.8/site-packages (from ibis-framework[bigquery]) (0.6.0)\n",
      "Requirement already satisfied: numpy>=1.11 in /Users/vinojosa/opt/anaconda3/envs/ibis-dev/lib/python3.8/site-packages (from ibis-framework[bigquery]) (1.19.1)\n",
      "Requirement already satisfied: pandas>=0.21 in /Users/vinojosa/opt/anaconda3/envs/ibis-dev/lib/python3.8/site-packages (from ibis-framework[bigquery]) (1.1.2)\n",
      "Requirement already satisfied: pytz in /Users/vinojosa/opt/anaconda3/envs/ibis-dev/lib/python3.8/site-packages (from ibis-framework[bigquery]) (2020.1)\n",
      "Requirement already satisfied: regex in /Users/vinojosa/opt/anaconda3/envs/ibis-dev/lib/python3.8/site-packages (from ibis-framework[bigquery]) (2020.9.27)\n",
      "Requirement already satisfied: toolz in /Users/vinojosa/opt/anaconda3/envs/ibis-dev/lib/python3.8/site-packages (from ibis-framework[bigquery]) (0.11.1)\n",
      "Requirement already satisfied: google-cloud-bigquery>=1.12.0 in /Users/vinojosa/opt/anaconda3/envs/ibis-dev/lib/python3.8/site-packages (from ibis-framework[bigquery]) (2.0.0)\n",
      "Requirement already satisfied: pydata-google-auth in /Users/vinojosa/opt/anaconda3/envs/ibis-dev/lib/python3.8/site-packages (from ibis-framework[bigquery]) (1.1.0)\n",
      "Requirement already satisfied: six in /Users/vinojosa/opt/anaconda3/envs/ibis-dev/lib/python3.8/site-packages (from multipledispatch>=0.6.0->ibis-framework[bigquery]) (1.15.0)\n",
      "Requirement already satisfied: python-dateutil>=2.7.3 in /Users/vinojosa/opt/anaconda3/envs/ibis-dev/lib/python3.8/site-packages (from pandas>=0.21->ibis-framework[bigquery]) (2.8.1)\n",
      "Requirement already satisfied: proto-plus>=1.10.0 in /Users/vinojosa/opt/anaconda3/envs/ibis-dev/lib/python3.8/site-packages (from google-cloud-bigquery>=1.12.0->ibis-framework[bigquery]) (1.10.0)\n",
      "Requirement already satisfied: google-api-core[grpc]<2.0.0dev,>=1.22.2 in /Users/vinojosa/opt/anaconda3/envs/ibis-dev/lib/python3.8/site-packages (from google-cloud-bigquery>=1.12.0->ibis-framework[bigquery]) (1.22.2)\n",
      "Requirement already satisfied: libcst>=0.2.5 in /Users/vinojosa/opt/anaconda3/envs/ibis-dev/lib/python3.8/site-packages (from google-cloud-bigquery>=1.12.0->ibis-framework[bigquery]) (0.3.12)\n",
      "Requirement already satisfied: google-resumable-media<2.0dev,>=0.6.0 in /Users/vinojosa/opt/anaconda3/envs/ibis-dev/lib/python3.8/site-packages (from google-cloud-bigquery>=1.12.0->ibis-framework[bigquery]) (1.0.0)\n",
      "Requirement already satisfied: google-cloud-core<2.0dev,>=1.4.1 in /Users/vinojosa/opt/anaconda3/envs/ibis-dev/lib/python3.8/site-packages (from google-cloud-bigquery>=1.12.0->ibis-framework[bigquery]) (1.4.1)\n",
      "Requirement already satisfied: google-auth-oauthlib in /Users/vinojosa/opt/anaconda3/envs/ibis-dev/lib/python3.8/site-packages (from pydata-google-auth->ibis-framework[bigquery]) (0.4.1)\n",
      "Requirement already satisfied: setuptools in /Users/vinojosa/opt/anaconda3/envs/ibis-dev/lib/python3.8/site-packages (from pydata-google-auth->ibis-framework[bigquery]) (49.6.0.post20200917)\n",
      "Requirement already satisfied: google-auth in /Users/vinojosa/opt/anaconda3/envs/ibis-dev/lib/python3.8/site-packages (from pydata-google-auth->ibis-framework[bigquery]) (1.22.0)\n",
      "Requirement already satisfied: protobuf>=3.12.0 in /Users/vinojosa/opt/anaconda3/envs/ibis-dev/lib/python3.8/site-packages (from proto-plus>=1.10.0->google-cloud-bigquery>=1.12.0->ibis-framework[bigquery]) (3.13.0)\n",
      "Requirement already satisfied: googleapis-common-protos<2.0dev,>=1.6.0 in /Users/vinojosa/opt/anaconda3/envs/ibis-dev/lib/python3.8/site-packages (from google-api-core[grpc]<2.0.0dev,>=1.22.2->google-cloud-bigquery>=1.12.0->ibis-framework[bigquery]) (1.52.0)\n",
      "Requirement already satisfied: requests<3.0.0dev,>=2.18.0 in /Users/vinojosa/opt/anaconda3/envs/ibis-dev/lib/python3.8/site-packages (from google-api-core[grpc]<2.0.0dev,>=1.22.2->google-cloud-bigquery>=1.12.0->ibis-framework[bigquery]) (2.24.0)\n",
      "Requirement already satisfied: grpcio<2.0dev,>=1.29.0; extra == \"grpc\" in /Users/vinojosa/opt/anaconda3/envs/ibis-dev/lib/python3.8/site-packages (from google-api-core[grpc]<2.0.0dev,>=1.22.2->google-cloud-bigquery>=1.12.0->ibis-framework[bigquery]) (1.32.0)\n",
      "Requirement already satisfied: typing-inspect>=0.4.0 in /Users/vinojosa/opt/anaconda3/envs/ibis-dev/lib/python3.8/site-packages (from libcst>=0.2.5->google-cloud-bigquery>=1.12.0->ibis-framework[bigquery]) (0.6.0)\n",
      "Requirement already satisfied: pyyaml>=5.2 in /Users/vinojosa/opt/anaconda3/envs/ibis-dev/lib/python3.8/site-packages (from libcst>=0.2.5->google-cloud-bigquery>=1.12.0->ibis-framework[bigquery]) (5.3.1)\n",
      "Requirement already satisfied: typing-extensions>=3.7.4.2 in /Users/vinojosa/opt/anaconda3/envs/ibis-dev/lib/python3.8/site-packages (from libcst>=0.2.5->google-cloud-bigquery>=1.12.0->ibis-framework[bigquery]) (3.7.4.2)\n",
      "Requirement already satisfied: google-crc32c<2.0dev,>=1.0; python_version >= \"3.5\" in /Users/vinojosa/opt/anaconda3/envs/ibis-dev/lib/python3.8/site-packages (from google-resumable-media<2.0dev,>=0.6.0->google-cloud-bigquery>=1.12.0->ibis-framework[bigquery]) (1.0.0)\n",
      "Requirement already satisfied: requests-oauthlib>=0.7.0 in /Users/vinojosa/opt/anaconda3/envs/ibis-dev/lib/python3.8/site-packages (from google-auth-oauthlib->pydata-google-auth->ibis-framework[bigquery]) (1.3.0)\n",
      "Requirement already satisfied: pyasn1-modules>=0.2.1 in /Users/vinojosa/opt/anaconda3/envs/ibis-dev/lib/python3.8/site-packages (from google-auth->pydata-google-auth->ibis-framework[bigquery]) (0.2.8)\n",
      "Requirement already satisfied: aiohttp<4.0.0dev,>=3.6.2; python_version >= \"3.6\" in /Users/vinojosa/opt/anaconda3/envs/ibis-dev/lib/python3.8/site-packages (from google-auth->pydata-google-auth->ibis-framework[bigquery]) (3.6.2)\n",
      "Requirement already satisfied: rsa<5,>=3.1.4; python_version >= \"3.5\" in /Users/vinojosa/opt/anaconda3/envs/ibis-dev/lib/python3.8/site-packages (from google-auth->pydata-google-auth->ibis-framework[bigquery]) (4.6)\n",
      "Requirement already satisfied: cachetools<5.0,>=2.0.0 in /Users/vinojosa/opt/anaconda3/envs/ibis-dev/lib/python3.8/site-packages (from google-auth->pydata-google-auth->ibis-framework[bigquery]) (4.1.1)\n",
      "Requirement already satisfied: certifi>=2017.4.17 in /Users/vinojosa/opt/anaconda3/envs/ibis-dev/lib/python3.8/site-packages (from requests<3.0.0dev,>=2.18.0->google-api-core[grpc]<2.0.0dev,>=1.22.2->google-cloud-bigquery>=1.12.0->ibis-framework[bigquery]) (2020.6.20)\n",
      "Requirement already satisfied: idna<3,>=2.5 in /Users/vinojosa/opt/anaconda3/envs/ibis-dev/lib/python3.8/site-packages (from requests<3.0.0dev,>=2.18.0->google-api-core[grpc]<2.0.0dev,>=1.22.2->google-cloud-bigquery>=1.12.0->ibis-framework[bigquery]) (2.10)\n",
      "Requirement already satisfied: urllib3!=1.25.0,!=1.25.1,<1.26,>=1.21.1 in /Users/vinojosa/opt/anaconda3/envs/ibis-dev/lib/python3.8/site-packages (from requests<3.0.0dev,>=2.18.0->google-api-core[grpc]<2.0.0dev,>=1.22.2->google-cloud-bigquery>=1.12.0->ibis-framework[bigquery]) (1.25.10)\n",
      "Requirement already satisfied: chardet<4,>=3.0.2 in /Users/vinojosa/opt/anaconda3/envs/ibis-dev/lib/python3.8/site-packages (from requests<3.0.0dev,>=2.18.0->google-api-core[grpc]<2.0.0dev,>=1.22.2->google-cloud-bigquery>=1.12.0->ibis-framework[bigquery]) (3.0.4)\n",
      "Requirement already satisfied: mypy-extensions>=0.3.0 in /Users/vinojosa/opt/anaconda3/envs/ibis-dev/lib/python3.8/site-packages (from typing-inspect>=0.4.0->libcst>=0.2.5->google-cloud-bigquery>=1.12.0->ibis-framework[bigquery]) (0.4.3)\n",
      "Requirement already satisfied: oauthlib>=3.0.0 in /Users/vinojosa/opt/anaconda3/envs/ibis-dev/lib/python3.8/site-packages (from requests-oauthlib>=0.7.0->google-auth-oauthlib->pydata-google-auth->ibis-framework[bigquery]) (3.0.1)\n",
      "Requirement already satisfied: pyasn1<0.5.0,>=0.4.6 in /Users/vinojosa/opt/anaconda3/envs/ibis-dev/lib/python3.8/site-packages (from pyasn1-modules>=0.2.1->google-auth->pydata-google-auth->ibis-framework[bigquery]) (0.4.8)\n",
      "Requirement already satisfied: attrs>=17.3.0 in /Users/vinojosa/opt/anaconda3/envs/ibis-dev/lib/python3.8/site-packages (from aiohttp<4.0.0dev,>=3.6.2; python_version >= \"3.6\"->google-auth->pydata-google-auth->ibis-framework[bigquery]) (20.2.0)\n",
      "Requirement already satisfied: yarl<2.0,>=1.0 in /Users/vinojosa/opt/anaconda3/envs/ibis-dev/lib/python3.8/site-packages (from aiohttp<4.0.0dev,>=3.6.2; python_version >= \"3.6\"->google-auth->pydata-google-auth->ibis-framework[bigquery]) (1.6.0)\n"
     ]
    },
    {
     "name": "stdout",
     "output_type": "stream",
     "text": [
      "Requirement already satisfied: multidict<5.0,>=4.5 in /Users/vinojosa/opt/anaconda3/envs/ibis-dev/lib/python3.8/site-packages (from aiohttp<4.0.0dev,>=3.6.2; python_version >= \"3.6\"->google-auth->pydata-google-auth->ibis-framework[bigquery]) (4.7.6)\r\n",
      "Requirement already satisfied: async-timeout<4.0,>=3.0 in /Users/vinojosa/opt/anaconda3/envs/ibis-dev/lib/python3.8/site-packages (from aiohttp<4.0.0dev,>=3.6.2; python_version >= \"3.6\"->google-auth->pydata-google-auth->ibis-framework[bigquery]) (3.0.1)\r\n"
     ]
    }
   ],
   "source": [
    "!pip install ibis-framework[bigquery]"
   ]
  },
  {
   "cell_type": "code",
   "execution_count": 7,
   "metadata": {},
   "outputs": [
    {
     "ename": "DefaultCredentialsError",
     "evalue": "Could not automatically determine credentials. Please set GOOGLE_APPLICATION_CREDENTIALS or explicitly create credentials and re-run the application. For more information, please see https://cloud.google.com/docs/authentication/getting-started",
     "output_type": "error",
     "traceback": [
      "\u001b[0;31m---------------------------------------------------------------------------\u001b[0m",
      "\u001b[0;31mDefaultCredentialsError\u001b[0m                   Traceback (most recent call last)",
      "\u001b[0;32m<ipython-input-7-a9726351d778>\u001b[0m in \u001b[0;36m<module>\u001b[0;34m\u001b[0m\n\u001b[1;32m      1\u001b[0m \u001b[0;32mimport\u001b[0m \u001b[0mibis\u001b[0m\u001b[0;34m\u001b[0m\u001b[0;34m\u001b[0m\u001b[0m\n\u001b[0;32m----> 2\u001b[0;31m \u001b[0mcon\u001b[0m \u001b[0;34m=\u001b[0m \u001b[0mibis\u001b[0m\u001b[0;34m.\u001b[0m\u001b[0mbigquery\u001b[0m\u001b[0;34m.\u001b[0m\u001b[0mconnect\u001b[0m\u001b[0;34m(\u001b[0m\u001b[0mproject_id\u001b[0m\u001b[0;34m=\u001b[0m\u001b[0;34m'ibis-test-291302'\u001b[0m\u001b[0;34m,\u001b[0m \u001b[0mdataset_id\u001b[0m\u001b[0;34m=\u001b[0m\u001b[0;34m'bq_flights'\u001b[0m\u001b[0;34m,\u001b[0m \u001b[0mcredentials\u001b[0m\u001b[0;34m=\u001b[0m\u001b[0;32mNone\u001b[0m\u001b[0;34m)\u001b[0m\u001b[0;34m\u001b[0m\u001b[0;34m\u001b[0m\u001b[0m\n\u001b[0m",
      "\u001b[0;32m~/Documents/OpenSourceProjects/ibis/ibis/backends/bigquery/__init__.py\u001b[0m in \u001b[0;36mconnect\u001b[0;34m(project_id, dataset_id, credentials, application_name)\u001b[0m\n\u001b[1;32m     89\u001b[0m         )\n\u001b[1;32m     90\u001b[0m \u001b[0;34m\u001b[0m\u001b[0m\n\u001b[0;32m---> 91\u001b[0;31m     return BigQueryClient(\n\u001b[0m\u001b[1;32m     92\u001b[0m         \u001b[0mproject_id\u001b[0m\u001b[0;34m,\u001b[0m\u001b[0;34m\u001b[0m\u001b[0;34m\u001b[0m\u001b[0m\n\u001b[1;32m     93\u001b[0m         \u001b[0mdataset_id\u001b[0m\u001b[0;34m=\u001b[0m\u001b[0mdataset_id\u001b[0m\u001b[0;34m,\u001b[0m\u001b[0;34m\u001b[0m\u001b[0;34m\u001b[0m\u001b[0m\n",
      "\u001b[0;32m~/Documents/OpenSourceProjects/ibis/ibis/backends/bigquery/client.py\u001b[0m in \u001b[0;36m__init__\u001b[0;34m(self, project_id, dataset_id, credentials, application_name)\u001b[0m\n\u001b[1;32m    404\u001b[0m             \u001b[0mself\u001b[0m\u001b[0;34m.\u001b[0m\u001b[0mdataset\u001b[0m\u001b[0;34m,\u001b[0m\u001b[0;34m\u001b[0m\u001b[0;34m\u001b[0m\u001b[0m\n\u001b[1;32m    405\u001b[0m         ) = parse_project_and_dataset(project_id, dataset_id)\n\u001b[0;32m--> 406\u001b[0;31m         self.client = bq.Client(\n\u001b[0m\u001b[1;32m    407\u001b[0m             \u001b[0mproject\u001b[0m\u001b[0;34m=\u001b[0m\u001b[0mself\u001b[0m\u001b[0;34m.\u001b[0m\u001b[0mdata_project\u001b[0m\u001b[0;34m,\u001b[0m\u001b[0;34m\u001b[0m\u001b[0;34m\u001b[0m\u001b[0m\n\u001b[1;32m    408\u001b[0m             \u001b[0mcredentials\u001b[0m\u001b[0;34m=\u001b[0m\u001b[0mcredentials\u001b[0m\u001b[0;34m,\u001b[0m\u001b[0;34m\u001b[0m\u001b[0;34m\u001b[0m\u001b[0m\n",
      "\u001b[0;32m~/opt/anaconda3/envs/ibis-dev/lib/python3.8/site-packages/google/cloud/bigquery/client.py\u001b[0m in \u001b[0;36m__init__\u001b[0;34m(self, project, credentials, _http, location, default_query_job_config, client_info, client_options)\u001b[0m\n\u001b[1;32m    174\u001b[0m         \u001b[0mclient_options\u001b[0m\u001b[0;34m=\u001b[0m\u001b[0;32mNone\u001b[0m\u001b[0;34m,\u001b[0m\u001b[0;34m\u001b[0m\u001b[0;34m\u001b[0m\u001b[0m\n\u001b[1;32m    175\u001b[0m     ):\n\u001b[0;32m--> 176\u001b[0;31m         super(Client, self).__init__(\n\u001b[0m\u001b[1;32m    177\u001b[0m             \u001b[0mproject\u001b[0m\u001b[0;34m=\u001b[0m\u001b[0mproject\u001b[0m\u001b[0;34m,\u001b[0m\u001b[0;34m\u001b[0m\u001b[0;34m\u001b[0m\u001b[0m\n\u001b[1;32m    178\u001b[0m             \u001b[0mcredentials\u001b[0m\u001b[0;34m=\u001b[0m\u001b[0mcredentials\u001b[0m\u001b[0;34m,\u001b[0m\u001b[0;34m\u001b[0m\u001b[0;34m\u001b[0m\u001b[0m\n",
      "\u001b[0;32m~/opt/anaconda3/envs/ibis-dev/lib/python3.8/site-packages/google/cloud/client.py\u001b[0m in \u001b[0;36m__init__\u001b[0;34m(self, project, credentials, client_options, _http)\u001b[0m\n\u001b[1;32m    247\u001b[0m \u001b[0;34m\u001b[0m\u001b[0m\n\u001b[1;32m    248\u001b[0m     \u001b[0;32mdef\u001b[0m \u001b[0m__init__\u001b[0m\u001b[0;34m(\u001b[0m\u001b[0mself\u001b[0m\u001b[0;34m,\u001b[0m \u001b[0mproject\u001b[0m\u001b[0;34m=\u001b[0m\u001b[0;32mNone\u001b[0m\u001b[0;34m,\u001b[0m \u001b[0mcredentials\u001b[0m\u001b[0;34m=\u001b[0m\u001b[0;32mNone\u001b[0m\u001b[0;34m,\u001b[0m \u001b[0mclient_options\u001b[0m\u001b[0;34m=\u001b[0m\u001b[0;32mNone\u001b[0m\u001b[0;34m,\u001b[0m \u001b[0m_http\u001b[0m\u001b[0;34m=\u001b[0m\u001b[0;32mNone\u001b[0m\u001b[0;34m)\u001b[0m\u001b[0;34m:\u001b[0m\u001b[0;34m\u001b[0m\u001b[0;34m\u001b[0m\u001b[0m\n\u001b[0;32m--> 249\u001b[0;31m         \u001b[0m_ClientProjectMixin\u001b[0m\u001b[0;34m.\u001b[0m\u001b[0m__init__\u001b[0m\u001b[0;34m(\u001b[0m\u001b[0mself\u001b[0m\u001b[0;34m,\u001b[0m \u001b[0mproject\u001b[0m\u001b[0;34m=\u001b[0m\u001b[0mproject\u001b[0m\u001b[0;34m)\u001b[0m\u001b[0;34m\u001b[0m\u001b[0;34m\u001b[0m\u001b[0m\n\u001b[0m\u001b[1;32m    250\u001b[0m         \u001b[0mClient\u001b[0m\u001b[0;34m.\u001b[0m\u001b[0m__init__\u001b[0m\u001b[0;34m(\u001b[0m\u001b[0mself\u001b[0m\u001b[0;34m,\u001b[0m \u001b[0mcredentials\u001b[0m\u001b[0;34m=\u001b[0m\u001b[0mcredentials\u001b[0m\u001b[0;34m,\u001b[0m \u001b[0mclient_options\u001b[0m\u001b[0;34m=\u001b[0m\u001b[0mclient_options\u001b[0m\u001b[0;34m,\u001b[0m \u001b[0m_http\u001b[0m\u001b[0;34m=\u001b[0m\u001b[0m_http\u001b[0m\u001b[0;34m)\u001b[0m\u001b[0;34m\u001b[0m\u001b[0;34m\u001b[0m\u001b[0m\n",
      "\u001b[0;32m~/opt/anaconda3/envs/ibis-dev/lib/python3.8/site-packages/google/cloud/client.py\u001b[0m in \u001b[0;36m__init__\u001b[0;34m(self, project)\u001b[0m\n\u001b[1;32m    199\u001b[0m \u001b[0;34m\u001b[0m\u001b[0m\n\u001b[1;32m    200\u001b[0m     \u001b[0;32mdef\u001b[0m \u001b[0m__init__\u001b[0m\u001b[0;34m(\u001b[0m\u001b[0mself\u001b[0m\u001b[0;34m,\u001b[0m \u001b[0mproject\u001b[0m\u001b[0;34m=\u001b[0m\u001b[0;32mNone\u001b[0m\u001b[0;34m)\u001b[0m\u001b[0;34m:\u001b[0m\u001b[0;34m\u001b[0m\u001b[0;34m\u001b[0m\u001b[0m\n\u001b[0;32m--> 201\u001b[0;31m         \u001b[0mproject\u001b[0m \u001b[0;34m=\u001b[0m \u001b[0mself\u001b[0m\u001b[0;34m.\u001b[0m\u001b[0m_determine_default\u001b[0m\u001b[0;34m(\u001b[0m\u001b[0mproject\u001b[0m\u001b[0;34m)\u001b[0m\u001b[0;34m\u001b[0m\u001b[0;34m\u001b[0m\u001b[0m\n\u001b[0m\u001b[1;32m    202\u001b[0m         \u001b[0;32mif\u001b[0m \u001b[0mproject\u001b[0m \u001b[0;32mis\u001b[0m \u001b[0;32mNone\u001b[0m\u001b[0;34m:\u001b[0m\u001b[0;34m\u001b[0m\u001b[0;34m\u001b[0m\u001b[0m\n\u001b[1;32m    203\u001b[0m             raise EnvironmentError(\n",
      "\u001b[0;32m~/opt/anaconda3/envs/ibis-dev/lib/python3.8/site-packages/google/cloud/client.py\u001b[0m in \u001b[0;36m_determine_default\u001b[0;34m(project)\u001b[0m\n\u001b[1;32m    214\u001b[0m     \u001b[0;32mdef\u001b[0m \u001b[0m_determine_default\u001b[0m\u001b[0;34m(\u001b[0m\u001b[0mproject\u001b[0m\u001b[0;34m)\u001b[0m\u001b[0;34m:\u001b[0m\u001b[0;34m\u001b[0m\u001b[0;34m\u001b[0m\u001b[0m\n\u001b[1;32m    215\u001b[0m         \u001b[0;34m\"\"\"Helper:  use default project detection.\"\"\"\u001b[0m\u001b[0;34m\u001b[0m\u001b[0;34m\u001b[0m\u001b[0m\n\u001b[0;32m--> 216\u001b[0;31m         \u001b[0;32mreturn\u001b[0m \u001b[0m_determine_default_project\u001b[0m\u001b[0;34m(\u001b[0m\u001b[0mproject\u001b[0m\u001b[0;34m)\u001b[0m\u001b[0;34m\u001b[0m\u001b[0;34m\u001b[0m\u001b[0m\n\u001b[0m\u001b[1;32m    217\u001b[0m \u001b[0;34m\u001b[0m\u001b[0m\n\u001b[1;32m    218\u001b[0m \u001b[0;34m\u001b[0m\u001b[0m\n",
      "\u001b[0;32m~/opt/anaconda3/envs/ibis-dev/lib/python3.8/site-packages/google/cloud/_helpers.py\u001b[0m in \u001b[0;36m_determine_default_project\u001b[0;34m(project)\u001b[0m\n\u001b[1;32m    184\u001b[0m     \"\"\"\n\u001b[1;32m    185\u001b[0m     \u001b[0;32mif\u001b[0m \u001b[0mproject\u001b[0m \u001b[0;32mis\u001b[0m \u001b[0;32mNone\u001b[0m\u001b[0;34m:\u001b[0m\u001b[0;34m\u001b[0m\u001b[0;34m\u001b[0m\u001b[0m\n\u001b[0;32m--> 186\u001b[0;31m         \u001b[0m_\u001b[0m\u001b[0;34m,\u001b[0m \u001b[0mproject\u001b[0m \u001b[0;34m=\u001b[0m \u001b[0mgoogle\u001b[0m\u001b[0;34m.\u001b[0m\u001b[0mauth\u001b[0m\u001b[0;34m.\u001b[0m\u001b[0mdefault\u001b[0m\u001b[0;34m(\u001b[0m\u001b[0;34m)\u001b[0m\u001b[0;34m\u001b[0m\u001b[0;34m\u001b[0m\u001b[0m\n\u001b[0m\u001b[1;32m    187\u001b[0m     \u001b[0;32mreturn\u001b[0m \u001b[0mproject\u001b[0m\u001b[0;34m\u001b[0m\u001b[0;34m\u001b[0m\u001b[0m\n\u001b[1;32m    188\u001b[0m \u001b[0;34m\u001b[0m\u001b[0m\n",
      "\u001b[0;32m~/opt/anaconda3/envs/ibis-dev/lib/python3.8/site-packages/google/auth/_default.py\u001b[0m in \u001b[0;36mdefault\u001b[0;34m(scopes, request, quota_project_id)\u001b[0m\n\u001b[1;32m    352\u001b[0m             \u001b[0;32mreturn\u001b[0m \u001b[0mcredentials\u001b[0m\u001b[0;34m,\u001b[0m \u001b[0meffective_project_id\u001b[0m\u001b[0;34m\u001b[0m\u001b[0;34m\u001b[0m\u001b[0m\n\u001b[1;32m    353\u001b[0m \u001b[0;34m\u001b[0m\u001b[0m\n\u001b[0;32m--> 354\u001b[0;31m     \u001b[0;32mraise\u001b[0m \u001b[0mexceptions\u001b[0m\u001b[0;34m.\u001b[0m\u001b[0mDefaultCredentialsError\u001b[0m\u001b[0;34m(\u001b[0m\u001b[0m_HELP_MESSAGE\u001b[0m\u001b[0;34m)\u001b[0m\u001b[0;34m\u001b[0m\u001b[0;34m\u001b[0m\u001b[0m\n\u001b[0m",
      "\u001b[0;31mDefaultCredentialsError\u001b[0m: Could not automatically determine credentials. Please set GOOGLE_APPLICATION_CREDENTIALS or explicitly create credentials and re-run the application. For more information, please see https://cloud.google.com/docs/authentication/getting-started"
     ]
    }
   ],
   "source": [
    "import ibis\n",
    "con = ibis.bigquery.connect(project_id='ibis-test-291302', dataset_id='bq_flights', credentials=None)"
   ]
  },
  {
   "cell_type": "code",
   "execution_count": 5,
   "metadata": {},
   "outputs": [
    {
     "ename": "NameError",
     "evalue": "name 'google' is not defined",
     "output_type": "error",
     "traceback": [
      "\u001b[0;31m---------------------------------------------------------------------------\u001b[0m",
      "\u001b[0;31mNameError\u001b[0m                                 Traceback (most recent call last)",
      "\u001b[0;32m<ipython-input-5-bcb6a66088b2>\u001b[0m in \u001b[0;36m<module>\u001b[0;34m\u001b[0m\n\u001b[0;32m----> 1\u001b[0;31m \u001b[0mhelp\u001b[0m\u001b[0;34m(\u001b[0m\u001b[0mgoogle\u001b[0m\u001b[0;34m.\u001b[0m\u001b[0mauth\u001b[0m\u001b[0;34m.\u001b[0m\u001b[0mcredentials\u001b[0m\u001b[0;34m.\u001b[0m\u001b[0mCredentials\u001b[0m\u001b[0;34m)\u001b[0m\u001b[0;34m\u001b[0m\u001b[0;34m\u001b[0m\u001b[0m\n\u001b[0m\u001b[1;32m      2\u001b[0m \u001b[0;34m\u001b[0m\u001b[0m\n",
      "\u001b[0;31mNameError\u001b[0m: name 'google' is not defined"
     ]
    }
   ],
   "source": [
    "\n",
    "\n"
   ]
  },
  {
   "cell_type": "code",
   "execution_count": null,
   "metadata": {},
   "outputs": [],
   "source": []
  }
 ],
 "metadata": {
  "kernelspec": {
   "display_name": "Python 3",
   "language": "python",
   "name": "python3"
  },
  "language_info": {
   "codemirror_mode": {
    "name": "ipython",
    "version": 3
   },
   "file_extension": ".py",
   "mimetype": "text/x-python",
   "name": "python",
   "nbconvert_exporter": "python",
   "pygments_lexer": "ipython3",
   "version": "3.8.5"
  }
 },
 "nbformat": 4,
 "nbformat_minor": 4
}
