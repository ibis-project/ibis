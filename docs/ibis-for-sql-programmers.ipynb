{
 "cells": [
  {
   "cell_type": "markdown",
   "id": "641af053-e938-4384-8ccd-6eff5b31833d",
   "metadata": {
    "tags": []
   },
   "source": [
    "# Ibis for SQL Programmers\n",
    "\n",
    "Ibis provides a full-featured replacement for SQL\n",
    "`SELECT` queries, but expressed with Python code that is:\n",
    "\n",
    "-   Type-checked and validated as you go. No more debugging cryptic\n",
    "    database errors; Ibis catches your mistakes right away.\n",
    "-   Easier to write. Pythonic function calls with tab completion in\n",
    "    IPython.\n",
    "-   More composable. Break complex queries down into easier-to-digest\n",
    "    pieces\n",
    "-   Easier to reuse. Mix and match Ibis snippets to create expressions\n",
    "    tailored for your analysis.\n",
    "\n",
    "We intend for all `SELECT` queries to be fully portable to Ibis.\n",
    "Coverage of other DDL statements (e.g. `CREATE TABLE` or `INSERT`) may\n",
    "vary from engine to engine.\n",
    "\n",
    "This document will use the Impala SQL compiler (i.e.\n",
    "`ibis.impala.compile`) for convenience, but the code here is portable to\n",
    "whichever system you are using Ibis with.\n",
    "\n",
    "> **Note**: If you find any SQL idioms or use cases in your work that\n",
    "> are not represented here, please reach out so we can add more to this\n",
    "> guide!"
   ]
  },
  {
   "cell_type": "code",
   "execution_count": 1,
   "id": "bd23750c-bc6b-46db-a6d3-017f73a1d436",
   "metadata": {},
   "outputs": [],
   "source": [
    "import ibis\n",
    "ibis.options.sql.default_limit = None"
   ]
  },
  {
   "cell_type": "markdown",
   "id": "6b928082-2c35-4683-8f6c-4a800d063922",
   "metadata": {},
   "source": [
    "## Projections: select/add/remove columns\n",
    "\n",
    "All tables in Ibis are immutable. To select a subset of a table's\n",
    "columns, or to add new columns, you must produce a new table by means of\n",
    "a *projection*."
   ]
  },
  {
   "cell_type": "code",
   "execution_count": 2,
   "id": "11770743-e66f-4001-988d-d5c7a5b40cd6",
   "metadata": {},
   "outputs": [
    {
     "data": {
      "image/png": "[encoded data removed]",
      "text/plain": [
       "UnboundTable[r0, name=my_data]\n",
       "  one   string\n",
       "  two   float64\n",
       "  three int32"
      ]
     },
     "execution_count": 2,
     "metadata": {},
     "output_type": "execute_result"
    }
   ],
   "source": [
    "t = ibis.table([('one', 'string'), ('two', 'double'), ('three', 'int32')], 'my_data')\n",
    "t"
   ]
  },
  {
   "cell_type": "markdown",
   "id": "52c7452e-c903-4748-b3c5-32548baec424",
   "metadata": {},
   "source": [
    "In SQL, you might write something like:\n",
    "\n",
    "```sql\n",
    "SELECT two, one\n",
    "FROM my_data\n",
    "```\n",
    "\n",
    "In Ibis, this is"
   ]
  },
  {
   "cell_type": "code",
   "execution_count": 3,
   "id": "aa3fad0b-7f40-420e-80bc-34649c72ec72",
   "metadata": {},
   "outputs": [],
   "source": [
    "proj = t['two', 'one']"
   ]
  },
  {
   "cell_type": "markdown",
   "id": "79fff00e-6741-46d3-8c60-f21e08963761",
   "metadata": {},
   "source": [
    "or"
   ]
  },
  {
   "cell_type": "code",
   "execution_count": 4,
   "id": "2ccca9e5-8cc8-451a-9bd1-1e1a0b521358",
   "metadata": {},
   "outputs": [],
   "source": [
    "proj = t.projection(['two', 'one'])"
   ]
  },
  {
   "cell_type": "markdown",
   "id": "812ea300-c15f-472a-b9af-d850dc5df813",
   "metadata": {},
   "source": [
    "This generates the expected SQL:"
   ]
  },
  {
   "cell_type": "code",
   "execution_count": 5,
   "id": "33015a45-9f8d-4c43-83c8-8fec5915f5b5",
   "metadata": {},
   "outputs": [
    {
     "name": "stdout",
     "output_type": "stream",
     "text": [
      "SELECT `two`, `one`\n",
      "FROM my_data\n"
     ]
    }
   ],
   "source": [
    "print(ibis.impala.compile(proj))"
   ]
  },
  {
   "cell_type": "markdown",
   "id": "d0da7108-a105-4212-adb1-95723b217c5a",
   "metadata": {},
   "source": [
    "What about adding new columns? To form a valid projection, all column\n",
    "expressions must be **named**. Let's look at the SQL:\n",
    "\n",
    "``` sql\n",
    "SELECT two, one, three * 2 AS new_col\n",
    "FROM my_data\n",
    "```\n",
    "\n",
    "The last expression is written:"
   ]
  },
  {
   "cell_type": "code",
   "execution_count": 6,
   "id": "b9ed5b53-88ba-4a1b-93ce-52c364ee6fd7",
   "metadata": {},
   "outputs": [],
   "source": [
    "new_col = (t.three * 2).name('new_col')"
   ]
  },
  {
   "cell_type": "markdown",
   "id": "984223dd-bc51-472a-8a91-bab7ec455e8e",
   "metadata": {},
   "source": [
    "Now, we have:"
   ]
  },
  {
   "cell_type": "code",
   "execution_count": 7,
   "id": "534c848f-96d7-4e63-8524-ac037a8314e5",
   "metadata": {},
   "outputs": [
    {
     "name": "stdout",
     "output_type": "stream",
     "text": [
      "SELECT `two`, `one`, `three` * 2 AS `new_col`\n",
      "FROM my_data\n"
     ]
    }
   ],
   "source": [
    "proj = t['two', 'one', new_col]\n",
    "print(ibis.impala.compile(proj))"
   ]
  },
  {
   "cell_type": "markdown",
   "id": "4a6a9355-c290-4c23-99ee-97d15af96271",
   "metadata": {},
   "source": [
    "### `mutate`: Add or modify columns easily\n",
    "\n",
    "Since adding new columns or modifying existing columns is so common,\n",
    "there is a convenience method `mutate`:"
   ]
  },
  {
   "cell_type": "code",
   "execution_count": 8,
   "id": "17e443f6-26b1-4d89-87da-501f3ca6db26",
   "metadata": {},
   "outputs": [],
   "source": [
    "mutated = t.mutate(new_col=t.three * 2)"
   ]
  },
  {
   "cell_type": "markdown",
   "id": "b47e7907-1d70-494f-95f2-51a02b455be2",
   "metadata": {},
   "source": [
    "Notice that using the `name` was not necessary here because we're using\n",
    "Python keywords to provide the name. Indeed:"
   ]
  },
  {
   "cell_type": "code",
   "execution_count": 9,
   "id": "d48b4d6d-c72e-484e-a1d7-01ec59883d2f",
   "metadata": {},
   "outputs": [
    {
     "name": "stdout",
     "output_type": "stream",
     "text": [
      "SELECT *, `three` * 2 AS `new_col`\n",
      "FROM my_data\n"
     ]
    }
   ],
   "source": [
    "print(ibis.impala.compile(mutated))"
   ]
  },
  {
   "cell_type": "markdown",
   "id": "ec5d7bbe-cda2-48f2-a350-35da705597ea",
   "metadata": {},
   "source": [
    "If you modify an existing column with `mutate` it will list out all the\n",
    "other columns:"
   ]
  },
  {
   "cell_type": "code",
   "execution_count": 10,
   "id": "740e3186-8179-4dc0-9940-0b8885d4712a",
   "metadata": {},
   "outputs": [
    {
     "name": "stdout",
     "output_type": "stream",
     "text": [
      "SELECT `one`, `two` * 2 AS `two`, `three`\n",
      "FROM my_data\n"
     ]
    }
   ],
   "source": [
    "mutated = t.mutate(two=t.two * 2)\n",
    "print(ibis.impala.compile(mutated))"
   ]
  },
  {
   "cell_type": "markdown",
   "id": "f122a911-3393-4f08-ac8c-e60c227aabad",
   "metadata": {},
   "source": [
    "### `SELECT *` equivalent\n",
    "\n",
    "Especially in combination with relational joins, it's convenient to be\n",
    "able to select all columns in a table using the `SELECT *` construct. To\n",
    "do this, use the table expression itself in a projection:"
   ]
  },
  {
   "cell_type": "code",
   "execution_count": 11,
   "id": "ab0233b9-eba0-4d94-bfd1-ada40ce1c3a1",
   "metadata": {},
   "outputs": [
    {
     "name": "stdout",
     "output_type": "stream",
     "text": [
      "SELECT *\n",
      "FROM my_data\n"
     ]
    }
   ],
   "source": [
    "proj = t[t]\n",
    "print(ibis.impala.compile(proj))"
   ]
  },
  {
   "cell_type": "markdown",
   "id": "25e1f9f8-3e02-4832-a056-aaba7e2a9729",
   "metadata": {},
   "source": [
    "This is how `mutate` is implemented. The example above\n",
    "`t.mutate(new_col=t.three * 2)` can be written as a normal projection:"
   ]
  },
  {
   "cell_type": "code",
   "execution_count": 12,
   "id": "ef6125c7-fcb3-482b-a594-13e7637718fc",
   "metadata": {},
   "outputs": [
    {
     "name": "stdout",
     "output_type": "stream",
     "text": [
      "SELECT *, `three` * 2 AS `new_col`\n",
      "FROM my_data\n"
     ]
    }
   ],
   "source": [
    "proj = t[t, new_col]\n",
    "print(ibis.impala.compile(proj))"
   ]
  },
  {
   "cell_type": "markdown",
   "id": "4e69bb13-1972-4dd6-99b9-fb5ff10b5e53",
   "metadata": {},
   "source": [
    "Let's consider a table we might wish to join with `t`:"
   ]
  },
  {
   "cell_type": "code",
   "execution_count": 13,
   "id": "45468b42-bdee-4a8b-b2b7-5ef438e30b69",
   "metadata": {},
   "outputs": [],
   "source": [
    "t2 = ibis.table([('key', 'string'), ('value', 'double')], 'dim_table')"
   ]
  },
  {
   "cell_type": "markdown",
   "id": "d86be933-a02d-4fd2-9ab2-761d777b6a2b",
   "metadata": {},
   "source": [
    "Now let's take the SQL:\n",
    "\n",
    "``` sql\n",
    "SELECT t0.*, t0.two - t1.value AS diff\n",
    "FROM my_data t0\n",
    "  INNER JOIN dim_table t1\n",
    "    ON t0.one = t1.key\n",
    "```\n",
    "\n",
    "To write this with Ibis, it is:"
   ]
  },
  {
   "cell_type": "code",
   "execution_count": 14,
   "id": "651feee9-1cd3-4b6f-9fb9-0d4389341cc2",
   "metadata": {},
   "outputs": [],
   "source": [
    "diff = (t.two - t2.value).name('diff')\n",
    "joined = t.join(t2, t.one == t2.key)[t, diff]"
   ]
  },
  {
   "cell_type": "markdown",
   "id": "6ac94574-3116-4c85-b425-c747bda852f0",
   "metadata": {},
   "source": [
    "And verify the generated SQL:"
   ]
  },
  {
   "cell_type": "code",
   "execution_count": 15,
   "id": "dccb0052-c6a9-47b3-a495-4fc03627b378",
   "metadata": {},
   "outputs": [
    {
     "name": "stdout",
     "output_type": "stream",
     "text": [
      "SELECT t0.*, t0.`two` - t1.`value` AS `diff`\n",
      "FROM my_data t0\n",
      "  INNER JOIN dim_table t1\n",
      "    ON t0.`one` = t1.`key`\n"
     ]
    }
   ],
   "source": [
    "print(ibis.impala.compile(joined))"
   ]
  },
  {
   "cell_type": "markdown",
   "id": "ca648c6b-54f4-422a-a4d3-a56fb88a1ad7",
   "metadata": {},
   "source": [
    "### Using functions in projections\n",
    "\n",
    "If you pass a function instead of a string or Ibis expression in any\n",
    "projection context, it will be invoked with the \"parent\" table as its\n",
    "argument. This can help significantly when [composing complex operations.\n",
    "Consider this SQL:\n",
    "\n",
    "``` sql\n",
    "SELECT one, avg(abs(the_sum)) AS mad\n",
    "FROM (\n",
    "  SELECT one, three, sum(two) AS the_sum\n",
    "  FROM my_data\n",
    "  GROUP BY 1, 2\n",
    ") t0\n",
    "GROUP BY 1\n",
    "```\n",
    "\n",
    "This can be written as one chained expression:"
   ]
  },
  {
   "cell_type": "code",
   "execution_count": 16,
   "id": "84f52fc9-7eda-418e-aab6-efedc1ba3412",
   "metadata": {},
   "outputs": [],
   "source": [
    "expr = (\n",
    "    t.group_by(['one', 'three'])\n",
    "    .aggregate(the_sum=t.two.sum()) .group_by('one')\n",
    "    .aggregate(mad=lambda x: x.the_sum.abs().mean())\n",
    ")"
   ]
  },
  {
   "cell_type": "markdown",
   "id": "b1bbc432-fae1-46cc-bcc0-8bddbcaec1e6",
   "metadata": {},
   "source": [
    "Indeed:"
   ]
  },
  {
   "cell_type": "code",
   "execution_count": 17,
   "id": "507c2351-ec7d-4ea0-b48f-184d221052cd",
   "metadata": {},
   "outputs": [
    {
     "name": "stdout",
     "output_type": "stream",
     "text": [
      "SELECT `one`, avg(abs(`the_sum`)) AS `mad`\n",
      "FROM (\n",
      "  SELECT `one`, `three`, sum(`two`) AS `the_sum`\n",
      "  FROM my_data\n",
      "  GROUP BY 1, 2\n",
      ") t0\n",
      "GROUP BY 1\n"
     ]
    }
   ],
   "source": [
    "print(ibis.impala.compile(expr))"
   ]
  },
  {
   "cell_type": "markdown",
   "id": "09965e5a-6d64-44c5-a25b-36a28e835faf",
   "metadata": {},
   "source": [
    "## Filtering / `WHERE`\n",
    "\n",
    "You can add filter clauses to a table expression either by indexing with\n",
    "`[]` (like pandas) or use the `filter` method:"
   ]
  },
  {
   "cell_type": "code",
   "execution_count": 18,
   "id": "64888cad-1024-4b2d-be76-eb856d086286",
   "metadata": {},
   "outputs": [
    {
     "name": "stdout",
     "output_type": "stream",
     "text": [
      "SELECT *\n",
      "FROM my_data\n",
      "WHERE `two` > 0\n"
     ]
    }
   ],
   "source": [
    "filtered = t[t.two > 0]\n",
    "print(ibis.impala.compile(filtered))"
   ]
  },
  {
   "cell_type": "markdown",
   "id": "741da2d8-a261-46ec-b590-972745f8aa8a",
   "metadata": {},
   "source": [
    "`filter` can take a list of expressions, which must all be satisfied for\n",
    "a row to be included in the result:"
   ]
  },
  {
   "cell_type": "code",
   "execution_count": 19,
   "id": "92421d3c-a871-4d95-9a9c-5297b0c49942",
   "metadata": {},
   "outputs": [
    {
     "name": "stdout",
     "output_type": "stream",
     "text": [
      "SELECT *\n",
      "FROM my_data\n",
      "WHERE (`two` > 0) AND\n",
      "      (`one` IN ('A', 'B'))\n"
     ]
    }
   ],
   "source": [
    "filtered = t.filter([t.two > 0, t.one.isin(['A', 'B'])])\n",
    "print(ibis.impala.compile(filtered))"
   ]
  },
  {
   "cell_type": "markdown",
   "id": "02c02cc8-335d-4b3c-a2a8-bc2739d6f8b5",
   "metadata": {},
   "source": [
    "To compose boolean expressions with `AND` or `OR`, use the respective\n",
    "`&` and `|` operators:"
   ]
  },
  {
   "cell_type": "code",
   "execution_count": 20,
   "id": "557aa73a-eca2-4245-a32f-26d5aaca59eb",
   "metadata": {},
   "outputs": [
    {
     "name": "stdout",
     "output_type": "stream",
     "text": [
      "SELECT *\n",
      "FROM my_data\n",
      "WHERE (`two` < 0) OR ((`two` > 0) OR `one` IN ('A', 'B'))\n"
     ]
    }
   ],
   "source": [
    "cond = (t.two < 0) | ((t.two > 0) | t.one.isin(['A', 'B']))\n",
    "filtered = t[cond]\n",
    "print(ibis.impala.compile(filtered))"
   ]
  },
  {
   "cell_type": "markdown",
   "id": "4603c901-f474-4941-9133-efe20abd0c1e",
   "metadata": {},
   "source": [
    "## Aggregation / `GROUP BY`\n",
    "\n",
    "To aggregate a table, you need:\n",
    "\n",
    "-   Zero or more grouping expressions (these can be column names)\n",
    "-   One or more aggregation expressions\n",
    "\n",
    "Let's look at the `aggregate` method on tables:"
   ]
  },
  {
   "cell_type": "code",
   "execution_count": 21,
   "id": "f8484260-7738-436f-b820-93d95f209861",
   "metadata": {},
   "outputs": [],
   "source": [
    "stats = [t.two.sum().name('total_two'),\n",
    "         t.three.mean().name('avg_three')]\n",
    "agged = t.aggregate(stats)"
   ]
  },
  {
   "cell_type": "markdown",
   "id": "f6112709-78ee-416d-93ff-41f4050da012",
   "metadata": {},
   "source": [
    "If you don't use any group expressions, the result will have a single\n",
    "row with your statistics of interest:"
   ]
  },
  {
   "cell_type": "code",
   "execution_count": 22,
   "id": "26fb0202-ece7-4c73-8a4f-d41af36fe296",
   "metadata": {},
   "outputs": [
    {
     "data": {
      "text/plain": [
       "ibis.Schema {  \n",
       "  total_two  float64\n",
       "  avg_three  float64\n",
       "}"
      ]
     },
     "execution_count": 22,
     "metadata": {},
     "output_type": "execute_result"
    }
   ],
   "source": [
    "agged.schema()"
   ]
  },
  {
   "cell_type": "code",
   "execution_count": 23,
   "id": "69fb5629-64d3-4b79-8f0c-a91f6833c8be",
   "metadata": {},
   "outputs": [
    {
     "name": "stdout",
     "output_type": "stream",
     "text": [
      "SELECT sum(`two`) AS `total_two`, avg(`three`) AS `avg_three`\n",
      "FROM my_data\n"
     ]
    }
   ],
   "source": [
    "print(ibis.impala.compile(agged))"
   ]
  },
  {
   "cell_type": "markdown",
   "id": "30afd546-70f4-47b3-817e-0463a91f1607",
   "metadata": {},
   "source": [
    "To add groupings, use either the `by` argument of `aggregate` or use the\n",
    "`group_by` construct:"
   ]
  },
  {
   "cell_type": "code",
   "execution_count": 24,
   "id": "fbb11d08-d500-4873-a87b-a20b915978f3",
   "metadata": {},
   "outputs": [
    {
     "name": "stdout",
     "output_type": "stream",
     "text": [
      "SELECT `one`, sum(`two`) AS `total_two`, avg(`three`) AS `avg_three`\n",
      "FROM my_data\n",
      "GROUP BY 1\n"
     ]
    }
   ],
   "source": [
    "agged2 = t.aggregate(stats, by='one')\n",
    "agged3 =t.group_by('one').aggregate(stats)\n",
    "print(ibis.impala.compile(agged3))"
   ]
  },
  {
   "cell_type": "markdown",
   "id": "2b2bf151-baae-41b5-a1d7-224e9f35ca5c",
   "metadata": {},
   "source": [
    "### Non-trivial grouping keys\n",
    "\n",
    "You can use any expression (or function, like in projections) deriving\n",
    "from the table you are aggregating. The only constraint is that the\n",
    "expressions must be named. Let's look at an example:"
   ]
  },
  {
   "cell_type": "code",
   "execution_count": 25,
   "id": "c6c5f306-9310-48ff-8116-9902561fa84c",
   "metadata": {},
   "outputs": [],
   "source": [
    "events = ibis.table([('ts', 'timestamp'),\n",
    "                     ('event_type', 'int32'), ('session_id', 'int64')],\n",
    "                    name='web_events')"
   ]
  },
  {
   "cell_type": "markdown",
   "id": "5a43d0dd-547f-430a-875e-2ce2e6126e4a",
   "metadata": {},
   "source": [
    "Suppose we wanted to total up event types by year and month:"
   ]
  },
  {
   "cell_type": "code",
   "execution_count": 26,
   "id": "012505a5-8df1-49c0-adf3-5db7ad8f1b15",
   "metadata": {},
   "outputs": [],
   "source": [
    "keys = [events.ts.year().name('year'),\n",
    "        events.ts.month().name('month')]\n",
    "\n",
    "sessions = events.session_id.nunique()\n",
    "stats = (events.group_by(keys)\n",
    "         .aggregate(total=events.count(), sessions=sessions))"
   ]
  },
  {
   "cell_type": "markdown",
   "id": "c10168a2-487e-4915-b013-fded12204660",
   "metadata": {},
   "source": [
    "Now we have:"
   ]
  },
  {
   "cell_type": "code",
   "execution_count": 27,
   "id": "134857a1-b597-4188-96f4-a6180e559089",
   "metadata": {},
   "outputs": [
    {
     "name": "stdout",
     "output_type": "stream",
     "text": [
      "SELECT extract(`ts`, 'year') AS `year`, extract(`ts`, 'month') AS `month`,\n",
      "       count(DISTINCT `session_id`) AS `sessions`, count(*) AS `total`\n",
      "FROM web_events\n",
      "GROUP BY 1, 2\n"
     ]
    }
   ],
   "source": [
    "print(ibis.impala.compile(stats))"
   ]
  },
  {
   "cell_type": "markdown",
   "id": "60d079d7-b986-4ded-accf-2fa7ce293fda",
   "metadata": {},
   "source": [
    "### Aggregates considering table subsets\n",
    "\n",
    "In analytics is it common to compare statistics from different subsets\n",
    "of a table. Let's consider a dataset containing people's name, age,\n",
    "gender, and nationality:"
   ]
  },
  {
   "cell_type": "code",
   "execution_count": 28,
   "id": "2ad4ad94-9f60-4424-800d-1f8f353e3c3e",
   "metadata": {},
   "outputs": [],
   "source": [
    "pop = ibis.table([('name', 'string'),\n",
    "                  ('country', 'string'), ('gender', 'string'), ('age', 'int16')],\n",
    "                 name='population')"
   ]
  },
  {
   "cell_type": "markdown",
   "id": "339ee175-6b2c-4174-a8a5-9df0da511b43",
   "metadata": {},
   "source": [
    "Now, suppose you wanted to know for each country:\n",
    "\n",
    "-   Average overall age\n",
    "-   Average male age\n",
    "-   Average female age\n",
    "-   Total number of persons\n",
    "\n",
    "In SQL, you may write:\n",
    "\n",
    "``` sql\n",
    "SELECT country,\n",
    "       count(*) AS num_persons,\n",
    "       AVG(age) AS avg_age\n",
    "       AVG(CASE WHEN gender = 'M'\n",
    "             THEN age\n",
    "             ELSE NULL\n",
    "           END) AS avg_male,\n",
    "       AVG(CASE WHEN gender = 'F'\n",
    "             THEN age\n",
    "             ELSE NULL\n",
    "           END) AS avg_female,\n",
    "FROM population\n",
    "GROUP BY 1\n",
    "```\n",
    "\n",
    "Ibis makes this much simpler by giving you `where` option in aggregation\n",
    "functions:"
   ]
  },
  {
   "cell_type": "code",
   "execution_count": 29,
   "id": "d162f950-0c64-4461-8e6c-f67c61f0b0d4",
   "metadata": {},
   "outputs": [],
   "source": [
    "expr = pop.group_by('country').aggregate(\n",
    "    num_persons=pop.count(), avg_age=pop.age.mean(),\n",
    "    avg_male=pop.age.mean(where=pop.gender == 'M'),\n",
    "    avg_female=pop.age.mean(where=pop.gender == 'F')\n",
    ")"
   ]
  },
  {
   "cell_type": "markdown",
   "id": "61fe7496-affa-4afb-a8fd-5141d5b8b8ad",
   "metadata": {},
   "source": [
    "This indeed generates the correct SQL. Note that SQL engines handle\n",
    "`NULL` values differently in aggregation functions, but Ibis will write\n",
    "the SQL expression that is correct for your query engine."
   ]
  },
  {
   "cell_type": "code",
   "execution_count": 30,
   "id": "23e75b52-6367-4ce0-945f-3bfcecdd47df",
   "metadata": {},
   "outputs": [
    {
     "name": "stdout",
     "output_type": "stream",
     "text": [
      "SELECT `country`, avg(`age`) AS `avg_age`,\n",
      "       avg(CASE WHEN `gender` = 'F' THEN `age` ELSE NULL END) AS `avg_female`,\n",
      "       avg(CASE WHEN `gender` = 'M' THEN `age` ELSE NULL END) AS `avg_male`,\n",
      "       count(*) AS `num_persons`\n",
      "FROM population\n",
      "GROUP BY 1\n"
     ]
    }
   ],
   "source": [
    "print(ibis.impala.compile(expr))"
   ]
  },
  {
   "cell_type": "markdown",
   "id": "6895e42a-e12c-47a7-b9f5-c3d4d44e85aa",
   "metadata": {},
   "source": [
    "### `count(*)` convenience: `size()`\n",
    "\n",
    "Computing group frequencies is so common that, like pandas, we have a\n",
    "method `size` that is a shortcut for the `count(*)` idiom:"
   ]
  },
  {
   "cell_type": "code",
   "execution_count": 31,
   "id": "3608e7d6-6b79-4519-b0b9-7dde99fccda7",
   "metadata": {},
   "outputs": [
    {
     "name": "stdout",
     "output_type": "stream",
     "text": [
      "SELECT extract(`ts`, 'year') AS `year`, extract(`ts`, 'month') AS `month`,\n",
      "       count(*) AS `count`\n",
      "FROM web_events\n",
      "GROUP BY 1, 2\n"
     ]
    }
   ],
   "source": [
    "freqs = events.group_by(keys).size()\n",
    "print(ibis.impala.compile(freqs))"
   ]
  },
  {
   "cell_type": "markdown",
   "id": "80596cbf-ab68-4276-83c9-66c72edd72b9",
   "metadata": {},
   "source": [
    "### Frequency table convenience: `value_counts`\n",
    "\n",
    "Consider the SQL idiom:\n",
    "\n",
    "``` sql\n",
    "SELECT some_column_expression, count(*)\n",
    "FROM table\n",
    "GROUP BY 1\n",
    "```\n",
    "\n",
    "This is so common that, like pandas, there is a generic array method\n",
    "`value_counts` which does this for us:"
   ]
  },
  {
   "cell_type": "code",
   "execution_count": 32,
   "id": "b3eaf481-f4cf-4f42-9249-8bebb28dd316",
   "metadata": {},
   "outputs": [
    {
     "name": "stdout",
     "output_type": "stream",
     "text": [
      "SELECT extract(`ts`, 'year') AS `year`, count(*) AS `count`\n",
      "FROM web_events\n",
      "GROUP BY 1\n"
     ]
    }
   ],
   "source": [
    "expr = events.ts.year().value_counts()\n",
    "print(ibis.impala.compile(expr))"
   ]
  },
  {
   "cell_type": "markdown",
   "id": "c8e7b7e3-a0b4-4c44-9ba2-4d6d3126a06d",
   "metadata": {},
   "source": [
    "### `HAVING` clause\n",
    "\n",
    "The SQL `HAVING` clause enables you to filter the results of an\n",
    "aggregation based on some group-wise condition holding true. For\n",
    "example, suppose we wanted to limit our analysis to groups containing at\n",
    "least 1000 observations:\n",
    "\n",
    "``` sql\n",
    "SELECT one, sum(two) AS total\n",
    "FROM my_data\n",
    "GROUP BY 1\n",
    "HAVING count(*) >= 1000\n",
    "```\n",
    "\n",
    "With Ibis, you can do:"
   ]
  },
  {
   "cell_type": "code",
   "execution_count": 33,
   "id": "6f927c7d-0c4a-4d5d-abd7-475a983407ab",
   "metadata": {},
   "outputs": [
    {
     "name": "stdout",
     "output_type": "stream",
     "text": [
      "SELECT `one`, sum(`two`) AS `total`\n",
      "FROM my_data\n",
      "GROUP BY 1\n",
      "HAVING count(*) >= 1000\n"
     ]
    }
   ],
   "source": [
    "expr = (t.group_by('one')\n",
    "         .having(t.count() >= 1000) .aggregate(t.two.sum().name('total')))\n",
    "print(ibis.impala.compile(expr))"
   ]
  },
  {
   "cell_type": "markdown",
   "id": "3c6082b6-6294-47bd-9df1-2ac09b243f08",
   "metadata": {},
   "source": [
    "## Sorting / `ORDER BY`\n",
    "\n",
    "To sort a table, use the `sort_by` method along with either column names\n",
    "or expressions that indicate the sorting keys:"
   ]
  },
  {
   "cell_type": "code",
   "execution_count": 34,
   "id": "67be17b3-169e-4330-9d3b-eb030401e5cb",
   "metadata": {},
   "outputs": [
    {
     "name": "stdout",
     "output_type": "stream",
     "text": [
      "SELECT *\n",
      "FROM web_events\n",
      "ORDER BY extract(`ts`, 'year'), extract(`ts`, 'month')\n"
     ]
    }
   ],
   "source": [
    "sorted = events.sort_by([events.ts.year(), events.ts.month()])\n",
    "\n",
    "print(ibis.impala.compile(sorted))"
   ]
  },
  {
   "cell_type": "markdown",
   "id": "dcb1b530-3d01-4b1a-a9e7-83cabb6df313",
   "metadata": {},
   "source": [
    "The default for sorting is in ascending order. To reverse the sort\n",
    "direction of any key, either wrap it in `ibis.desc` or pass a tuple with\n",
    "`False` as the second value:"
   ]
  },
  {
   "cell_type": "code",
   "execution_count": 35,
   "id": "c93d8fe9-0940-40ae-b215-26b1274abf6d",
   "metadata": {},
   "outputs": [
    {
     "name": "stdout",
     "output_type": "stream",
     "text": [
      "SELECT *\n",
      "FROM web_events\n",
      "ORDER BY `event_type` DESC, extract(`ts`, 'month') DESC\n",
      "LIMIT 100\n"
     ]
    }
   ],
   "source": [
    "sorted = events.sort_by([\n",
    "    ibis.desc('event_type'),\n",
    "    (events.ts.month(), False)\n",
    "]) .limit(100)\n",
    "\n",
    "print(ibis.impala.compile(sorted))"
   ]
  },
  {
   "cell_type": "markdown",
   "id": "dae30583-3191-4f47-bdef-5f0e6690ea39",
   "metadata": {},
   "source": [
    "## `LIMIT` and `OFFSET`\n",
    "\n",
    "This one is easy. The table `limit` function truncates a table to the\n",
    "indicates number of rows. So if you only want the first 1000 rows (which\n",
    "may not be deterministic depending on the SQL engine), you can do:"
   ]
  },
  {
   "cell_type": "code",
   "execution_count": 36,
   "id": "5039e497-2bd2-409c-99f6-5b6a5d17b05e",
   "metadata": {},
   "outputs": [
    {
     "name": "stdout",
     "output_type": "stream",
     "text": [
      "SELECT *\n",
      "FROM my_data\n",
      "LIMIT 1000\n"
     ]
    }
   ],
   "source": [
    "limited = t.limit(1000)\n",
    "print(ibis.impala.compile(limited))"
   ]
  },
  {
   "cell_type": "markdown",
   "id": "ba8d8849-f800-4a25-985b-0b0d27fde3fd",
   "metadata": {},
   "source": [
    "The `offset` option in `limit` skips rows. So if you wanted rows 11\n",
    "through 20, you could do:"
   ]
  },
  {
   "cell_type": "code",
   "execution_count": 37,
   "id": "b2debe4e-3bc8-409b-abec-aee57d7d6a1e",
   "metadata": {},
   "outputs": [
    {
     "name": "stdout",
     "output_type": "stream",
     "text": [
      "SELECT *\n",
      "FROM my_data\n",
      "LIMIT 10 OFFSET 10\n"
     ]
    }
   ],
   "source": [
    "limited = t.limit(10, offset=10)\n",
    "print(ibis.impala.compile(limited))"
   ]
  },
  {
   "cell_type": "markdown",
   "id": "45b7c6dd-54ab-4f3c-ab02-fdb8b713493d",
   "metadata": {},
   "source": [
    "## Common column expressions\n",
    "\n",
    "See the full `API documentation <api>`{.interpreted-text role=\"ref\"} for\n",
    "all of the available value methods and tools for creating value\n",
    "expressions. We mention a few common ones here as they relate to common\n",
    "SQL queries.\n",
    "\n",
    "### Type casts\n",
    "\n",
    "Ibis's type system is independent of any SQL system. You cast Ibis\n",
    "expressions from one Ibis type to another. For example:"
   ]
  },
  {
   "cell_type": "code",
   "execution_count": 38,
   "id": "27cf5bb1-6aa8-4a43-a972-820134dd13b3",
   "metadata": {},
   "outputs": [
    {
     "name": "stdout",
     "output_type": "stream",
     "text": [
      "SELECT *, CAST(`one` AS timestamp) AS `date`,\n",
      "       CAST(`three` AS double) AS `four`\n",
      "FROM my_data\n"
     ]
    }
   ],
   "source": [
    "expr = t.mutate(date=t.one.cast('timestamp'),\n",
    "                four=t.three.cast('double'))\n",
    "\n",
    "print(ibis.impala.compile(expr))"
   ]
  },
  {
   "cell_type": "markdown",
   "id": "199ee248-c167-4cb2-8592-6afa3a16e4ae",
   "metadata": {},
   "source": [
    "### `CASE` statements\n",
    "\n",
    "SQL dialects typically support one or more kind of `CASE` statements.\n",
    "The first is the *simple case* that compares against exact values of an\n",
    "expression.\n",
    "\n",
    "``` sql\n",
    "CASE expr\n",
    "  WHEN value_1 THEN result_1\n",
    "  WHEN value_2 THEN result_2\n",
    "  ELSE default\n",
    "END\n",
    "```\n",
    "\n",
    "Value expressions in Ibis have a `case` method that allows us to emulate\n",
    "these semantics:"
   ]
  },
  {
   "cell_type": "code",
   "execution_count": 39,
   "id": "501a2361-8776-4d01-9c22-6823b196b183",
   "metadata": {},
   "outputs": [
    {
     "name": "stdout",
     "output_type": "stream",
     "text": [
      "SELECT *,\n",
      "  CASE extract(CAST(`one` AS timestamp), 'year')\n",
      "    WHEN 2015 THEN 'This year'\n",
      "    WHEN 2014 THEN 'Last year'\n",
      "    ELSE 'Earlier'\n",
      "  END AS `year_group`\n",
      "FROM my_data\n"
     ]
    }
   ],
   "source": [
    "case = (t.one.cast('timestamp')\n",
    "        .year()\n",
    "        .case()\n",
    "        .when(2015, 'This year')\n",
    "        .when(2014, 'Last year')\n",
    "        .else_('Earlier')\n",
    "        .end())\n",
    "\n",
    "expr = t.mutate(year_group=case)\n",
    "print(ibis.impala.compile(expr))"
   ]
  },
  {
   "cell_type": "markdown",
   "id": "5ce4028b-ad87-49a6-94e3-b50b3c1fbc92",
   "metadata": {},
   "source": [
    "The more general case is that of an arbitrary list of boolean\n",
    "expressions and result values:\n",
    "\n",
    "``` sql\n",
    "CASE\n",
    "  WHEN boolean_expr1 THEN result_1\n",
    "  WHEN boolean_expr2 THEN result_2\n",
    "  WHEN boolean_expr3 THEN result_3\n",
    "  ELSE default\n",
    "END\n",
    "```\n",
    "\n",
    "To do this, use `ibis.case`:"
   ]
  },
  {
   "cell_type": "code",
   "execution_count": 40,
   "id": "2b899af6-1e73-4206-a8eb-d84192cf7031",
   "metadata": {},
   "outputs": [
    {
     "name": "stdout",
     "output_type": "stream",
     "text": [
      "SELECT *,\n",
      "  CASE\n",
      "    WHEN `two` < 0 THEN `three` * 2\n",
      "    WHEN `two` > 1 THEN `three`\n",
      "    ELSE `two`\n",
      "  END AS `cond_value`\n",
      "FROM my_data\n"
     ]
    }
   ],
   "source": [
    "case = (ibis.case()\n",
    "        .when(t.two < 0, t.three * 2)\n",
    "        .when(t.two > 1, t.three)\n",
    "        .else_(t.two)\n",
    "        .end())\n",
    "\n",
    "expr = t.mutate(cond_value=case)\n",
    "print(ibis.impala.compile(expr))"
   ]
  },
  {
   "cell_type": "markdown",
   "id": "6897b7cf-799a-4391-a1bc-3d9b30725049",
   "metadata": {},
   "source": [
    "There are several places where Ibis builds cases for you in a simplified\n",
    "way. One example is the `ifelse` function:"
   ]
  },
  {
   "cell_type": "code",
   "execution_count": 41,
   "id": "657997c0-acdf-4c99-b5b7-ff952bda422c",
   "metadata": {},
   "outputs": [
    {
     "name": "stdout",
     "output_type": "stream",
     "text": [
      "SELECT *,\n",
      "       CASE WHEN `two` < 0 THEN 'Negative' ELSE 'Non-Negative' END AS `group`\n",
      "FROM my_data\n"
     ]
    }
   ],
   "source": [
    "switch = (t.two < 0).ifelse('Negative', 'Non-Negative')\n",
    "expr = t.mutate(group=switch)\n",
    "print(ibis.impala.compile(expr))"
   ]
  },
  {
   "cell_type": "markdown",
   "id": "0cc62be9-716e-490a-813f-325f0b885aeb",
   "metadata": {},
   "source": [
    "### Using `NULL` in expressions\n",
    "\n",
    "To use `NULL` in an expression, either use the special `ibis.NA` value\n",
    "or `ibis.null()`:"
   ]
  },
  {
   "cell_type": "code",
   "execution_count": 42,
   "id": "7247163e-3039-411a-9cc5-30f489c7f467",
   "metadata": {},
   "outputs": [
    {
     "name": "stdout",
     "output_type": "stream",
     "text": [
      "SELECT *, CASE WHEN `two` > 0 THEN `two` ELSE NULL END AS `two_positive`\n",
      "FROM my_data\n"
     ]
    }
   ],
   "source": [
    "pos_two = (t.two > 0).ifelse(t.two, ibis.NA)\n",
    "expr = t.mutate(two_positive=pos_two)\n",
    "print(ibis.impala.compile(expr))"
   ]
  },
  {
   "cell_type": "markdown",
   "id": "167cf197-9db5-413c-abb7-a26fd1a751b1",
   "metadata": {},
   "source": [
    "### Set membership: `IN` / `NOT IN`\n",
    "\n",
    "Let's look again at the population dataset. Suppose you wanted to\n",
    "combine the United States and Canada data into a \"North America\"\n",
    "category. Here would be some SQL to do it:\n",
    "\n",
    "``` sql\n",
    "CASE\n",
    "  WHEN upper(country) IN ('UNITED STATES', 'CANADA')\n",
    "    THEN 'North America'\n",
    "  ELSE country\n",
    "END AS refined_group\n",
    "```\n",
    "\n",
    "The Ibis equivalent of `IN` is the `isin` method. So we can write:"
   ]
  },
  {
   "cell_type": "code",
   "execution_count": 43,
   "id": "b652f2dc-fe0d-4922-bb89-83dd1e58cfeb",
   "metadata": {},
   "outputs": [
    {
     "name": "stdout",
     "output_type": "stream",
     "text": [
      "SELECT *,\n",
      "       CASE WHEN upper(`country`) IN ('UNITED STATES', 'CANADA') THEN 'North America' ELSE `country` END AS `refined_group`\n",
      "FROM population\n"
     ]
    }
   ],
   "source": [
    "refined = (pop.country.upper()\n",
    "           .isin(['UNITED STATES', 'CANADA'])\n",
    "           .ifelse('North America', pop.country))\n",
    "\n",
    "expr = pop.mutate(refined_group=refined)\n",
    "print(ibis.impala.compile(expr))"
   ]
  },
  {
   "cell_type": "markdown",
   "id": "d83cb892-e229-4ab0-8711-1664a1860dc1",
   "metadata": {},
   "source": [
    "The opposite of `isin` is `notin`.\n",
    "\n",
    "### Constant and literal expressions\n",
    "\n",
    "Consider a SQL expression like:\n",
    "\n",
    "``` sql\n",
    "'foo' IN (column1, column2)\n",
    "```\n",
    "\n",
    "which is equivalent to\n",
    "\n",
    "``` sql\n",
    "column1 = 'foo' OR column2 = 'foo'\n",
    "```\n",
    "\n",
    "To build expressions off constant values, you must first convert the\n",
    "value (whether a Python string or number) to an Ibis expression using\n",
    "`ibis.literal`:"
   ]
  },
  {
   "cell_type": "code",
   "execution_count": 44,
   "id": "d74e4b3f-156f-4911-94c9-d6d0aa73400d",
   "metadata": {},
   "outputs": [],
   "source": [
    "t3 = ibis.table([('column1', 'string'),\n",
    "                 ('column2', 'string'), ('column3', 'double')],\n",
    "                'data')\n",
    "\n",
    "value = ibis.literal('foo')"
   ]
  },
  {
   "cell_type": "markdown",
   "id": "c4ac5988-9763-42b7-a2d5-b319a9935905",
   "metadata": {},
   "source": [
    "Once you've done this, you can use the literal expression like any\n",
    "other array or scalar expression:"
   ]
  },
  {
   "cell_type": "code",
   "execution_count": 45,
   "id": "d8f6b90e-13dd-4844-be81-15a33474e22f",
   "metadata": {},
   "outputs": [
    {
     "name": "stdout",
     "output_type": "stream",
     "text": [
      "SELECT *, 'foo' IN (`column1`, `column2`) AS `has_foo`\n",
      "FROM `data`\n"
     ]
    }
   ],
   "source": [
    "has_foo = value.isin([t3.column1, t3.column2])\n",
    "\n",
    "expr = t3.mutate(has_foo=has_foo)\n",
    "print(ibis.impala.compile(expr))"
   ]
  },
  {
   "cell_type": "markdown",
   "id": "97d66d0f-b636-4637-9790-1dc8473c7335",
   "metadata": {},
   "source": [
    "In many other situations, you can use constants without having to use\n",
    "`ibis.literal`. For example, we could add a column containing nothing\n",
    "but the number 5 like so:"
   ]
  },
  {
   "cell_type": "code",
   "execution_count": 46,
   "id": "f1dc9ffd-668a-4e0c-9a93-e37540fbb7e8",
   "metadata": {},
   "outputs": [
    {
     "name": "stdout",
     "output_type": "stream",
     "text": [
      "SELECT *, 5 AS `number5`\n",
      "FROM `data`\n"
     ]
    }
   ],
   "source": [
    "expr = t3.mutate(number5=5)\n",
    "print(ibis.impala.compile(expr))"
   ]
  },
  {
   "cell_type": "markdown",
   "id": "a95f9fad-7d9d-4a9e-bbaa-4783c6ee01f4",
   "metadata": {},
   "source": [
    "### `IS NULL` and `IS NOT NULL`\n",
    "\n",
    "These are simple: use the `isnull` and `notnull` functions respectively,\n",
    "which yield boolean arrays:"
   ]
  },
  {
   "cell_type": "code",
   "execution_count": 47,
   "id": "51117af9-fc7b-4266-8cd1-9e081bda435f",
   "metadata": {},
   "outputs": [
    {
     "name": "stdout",
     "output_type": "stream",
     "text": [
      "SELECT *,\n",
      "       CASE WHEN `two` IS NULL THEN 'valid' ELSE 'invalid' END AS `is_valid`\n",
      "FROM my_data\n",
      "SELECT `is_valid`, sum(`three` IS NOT NULL) AS `three_count`\n",
      "FROM (\n",
      "  SELECT *,\n",
      "         CASE WHEN `two` IS NULL THEN 'valid' ELSE 'invalid' END AS `is_valid`\n",
      "  FROM my_data\n",
      "  WHERE `one` IS NOT NULL\n",
      ") t0\n",
      "GROUP BY 1\n"
     ]
    }
   ],
   "source": [
    "indic = t.two.isnull().ifelse('valid', 'invalid')\n",
    "expr = t.mutate(is_valid=indic)\n",
    "print(ibis.impala.compile(expr))\n",
    "\n",
    "agged = (expr[expr.one.notnull()]\n",
    "         .group_by('is_valid')\n",
    "         .aggregate(three_count=lambda t: t.three.notnull().sum()))\n",
    "\n",
    "print(ibis.impala.compile(agged))"
   ]
  },
  {
   "cell_type": "markdown",
   "id": "0cb72ea1-7c77-49da-8c0b-6cdcbdca6d74",
   "metadata": {},
   "source": [
    "### `BETWEEN`\n",
    "\n",
    "The `between` method on arrays and scalars compiles to the SQL `BETWEEN`\n",
    "keyword. The result of `between` is boolean and can be used with any\n",
    "other boolean expression:"
   ]
  },
  {
   "cell_type": "code",
   "execution_count": 48,
   "id": "bd9cdf2d-c3a3-4166-8402-f0a07a8adb48",
   "metadata": {},
   "outputs": [
    {
     "name": "stdout",
     "output_type": "stream",
     "text": [
      "SELECT *\n",
      "FROM my_data\n",
      "WHERE `two` BETWEEN 10 AND 50 AND (`one` IS NOT NULL)\n"
     ]
    }
   ],
   "source": [
    "expr = t[t.two.between(10, 50) & t.one.notnull()]\n",
    "print(ibis.impala.compile(expr))"
   ]
  },
  {
   "cell_type": "markdown",
   "id": "dc2ea6bc-32a0-431f-a48b-d985d704b1cb",
   "metadata": {},
   "source": [
    "## Joins\n",
    "\n",
    "Ibis supports several kinds of joins between table expressions:\n",
    "\n",
    "-   `inner_join`: maps to SQL `INNER JOIN`\n",
    "-   `cross_join`: a cartesian product join with no keys. Equivalent to\n",
    "    `inner_join` with no join predicates\n",
    "-   `left_join`: maps to SQL `LEFT OUTER JOIN`\n",
    "-   `outer_join`: maps to SQL `FULL OUTER JOIN`\n",
    "-   `semi_join`: maps to SQL `LEFT SEMI JOIN`. May or may not be an\n",
    "    explicit join type in your query engine.\n",
    "-   `anti_join`: maps to SQL `LEFT ANTI JOIN`. May or may not be an\n",
    "    explicit join type in your query engine.\n",
    "\n",
    "The `join` table method is by default the same as `inner_join`.\n",
    "\n",
    "Let's look at a couple example tables to see how joins work in Ibis:"
   ]
  },
  {
   "cell_type": "code",
   "execution_count": 49,
   "id": "53d7fbe6-c6c6-40c4-a0ff-cca51736ab8d",
   "metadata": {},
   "outputs": [],
   "source": [
    "t1 = ibis.table([('value1', 'double'),\n",
    "                 ('key1', 'string'), ('key2', 'string')],\n",
    "                'table1')\n",
    "\n",
    "t2 = ibis.table([('value2', 'double'), ('key3', 'string'), ('key4', 'string')],\n",
    "                'table2')"
   ]
  },
  {
   "cell_type": "markdown",
   "id": "a4665609-7fe9-4069-9c8f-f88c4dfad75b",
   "metadata": {},
   "source": [
    "Let's join on one key:"
   ]
  },
  {
   "cell_type": "code",
   "execution_count": 50,
   "id": "539f284a-a525-4faa-bde9-1d4a96a2fb7d",
   "metadata": {},
   "outputs": [],
   "source": [
    "joined = t1.left_join(t2, t1.key1 == t2.key3)"
   ]
  },
  {
   "cell_type": "markdown",
   "id": "21e87a78-b4d0-4f70-ac97-acbc63bf6720",
   "metadata": {},
   "source": [
    "The immediate result of a join does not yet have a set schema. That is\n",
    "determined by the next action that you take. There's several ways\n",
    "forward from here that address the spectrum of SQL use cases.\n",
    "\n",
    "### Join + projection\n",
    "\n",
    "Consider the SQL:\n",
    "\n",
    "``` sql\n",
    "SELECT t0.*, t1.value2\n",
    "FROM table1 t0\n",
    "  LEFT OUTER JOIN table2 t1\n",
    "    ON t0.key1 = t1.key3\n",
    "```\n",
    "\n",
    "After one or more joins, you can reference any of the joined tables in a\n",
    "projection immediately after:"
   ]
  },
  {
   "cell_type": "code",
   "execution_count": 51,
   "id": "184ee220-b881-4410-8163-192215be5fb5",
   "metadata": {},
   "outputs": [
    {
     "name": "stdout",
     "output_type": "stream",
     "text": [
      "SELECT t0.*, t1.`value2`\n",
      "FROM table1 t0\n",
      "  LEFT OUTER JOIN table2 t1\n",
      "    ON t0.`key1` = t1.`key3`\n"
     ]
    }
   ],
   "source": [
    "expr = joined[t1, t2.value2]\n",
    "print(ibis.impala.compile(expr))"
   ]
  },
  {
   "cell_type": "markdown",
   "id": "02dba7a8-90e5-477a-866e-364a06aa8c80",
   "metadata": {},
   "source": [
    "If you need to compute an expression that involves both tables, you can\n",
    "do that also:"
   ]
  },
  {
   "cell_type": "code",
   "execution_count": 52,
   "id": "4e01f510-b48f-4ee7-84cc-03042f8989f0",
   "metadata": {},
   "outputs": [
    {
     "name": "stdout",
     "output_type": "stream",
     "text": [
      "SELECT t0.`key1`, t0.`value1` - t1.`value2` AS `diff`\n",
      "FROM table1 t0\n",
      "  LEFT OUTER JOIN table2 t1\n",
      "    ON t0.`key1` = t1.`key3`\n"
     ]
    }
   ],
   "source": [
    "expr = joined[t1.key1, (t1.value1 - t2.value2).name('diff')]\n",
    "print(ibis.impala.compile(expr))"
   ]
  },
  {
   "cell_type": "markdown",
   "id": "2c9748c0-cd78-4a26-bc40-5373b20c70f4",
   "metadata": {},
   "source": [
    "### Join + aggregation\n",
    "\n",
    "You can directly aggregate a join without need for projection, which\n",
    "also allows you to form statistics that reference any of the joined\n",
    "tables.\n",
    "\n",
    "Consider this SQL:\n",
    "\n",
    "``` sql\n",
    "SELECT t0.key1, avg(t0.value1 - t1.value2) AS avg_diff\n",
    "FROM table1 t0\n",
    "  LEFT OUTER JOIN table2 t1\n",
    "    ON t0.key1 = t1.key3\n",
    "GROUP BY 1\n",
    "```\n",
    "\n",
    "As you would hope, the code is as follows:"
   ]
  },
  {
   "cell_type": "code",
   "execution_count": 53,
   "id": "f8288597-27d0-4936-a63e-1da23f3c1fc4",
   "metadata": {},
   "outputs": [
    {
     "name": "stdout",
     "output_type": "stream",
     "text": [
      "SELECT t0.`key1`, avg(t0.`value1` - t1.`value2`) AS `avg_diff`\n",
      "FROM table1 t0\n",
      "  LEFT OUTER JOIN table2 t1\n",
      "    ON t0.`key1` = t1.`key3`\n",
      "GROUP BY 1\n"
     ]
    }
   ],
   "source": [
    "avg_diff = (t1.value1 - t2.value2).mean()\n",
    "expr = (t1.left_join(t2, t1.key1 == t2.key3)\n",
    "        .group_by(t1.key1)\n",
    "        .aggregate(avg_diff=avg_diff))\n",
    "print(ibis.impala.compile(expr))"
   ]
  },
  {
   "cell_type": "markdown",
   "id": "d31dfe8f-48b5-490a-bfc5-51c54cb55de8",
   "metadata": {},
   "source": [
    "### Join with `SELECT *`\n",
    "\n",
    "If you try to compile or execute a join that has not been projected or\n",
    "aggregated, it will be *fully materialized*:"
   ]
  },
  {
   "cell_type": "code",
   "execution_count": 54,
   "id": "a3b7fe80-80f9-438c-b08e-242fdc8593fb",
   "metadata": {},
   "outputs": [
    {
     "name": "stdout",
     "output_type": "stream",
     "text": [
      "SELECT *\n",
      "FROM table1 t0\n",
      "  LEFT OUTER JOIN table2 t1\n",
      "    ON t0.`key1` = t1.`key3`\n"
     ]
    }
   ],
   "source": [
    "joined = t1.left_join(t2, t1.key1 == t2.key3)\n",
    "print(ibis.impala.compile(joined))"
   ]
  },
  {
   "cell_type": "markdown",
   "id": "07bf96d2-f112-4e74-acb8-2fd018ceb5ab",
   "metadata": {},
   "source": [
    "### Multiple joins\n",
    "\n",
    "You can join multiple tables together in succession without needing to\n",
    "address any of the above concerns."
   ]
  },
  {
   "cell_type": "code",
   "execution_count": 55,
   "id": "06d624d7-a57e-4715-a596-b9b9522d8c51",
   "metadata": {},
   "outputs": [
    {
     "name": "stdout",
     "output_type": "stream",
     "text": [
      "SELECT t1.`key4`, t2.`key5`,\n",
      "       sum((t0.`value1` + t1.`value2`) + t2.`value3`) AS `total`\n",
      "FROM table1 t0\n",
      "  INNER JOIN table2 t1\n",
      "    ON (t0.`key1` = t1.`key3`) AND\n",
      "       (t0.`key2` = t1.`key4`)\n",
      "  INNER JOIN table3 t2\n",
      "    ON t0.`key1` = t2.`key5`\n",
      "GROUP BY 1, 2\n"
     ]
    }
   ],
   "source": [
    "t3 = ibis.table([('value3', 'double'),\n",
    "                 ('key5', 'string')], 'table3')\n",
    "\n",
    "total = (t1.value1 + t2.value2 + t3.value3).sum()\n",
    "expr = (t1.join(t2, [t1.key1 == t2.key3, t1.key2 == t2.key4])\n",
    "        .join(t3, t1.key1 == t3.key5)\n",
    "        .group_by([t2.key4, t3.key5])\n",
    "        .aggregate(total=total))\n",
    "print(ibis.impala.compile(expr))"
   ]
  },
  {
   "cell_type": "markdown",
   "id": "5408a1a8-3976-4bbb-9d97-a9a1e4add3b2",
   "metadata": {},
   "source": [
    "### Self joins\n",
    "\n",
    "What about when you need to join a table on itself? For example:\n",
    "\n",
    "``` sql\n",
    "SELECT t0.one, avg(t0.two - t1.three) AS metric\n",
    "FROM my_data t0\n",
    "  INNER JOIN my_data t1\n",
    "    ON t0.one = t1.one\n",
    "GROUP BY 1\n",
    "```\n",
    "\n",
    "The table `view` method enables you to form a *self-reference* that is\n",
    "referentially distinct in expressions. Now you can proceed normally:"
   ]
  },
  {
   "cell_type": "code",
   "execution_count": 56,
   "id": "4fb52d34-263c-4528-9906-6149d8fae223",
   "metadata": {},
   "outputs": [
    {
     "name": "stdout",
     "output_type": "stream",
     "text": [
      "SELECT `one`, avg(`two` - `three`) AS `metric`\n",
      "FROM (\n",
      "  SELECT t1.`one` AS `one_x`, t1.`two` AS `two_x`, t1.`three` AS `three_x`,\n",
      "         t2.`one` AS `one_y`, t2.`two` AS `two_y`, t2.`three` AS `three_y`\n",
      "  FROM my_data t1\n",
      "    INNER JOIN my_data t2\n",
      "      ON CAST(t1.`three` AS string) = t2.`one`\n",
      ") t0\n",
      "GROUP BY 1\n"
     ]
    }
   ],
   "source": [
    "t_view = t.view()\n",
    "\n",
    "stat = (t.two - t_view.three).mean()\n",
    "expr = (t.join(t_view, t.three.cast('string') == t_view.one)\n",
    "        .group_by(t.one)\n",
    "        .aggregate(metric=stat))\n",
    "print(ibis.impala.compile(expr))"
   ]
  },
  {
   "cell_type": "markdown",
   "id": "ff807de8-84da-4b0d-b0f4-b18755e9ef1c",
   "metadata": {},
   "source": [
    "### Overlapping join keys\n",
    "\n",
    "In many cases the columns being joined between two tables or table\n",
    "expressions have the same name. Consider this example:"
   ]
  },
  {
   "cell_type": "code",
   "execution_count": 57,
   "id": "d0e462ea-1393-4fbe-b30c-da08708d1d2c",
   "metadata": {},
   "outputs": [],
   "source": [
    "t4 = ibis.table([('key1', 'string'),\n",
    "                 ('key2', 'string'),\n",
    "                 ('key3', 'string'),\n",
    "                 ('value1', 'double')], 'table4')\n",
    "\n",
    "t5 = ibis.table([('key1', 'string'),\n",
    "                 ('key2', 'string'),\n",
    "                 ('key3', 'string'),\n",
    "                 ('value2', 'double')], 'table5')"
   ]
  },
  {
   "cell_type": "markdown",
   "id": "e31bafac-0ef6-47ab-843c-0d4da8610c57",
   "metadata": {},
   "source": [
    "In these case, we can specify a list of common join keys:"
   ]
  },
  {
   "cell_type": "code",
   "execution_count": 58,
   "id": "dcf11c30-363e-45f8-a6fb-3106b012fedc",
   "metadata": {},
   "outputs": [
    {
     "name": "stdout",
     "output_type": "stream",
     "text": [
      "SELECT t0.*, t1.`value2`\n",
      "FROM table4 t0\n",
      "  INNER JOIN table5 t1\n",
      "    ON (t0.`key1` = t1.`key1`) AND\n",
      "       (t0.`key2` = t1.`key2`) AND\n",
      "       (t0.`key3` = t1.`key3`)\n"
     ]
    }
   ],
   "source": [
    "joined = t4.join(t5, ['key1', 'key2', 'key3'])\n",
    "expr = joined[t4, t5.value2]\n",
    "print(ibis.impala.compile(expr))"
   ]
  },
  {
   "cell_type": "markdown",
   "id": "01e41639-4a5f-4956-8027-80e9ddf806ac",
   "metadata": {},
   "source": [
    "You can mix the overlapping key names with other expressions:"
   ]
  },
  {
   "cell_type": "code",
   "execution_count": 59,
   "id": "b135e88e-1547-4d00-aa85-f85abea9a319",
   "metadata": {},
   "outputs": [
    {
     "name": "stdout",
     "output_type": "stream",
     "text": [
      "SELECT t0.*, t1.`value2`\n",
      "FROM table4 t0\n",
      "  INNER JOIN table5 t1\n",
      "    ON (t0.`key1` = t1.`key1`) AND\n",
      "       (t0.`key2` = t1.`key2`) AND\n",
      "       (substr(t0.`key3`, 0 + 1, 4) = substr(t0.`key3`, 0 + 1, 4))\n"
     ]
    }
   ],
   "source": [
    "joined = t4.join(t5, ['key1', 'key2', t4.key3.left(4) == t4.key3.left(4)])\n",
    "expr = joined[t4, t5.value2]\n",
    "print(ibis.impala.compile(expr))"
   ]
  },
  {
   "cell_type": "markdown",
   "id": "cd2cc780-10c1-4208-ba25-4aa218672073",
   "metadata": {},
   "source": [
    "### Non-equality join predicates\n",
    "\n",
    "You can join tables with boolean clauses that are not equality. Some\n",
    "query engines support these efficiently, some inefficiently, or some not\n",
    "at all. In the latter case, these conditions get moved by Ibis into the\n",
    "`WHERE` part of the `SELECT` query."
   ]
  },
  {
   "cell_type": "code",
   "execution_count": 60,
   "id": "f0951d14-0962-4144-ac81-3b626a37d8da",
   "metadata": {},
   "outputs": [
    {
     "name": "stdout",
     "output_type": "stream",
     "text": [
      "SELECT t0.`key1`, count(*) AS `count`\n",
      "FROM table1 t0\n",
      "  INNER JOIN table2 t1\n",
      "    ON t0.`value1` < t1.`value2`\n",
      "GROUP BY 1\n"
     ]
    }
   ],
   "source": [
    "expr = (t1.join(t2, t1.value1 < t2.value2)\n",
    "        .group_by(t1.key1) .size())\n",
    "print(ibis.impala.compile(expr))"
   ]
  },
  {
   "cell_type": "markdown",
   "id": "2c670a3d-f376-450a-b87e-ea1ad7e6c31c",
   "metadata": {},
   "source": [
    "### Other ways to specify join keys\n",
    "\n",
    "You can also pass a list of column names instead of forming boolean\n",
    "expressions:"
   ]
  },
  {
   "cell_type": "code",
   "execution_count": 61,
   "id": "81c7fee1-f2d2-4cee-aa00-25fd3cacbc93",
   "metadata": {},
   "outputs": [],
   "source": [
    "joined = t1.join(t2, [('key1', 'key3'),\n",
    "                      ('key2', 'key4')])"
   ]
  },
  {
   "cell_type": "markdown",
   "id": "263f0039-e5c5-48bb-9342-1cce86180531",
   "metadata": {},
   "source": [
    "## Subqueries\n",
    "\n",
    "Ibis creates inline views and nested subqueries automatically. This\n",
    "section concerns more complex subqueries involving foreign references\n",
    "and other advanced relational algebra.\n",
    "\n",
    "### Correlated `EXISTS` / `NOT EXISTS` filters\n",
    "\n",
    "The SQL `EXISTS` and `NOT EXISTS` constructs are typically used for\n",
    "efficient filtering in large many-to-many relationships.\n",
    "\n",
    "Let's consider a web dataset involving website session / usage data and\n",
    "purchases:"
   ]
  },
  {
   "cell_type": "code",
   "execution_count": 62,
   "id": "c1b8e918-a222-4ebe-8aee-41dce6a99d30",
   "metadata": {},
   "outputs": [],
   "source": [
    "events = ibis.table([('session_id', 'int64'), \n",
    "                     ('user_id', 'int64'),\n",
    "                     ('event_type', 'int32'),\n",
    "                     ('ts', 'timestamp')], 'events')\n",
    "\n",
    "purchases = ibis.table([('item_id', 'int64'),\n",
    "                        ('user_id', 'int64'),\n",
    "                        ('price', 'double'),\n",
    "                        ('ts', 'timestamp')], 'purchases')"
   ]
  },
  {
   "cell_type": "markdown",
   "id": "c23f8777-a3bf-4eca-bda3-4db1d3a7a5da",
   "metadata": {},
   "source": [
    "Now, the key `user_id` appears with high frequency in both tables. But\n",
    "let's say you want to limit your analysis of the `events` table to only\n",
    "sessions by users who have made a purchase.\n",
    "\n",
    "In SQL, you can do this using the somewhat esoteric `EXISTS` construct:\n",
    "\n",
    "``` sql\n",
    "SELECT t0.*\n",
    "FROM events t0\n",
    "WHERE EXISTS (\n",
    "  SELECT 1\n",
    "  FROM purchases t1\n",
    "  WHERE t0.user_id = t1.user_id\n",
    ")\n",
    "```\n",
    "\n",
    "To describe this operation in Ibis, you compare the `user_id` columns\n",
    "and use the `any` reduction:"
   ]
  },
  {
   "cell_type": "code",
   "execution_count": 63,
   "id": "640d3015-4005-41b1-b432-1d99fa3c3b09",
   "metadata": {},
   "outputs": [],
   "source": [
    "cond = (events.user_id == purchases.user_id).any()"
   ]
  },
  {
   "cell_type": "markdown",
   "id": "a66c396a-3dc6-473f-a1ad-6d955162f32c",
   "metadata": {},
   "source": [
    "This can now be used to filter `events`:"
   ]
  },
  {
   "cell_type": "code",
   "execution_count": 64,
   "id": "a5be1cbf-a636-4400-924d-873796068d69",
   "metadata": {},
   "outputs": [
    {
     "name": "stdout",
     "output_type": "stream",
     "text": [
      "SELECT t0.*\n",
      "FROM events t0\n",
      "WHERE EXISTS (\n",
      "  SELECT 1\n",
      "  FROM purchases t1\n",
      "  WHERE t0.`user_id` = t1.`user_id`\n",
      ")\n"
     ]
    }
   ],
   "source": [
    "expr = events[cond]\n",
    "print(ibis.impala.compile(expr))"
   ]
  },
  {
   "cell_type": "markdown",
   "id": "8e09a17a-e17e-4b7d-b494-8a1525ae7a9e",
   "metadata": {},
   "source": [
    "If you negate the condition, it will instead give you only event data\n",
    "from user *that have not made a purchase*:"
   ]
  },
  {
   "cell_type": "code",
   "execution_count": 65,
   "id": "36789da6-983a-48bb-829d-32da129afec9",
   "metadata": {},
   "outputs": [
    {
     "name": "stdout",
     "output_type": "stream",
     "text": [
      "SELECT t0.*\n",
      "FROM events t0\n",
      "WHERE NOT EXISTS (\n",
      "  SELECT 1\n",
      "  FROM purchases t1\n",
      "  WHERE t0.`user_id` = t1.`user_id`\n",
      ")\n"
     ]
    }
   ],
   "source": [
    "expr = events[-cond]\n",
    "print(ibis.impala.compile(expr))"
   ]
  },
  {
   "cell_type": "markdown",
   "id": "c96243b9-0132-436b-9435-f17c340641b9",
   "metadata": {},
   "source": [
    "### Subqueries with `IN` / `NOT IN`\n",
    "\n",
    "Subquery filters with `IN` (and `NOT IN`) are functionally similar to\n",
    "`EXISTS` subqueries. Let's look at some SQL:\n",
    "\n",
    "``` sql\n",
    "SELECT *\n",
    "FROM events\n",
    "WHERE user_id IN (\n",
    "  SELECT user_id\n",
    "  FROM purchases\n",
    ")\n",
    "```\n",
    "\n",
    "This is almost semantically the same as the `EXISTS` example. Indeed,\n",
    "you can write with Ibis:"
   ]
  },
  {
   "cell_type": "code",
   "execution_count": 66,
   "id": "7f8c5b77-5068-4d3a-9df6-e44d9b9f84a6",
   "metadata": {},
   "outputs": [
    {
     "name": "stdout",
     "output_type": "stream",
     "text": [
      "SELECT *\n",
      "FROM events\n",
      "WHERE `user_id` IN (\n",
      "  SELECT `user_id`\n",
      "  FROM purchases\n",
      ")\n"
     ]
    }
   ],
   "source": [
    "cond = events.user_id.isin(purchases.user_id)\n",
    "expr = events[cond]\n",
    "print(ibis.impala.compile(expr))"
   ]
  },
  {
   "cell_type": "markdown",
   "id": "501289d3-d18f-40ef-9969-44d759c7fb5f",
   "metadata": {},
   "source": [
    "Depending on the query engine, the query planner/optimizer will often\n",
    "rewrite `IN` or `EXISTS` subqueries into the same set of relational\n",
    "algebra operations.\n",
    "\n",
    "### Comparison with scalar aggregates\n",
    "\n",
    "Sometime you want to compare a value with an unconditional aggregate\n",
    "value from a different table. Take the SQL:\n",
    "\n",
    "``` sql\n",
    "SELECT *\n",
    "FROM table1\n",
    "WHERE value1 > (\n",
    "  SELECT max(value2)\n",
    "  FROM table2\n",
    ")\n",
    "```\n",
    "\n",
    "With Ibis, the code is simpler and more pandas-like:"
   ]
  },
  {
   "cell_type": "code",
   "execution_count": 67,
   "id": "98620369-6df2-42aa-9db6-d089795c66ea",
   "metadata": {},
   "outputs": [
    {
     "name": "stdout",
     "output_type": "stream",
     "text": [
      "SELECT *\n",
      "FROM table1\n",
      "WHERE `value1` > (\n",
      "  SELECT max(`value2`) AS `max`\n",
      "  FROM table2\n",
      ")\n"
     ]
    }
   ],
   "source": [
    "expr = t1[t1.value1 > t2.value2.max()]\n",
    "print(ibis.impala.compile(expr))"
   ]
  },
  {
   "cell_type": "markdown",
   "id": "f9e345a9-7c0a-411e-9f04-54fae4ceddd2",
   "metadata": {},
   "source": [
    "### Conditional aggregates\n",
    "\n",
    "Suppose you want to compare a value with the aggregate value for some\n",
    "common group values between two tables. Here's some SQL:\n",
    "\n",
    "``` sql\n",
    "SELECT *\n",
    "FROM table1 t0\n",
    "WHERE value1 > (\n",
    "  SELECT avg(value2)\n",
    "  FROM table2 t1\n",
    "  WHERE t0.key1 = t1.key3\n",
    ")\n",
    "```\n",
    "\n",
    "This query computes the average for each distinct value of `key3` and\n",
    "uses the corresponding average for the comparison, rather than the\n",
    "whole-table average as above.\n",
    "\n",
    "With Ibis, the code is similar, but you add the correlated filter to the\n",
    "average statistic:"
   ]
  },
  {
   "cell_type": "code",
   "execution_count": 68,
   "id": "821ead6b-1401-45ef-8521-9f2e85b6cea1",
   "metadata": {},
   "outputs": [
    {
     "name": "stdout",
     "output_type": "stream",
     "text": [
      "SELECT t0.*\n",
      "FROM table1 t0\n",
      "WHERE t0.`value1` > (\n",
      "  SELECT avg(t1.`value2`) AS `mean`\n",
      "  FROM table2 t1\n",
      "  WHERE t0.`key1` = t1.`key3`\n",
      ")\n"
     ]
    }
   ],
   "source": [
    "stat = t2[t1.key1 == t2.key3].value2.mean()\n",
    "expr = t1[t1.value1 > stat]\n",
    "print(ibis.impala.compile(expr))"
   ]
  },
  {
   "cell_type": "markdown",
   "id": "9cfeb61d-cf69-4e0a-b6b0-56ba41158218",
   "metadata": {},
   "source": [
    "## `DISTINCT` expressions\n",
    "\n",
    "In SQL, the `DISTINCT` keyword is used in a couple of ways:\n",
    "\n",
    "-   Deduplicating identical rows in some `SELECT` statement\n",
    "-   Aggregating on the distinct values of some column expression\n",
    "\n",
    "Ibis supports both use cases. So let's have a look. The first case is\n",
    "the simplest: call `distinct` on a table expression. First, here's the\n",
    "SQL:\n",
    "\n",
    "``` sql\n",
    "SELECT DISTINCT *\n",
    "FROM table1\n",
    "```\n",
    "\n",
    "And the Ibis Python code:"
   ]
  },
  {
   "cell_type": "code",
   "execution_count": 69,
   "id": "7afe45dd-1540-42cd-992d-2e09cd9f97ba",
   "metadata": {},
   "outputs": [
    {
     "name": "stdout",
     "output_type": "stream",
     "text": [
      "SELECT DISTINCT *\n",
      "FROM table1\n"
     ]
    }
   ],
   "source": [
    "expr = t1.distinct()\n",
    "print(ibis.impala.compile(expr))"
   ]
  },
  {
   "cell_type": "markdown",
   "id": "f9084f2d-ab6b-4ef4-ab7f-aa6c32bc36cb",
   "metadata": {},
   "source": [
    "For distinct aggregates, the most common case is `COUNT(DISTINCT ...)`,\n",
    "which computes the number of unique values in an expression. So if\n",
    "we're looking at the `events` table, let's compute the number of\n",
    "distinct `event_type` values for each `user_id`. First, the SQL:\n",
    "\n",
    "``` sql\n",
    "SELECT user_id, COUNT(DISTINCT event_type) AS unique_events\n",
    "FROM events\n",
    "GROUP BY 1\n",
    "```\n",
    "\n",
    "In Ibis this is:"
   ]
  },
  {
   "cell_type": "code",
   "execution_count": 70,
   "id": "63644b0f-ca38-4019-99ea-fa3ac7b9968f",
   "metadata": {},
   "outputs": [
    {
     "name": "stdout",
     "output_type": "stream",
     "text": [
      "SELECT `user_id`, count(DISTINCT `event_type`) AS `unique_events`\n",
      "FROM events\n",
      "GROUP BY 1\n"
     ]
    }
   ],
   "source": [
    "metric = events.event_type.nunique()\n",
    "expr =(events.group_by('user_id')\n",
    "       .aggregate(unique_events=metric))\n",
    "print(ibis.impala.compile(expr))"
   ]
  },
  {
   "cell_type": "markdown",
   "id": "8f550d08-a27a-44dd-860a-a00cfae39eb6",
   "metadata": {},
   "source": [
    "## Window functions\n",
    "\n",
    "Window functions in SQL allow you to write expressions that involve\n",
    "possibly-ordered groups of a table. Each window function involves one of\n",
    "the following:\n",
    "\n",
    "-   An analytic function. Most aggregate functions are valid analytic\n",
    "    functions, and there are additional ones such as `LEAD`, `LAG`,\n",
    "    `NTILE`, and others.\n",
    "-   A `PARTITION BY` clause. This may be omitted.\n",
    "-   An `ORDER BY` clause. This may be omitted for many functions.\n",
    "-   A window frame clause. The default is to use the entire partition.\n",
    "\n",
    "So you may see SQL like:\n",
    "\n",
    "``` sql\n",
    "AVG(value) OVER (PARTITION BY key1)\n",
    "```\n",
    "\n",
    "Or simply\n",
    "\n",
    "``` sql\n",
    "AVG(value) OVER ()\n",
    "```\n",
    "\n",
    "Ibis will automatically write window clauses when you use aggregate\n",
    "functions in a non-aggregate context. Suppose you wanted to subtract the\n",
    "mean of a column from itself:"
   ]
  },
  {
   "cell_type": "code",
   "execution_count": 71,
   "id": "a3dd8aaa-2320-4be9-8c99-f821c1c6ff4f",
   "metadata": {},
   "outputs": [
    {
     "name": "stdout",
     "output_type": "stream",
     "text": [
      "SELECT *, `two` - avg(`two`) OVER () AS `two_demean`\n",
      "FROM my_data\n"
     ]
    }
   ],
   "source": [
    "expr = t.mutate(two_demean=t.two - t.two.mean())\n",
    "print(ibis.impala.compile(expr))"
   ]
  },
  {
   "cell_type": "markdown",
   "id": "63dcb358-b57f-4dd2-9dd1-ffd4a2683c05",
   "metadata": {},
   "source": [
    "If you use `mutate` in conjunction with `group_by`, it will add a\n",
    "`PARTITION BY` to the `OVER` specification:"
   ]
  },
  {
   "cell_type": "code",
   "execution_count": 72,
   "id": "b5f13aee-01fa-402f-bc8b-4d2de1c74726",
   "metadata": {},
   "outputs": [
    {
     "name": "stdout",
     "output_type": "stream",
     "text": [
      "SELECT *, `two` - avg(`two`) OVER (PARTITION BY `one`) AS `two_demean`\n",
      "FROM my_data\n"
     ]
    }
   ],
   "source": [
    "expr = (t.group_by('one')\n",
    "        .mutate(two_demean=t.two - t.two.mean()))\n",
    "\n",
    "print(ibis.impala.compile(expr))"
   ]
  },
  {
   "cell_type": "markdown",
   "id": "2c8a7b63-cd27-49cd-aada-22da1ba8b3ea",
   "metadata": {},
   "source": [
    "For functions like `LAG` that require an ordering, we can add an\n",
    "`order_by` call:"
   ]
  },
  {
   "cell_type": "code",
   "execution_count": 73,
   "id": "e5b6871b-a220-4ea7-a6ec-b66ebe7796da",
   "metadata": {},
   "outputs": [
    {
     "name": "stdout",
     "output_type": "stream",
     "text": [
      "SELECT *,\n",
      "       `two` - lag(`two`) OVER (PARTITION BY `one` ORDER BY `two`) AS `two_first_diff`\n",
      "FROM my_data\n"
     ]
    }
   ],
   "source": [
    "expr = (t.group_by('one')\n",
    "        .order_by(t.two) .mutate(two_first_diff=t.two - t.two.lag()))\n",
    "\n",
    "print(ibis.impala.compile(expr))"
   ]
  },
  {
   "cell_type": "markdown",
   "id": "46134a64-5897-4bbf-b175-a22421df1232",
   "metadata": {},
   "source": [
    "For more precision, you can create a `Window` object that also includes\n",
    "a window frame clause:"
   ]
  },
  {
   "cell_type": "code",
   "execution_count": 74,
   "id": "6da1f124-5d3b-42b1-93ee-a3accb65a900",
   "metadata": {},
   "outputs": [
    {
     "name": "stdout",
     "output_type": "stream",
     "text": [
      "SELECT *,\n",
      "       `two` - avg(`two`) OVER (PARTITION BY `one` ROWS BETWEEN 5 PRECEDING AND 5 FOLLOWING) AS `group_demeaned`\n",
      "FROM my_data\n"
     ]
    }
   ],
   "source": [
    "w = ibis.window(group_by='one', preceding=5, following=5)\n",
    "expr = t.mutate(group_demeaned=t.two - t.two.mean().over(w))\n",
    "print(ibis.impala.compile(expr))"
   ]
  },
  {
   "cell_type": "markdown",
   "id": "e63e1503-abd5-4499-ad00-12be22192ed1",
   "metadata": {},
   "source": [
    "## Top-K operations\n",
    "\n",
    "A common SQL idiom is the \"top-K\" or \"top-N\" operation: subsetting a\n",
    "dimension by aggregate statistics:\n",
    "\n",
    "``` sql\n",
    "SELECT key1, count(*) AS `count`\n",
    "FROM table1\n",
    "GROUP BY 1\n",
    "ORDER BY `count` DESC\n",
    "LIMIT 10\n",
    "```\n",
    "\n",
    "Ibis has a special analytic expression `topk`:"
   ]
  },
  {
   "cell_type": "code",
   "execution_count": 75,
   "id": "20d8f28b-0a04-4539-8085-b15d1ca7ad71",
   "metadata": {},
   "outputs": [],
   "source": [
    "expr = t1.key1.topk(10)"
   ]
  },
  {
   "cell_type": "markdown",
   "id": "bdba217c-660f-4984-bc29-c64792da2168",
   "metadata": {},
   "source": [
    "This can be evaluated directly, yielding the above query:"
   ]
  },
  {
   "cell_type": "code",
   "execution_count": 76,
   "id": "85da70b8-f7b9-4c42-b8e9-e67303925c91",
   "metadata": {},
   "outputs": [
    {
     "name": "stdout",
     "output_type": "stream",
     "text": [
      "SELECT *\n",
      "FROM (\n",
      "  SELECT `key1`, count(`key1`) AS `count`\n",
      "  FROM table1\n",
      "  GROUP BY 1\n",
      ") t0\n",
      "ORDER BY `count` DESC\n",
      "LIMIT 10\n"
     ]
    }
   ],
   "source": [
    "print(ibis.impala.compile(expr))"
   ]
  },
  {
   "cell_type": "markdown",
   "id": "be493bd7-50ed-459c-8d78-6469cd7c053e",
   "metadata": {},
   "source": [
    "You can also use `expr` as a filter:"
   ]
  },
  {
   "cell_type": "code",
   "execution_count": 77,
   "id": "97759073-5bef-49e2-9d5e-e97214ed9c27",
   "metadata": {},
   "outputs": [
    {
     "name": "stdout",
     "output_type": "stream",
     "text": [
      "SELECT t0.*\n",
      "FROM table1 t0\n",
      "  LEFT SEMI JOIN (\n",
      "    SELECT *\n",
      "    FROM (\n",
      "      SELECT `key1`, count(`key1`) AS `count`\n",
      "      FROM table1\n",
      "      GROUP BY 1\n",
      "    ) t2\n",
      "    ORDER BY `count` DESC\n",
      "    LIMIT 10\n",
      "  ) t1\n",
      "    ON t0.`key1` = t1.`key1`\n"
     ]
    }
   ],
   "source": [
    "expr2 = t1[expr]\n",
    "print(ibis.impala.compile(expr2))"
   ]
  },
  {
   "cell_type": "markdown",
   "id": "ed819953-17fd-41da-8076-cd4134732aae",
   "metadata": {},
   "source": [
    "## Date / time data\n",
    "\n",
    "See `Timestamp methods <api.timestamp>`{.interpreted-text role=\"ref\"}\n",
    "for a table of available date/time methods.\n",
    "\n",
    "For example, we can do:"
   ]
  },
  {
   "cell_type": "code",
   "execution_count": 78,
   "id": "608a2a7f-2354-4b3a-986a-031cb8f82855",
   "metadata": {},
   "outputs": [
    {
     "name": "stdout",
     "output_type": "stream",
     "text": [
      "SELECT *, extract(`ts`, 'month') AS `month`, extract(`ts`, 'year') AS `year`\n",
      "FROM events\n"
     ]
    }
   ],
   "source": [
    "expr = events.mutate(year=events.ts.year(), \n",
    "                     month=events.ts.month())\n",
    "\n",
    "print(ibis.impala.compile(expr))"
   ]
  },
  {
   "cell_type": "markdown",
   "id": "45e7e348-33d0-4b0a-9fb8-ce0bb2ae9ddd",
   "metadata": {},
   "source": [
    "### Casting to date / time types\n",
    "\n",
    "In many cases, you can convert string values to datetime / timestamp\n",
    "with `strings.cast('timestamp')`, but you may have to do some more\n",
    "reconnaissance into the data if this does not work.\n",
    "\n",
    "### Intervals\n",
    "\n",
    "Ibis has a set of interval APIs that allow you to do date/time\n",
    "arithmetic. For example:"
   ]
  },
  {
   "cell_type": "code",
   "execution_count": 79,
   "id": "6d5849d3-4fc7-4d2f-8996-9582bb693f0a",
   "metadata": {},
   "outputs": [
    {
     "name": "stdout",
     "output_type": "stream",
     "text": [
      "SELECT *\n",
      "FROM events\n",
      "WHERE `ts` > date_sub(cast(now() as timestamp), INTERVAL 1 YEAR)\n"
     ]
    }
   ],
   "source": [
    "expr = events[events.ts > (ibis.now() - ibis.interval(years=1))]\n",
    "print(ibis.impala.compile(expr))"
   ]
  },
  {
   "cell_type": "markdown",
   "id": "331cbe71-dae6-490e-b263-45b891a92b2b",
   "metadata": {},
   "source": [
    "The implementation of each timedelta offset will depend on the query\n",
    "engine.\n",
    "\n",
    "## Buckets and histograms\n",
    "\n",
    "To appear.\n",
    "\n",
    "## Unions\n",
    "\n",
    "SQL dialects often support two kinds of `UNION` operations:\n",
    "\n",
    "-   `UNION`: the combination of *distinct* rows from each table.\n",
    "-   `UNION ALL`: the combination of all rows from each table, whether or\n",
    "    not they are distinct.\n",
    "\n",
    "The Ibis `union` function by distinct is a `UNION ALL`, and you can set\n",
    "`distinct=True` to get the normal `UNION` behavior:"
   ]
  },
  {
   "cell_type": "code",
   "execution_count": 80,
   "id": "030adc92-f51c-4b51-8505-ef63a78b890d",
   "metadata": {},
   "outputs": [
    {
     "name": "stdout",
     "output_type": "stream",
     "text": [
      "SELECT *\n",
      "FROM table1\n",
      "LIMIT 10\n",
      "UNION ALL\n",
      "SELECT *\n",
      "FROM table1\n",
      "LIMIT 10 OFFSET 10\n"
     ]
    }
   ],
   "source": [
    "expr1 = t1.limit(10)\n",
    "expr2 = t1.limit(10, offset=10)\n",
    "\n",
    "expr = expr1.union(expr2)\n",
    "print(ibis.impala.compile(expr))"
   ]
  },
  {
   "cell_type": "markdown",
   "id": "a24b3fa0-ebdf-4438-9fb6-08418f5afcd3",
   "metadata": {},
   "source": [
    "## Esoterica\n",
    "\n",
    "This area will be the spillover for miscellaneous SQL concepts and how\n",
    "queries featuring them can be ported to Ibis.\n",
    "\n",
    "### Common table expressions (CTEs)\n",
    "\n",
    "The simplest SQL CTE is a SQL statement that is used multiple times in a\n",
    "`SELECT` query, which can be \"factored\" out using the `WITH` keyword:\n",
    "\n",
    "``` sql\n",
    "WITH t0 AS (\n",
    "   SELECT region, kind, sum(amount) AS total\n",
    "   FROM purchases\n",
    "   GROUP BY 1, 2\n",
    ")\n",
    "SELECT t0.region, t0.total - t1.total\n",
    "FROM t0\n",
    "  INNER JOIN t0 t1\n",
    "    ON t0.region = t1.region\n",
    "WHERE t0.kind = 'foo' AND t1.kind = 'bar'\n",
    "```\n",
    "\n",
    "Explicit CTEs are not necessary with Ibis. Let's look at an example\n",
    "involving joining an aggregated table on itself after filtering:"
   ]
  },
  {
   "cell_type": "code",
   "execution_count": 81,
   "id": "670acd4b-6b77-4c1f-a863-1e19580226d7",
   "metadata": {},
   "outputs": [],
   "source": [
    "purchases = ibis.table([('region', 'string'),\n",
    "                        ('kind', 'string'),\n",
    "                        ('user', 'int64'),\n",
    "                        ('amount', 'double')], 'purchases')\n",
    "\n",
    "metric = purchases.amount.sum().name('total')\n",
    "agged = (purchases.group_by(['region', 'kind'])\n",
    "         .aggregate(metric))\n",
    "\n",
    "left = agged[agged.kind == 'foo']\n",
    "right = agged[agged.kind == 'bar']\n",
    "\n",
    "result = (left.join(right, left.region == right.region)\n",
    "          [left.region, (left.total - right.total).name('diff')])"
   ]
  },
  {
   "cell_type": "markdown",
   "id": "3caa94a6-0418-4e2c-b00e-e79741ccd239",
   "metadata": {},
   "source": [
    "Ibis automatically creates a CTE for `agged`:"
   ]
  },
  {
   "cell_type": "code",
   "execution_count": 82,
   "id": "a3288564-fc33-4001-b692-86cce9f32919",
   "metadata": {},
   "outputs": [
    {
     "name": "stdout",
     "output_type": "stream",
     "text": [
      "WITH t0 AS (\n",
      "  SELECT `region`, `kind`, sum(`amount`) AS `total`\n",
      "  FROM purchases\n",
      "  GROUP BY 1, 2\n",
      ")\n",
      "SELECT t1.`region`, t1.`total` - t2.`total` AS `diff`\n",
      "FROM (\n",
      "  SELECT *\n",
      "  FROM t0\n",
      "  WHERE `kind` = 'foo'\n",
      ") t1\n",
      "  INNER JOIN (\n",
      "    SELECT *\n",
      "    FROM t0\n",
      "    WHERE `kind` = 'bar'\n",
      "  ) t2\n",
      "    ON t1.`region` = t2.`region`\n"
     ]
    }
   ],
   "source": [
    "print(ibis.impala.compile(result))"
   ]
  }
 ],
 "metadata": {
  "kernelspec": {
   "display_name": "Python 3 (ipykernel)",
   "language": "python",
   "name": "python3"
  },
  "language_info": {
   "codemirror_mode": {
    "name": "ipython",
    "version": 3
   },
   "file_extension": ".py",
   "mimetype": "text/x-python",
   "name": "python",
   "nbconvert_exporter": "python",
   "pygments_lexer": "ipython3",
   "version": "3.9.9"
  }
 },
 "nbformat": 4,
 "nbformat_minor": 5
}
