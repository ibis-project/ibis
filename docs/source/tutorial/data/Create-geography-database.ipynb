{
 "cells": [
  {
   "cell_type": "markdown",
   "metadata": {},
   "source": [
    "# Creation of the geography database\n",
    "\n",
    "This notbook creates the SQLite `geography.db` database, used in the Ibis tutorials.\n",
    "\n",
    "The source of the `countries` table has been obtained from [GeoNames](https://www.geonames.org/countries/).\n",
    "\n",
    "The data for the `gdp` data has been obtained from the [World Bank website](https://data.worldbank.org/indicator/NY.GDP.MKTP.CD)."
   ]
  },
  {
   "cell_type": "code",
   "execution_count": 1,
   "metadata": {},
   "outputs": [],
   "source": [
    "import json\n",
    "import sqlite3\n",
    "\n",
    "\n",
    "with open('geography.json') as f:\n",
    "    data = json.load(f)\n",
    "\n",
    "conn = sqlite3.connect('geography.db')\n",
    "cursor = conn.cursor()\n",
    "\n",
    "cursor.execute('''\n",
    "CREATE TABLE countries (\n",
    "    iso_alpha2 TEXT,\n",
    "    iso_alpha3 TEXT,\n",
    "    iso_numeric INT,\n",
    "    fips TEXT,\n",
    "    name TEXT,\n",
    "    capital TEXT,\n",
    "    area_km2 REAL,\n",
    "    population INT,\n",
    "    continent TEXT);\n",
    "''')\n",
    "cursor.executemany('INSERT INTO countries VALUES (?, ?, ?, ?, ?, ?, ?, ?, ?)',\n",
    "                   data['countries'])\n",
    "\n",
    "cursor.execute('''\n",
    "CREATE TABLE gdp (\n",
    "    country_code TEXT,\n",
    "    year INT,\n",
    "    value REAL);\n",
    "''')\n",
    "cursor.executemany('INSERT INTO gdp VALUES (?, ?, ?)',\n",
    "                   data['gdp'])\n",
    "\n",
    "conn.commit()"
   ]
  },
  {
   "cell_type": "code",
   "execution_count": null,
   "metadata": {},
   "outputs": [],
   "source": []
  }
 ],
 "metadata": {
  "kernelspec": {
   "display_name": "Python 3",
   "language": "python",
   "name": "python3"
  },
  "language_info": {
   "codemirror_mode": {
    "name": "ipython",
    "version": 3
   },
   "file_extension": ".py",
   "mimetype": "text/x-python",
   "name": "python",
   "nbconvert_exporter": "python",
   "pygments_lexer": "ipython3",
   "version": "3.7.6"
  }
 },
 "nbformat": 4,
 "nbformat_minor": 4
}
