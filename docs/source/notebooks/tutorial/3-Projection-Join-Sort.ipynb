{
 "cells": [
  {
   "cell_type": "markdown",
   "metadata": {},
   "source": [
    "# Projection, Joining, and Sorting"
   ]
  },
  {
   "cell_type": "markdown",
   "metadata": {},
   "source": [
    "## Setup"
   ]
  },
  {
   "cell_type": "code",
   "execution_count": null,
   "metadata": {
    "scrolled": true
   },
   "outputs": [],
   "source": [
    "import ibis\n",
    "import os\n",
    "hdfs_port = os.environ.get('IBIS_WEBHDFS_PORT', 50070)\n",
    "hdfs = ibis.hdfs_connect(host='quickstart.cloudera', port=hdfs_port)\n",
    "con = ibis.impala.connect(host='quickstart.cloudera', database='ibis_testing',\n",
    "                          hdfs_client=hdfs)\n",
    "print('Hello!')"
   ]
  },
  {
   "cell_type": "markdown",
   "metadata": {},
   "source": [
    "## Projections: adding/selecting columns\n",
    "\n",
    "Projections are the general way for adding new columns to tables, or selecting or removing existing ones."
   ]
  },
  {
   "cell_type": "code",
   "execution_count": null,
   "metadata": {},
   "outputs": [],
   "source": [
    "table = con.table('functional_alltypes')\n",
    "table.limit(5)"
   ]
  },
  {
   "cell_type": "markdown",
   "metadata": {},
   "source": [
    "First, the basics: selecting columns:"
   ]
  },
  {
   "cell_type": "code",
   "execution_count": null,
   "metadata": {},
   "outputs": [],
   "source": [
    "proj = table['bool_col', 'int_col', 'double_col']\n",
    "\n",
    "proj.limit(5)"
   ]
  },
  {
   "cell_type": "markdown",
   "metadata": {},
   "source": [
    "You can make a list of columns you want, too, and pass that:"
   ]
  },
  {
   "cell_type": "code",
   "execution_count": null,
   "metadata": {},
   "outputs": [],
   "source": [
    "to_select = ['bool_col', 'int_col']\n",
    "table[to_select].limit(5)"
   ]
  },
  {
   "cell_type": "markdown",
   "metadata": {},
   "source": [
    "You can also use the explicit `projection` or `select` functions"
   ]
  },
  {
   "cell_type": "code",
   "execution_count": null,
   "metadata": {},
   "outputs": [],
   "source": [
    "table.select(['int_col', 'double_col']).limit(5)"
   ]
  },
  {
   "cell_type": "markdown",
   "metadata": {},
   "source": [
    "We can add new columns by using named column expressions"
   ]
  },
  {
   "cell_type": "code",
   "execution_count": null,
   "metadata": {},
   "outputs": [],
   "source": [
    "bigger_expr = (table.int_col * 2).name('bigger_ints')\n",
    "proj2 = table['int_col', bigger_expr]\n",
    "proj2.limit(5)"
   ]
  },
  {
   "cell_type": "markdown",
   "metadata": {},
   "source": [
    "In more complicated projections involving joins, we may need to refer to all of the columns in a table at once. This is how `add_column` works. We just pass the whole table in the projection:"
   ]
  },
  {
   "cell_type": "code",
   "execution_count": null,
   "metadata": {},
   "outputs": [],
   "source": [
    "table.select([table, bigger_expr]).limit(5)"
   ]
  },
  {
   "cell_type": "markdown",
   "metadata": {},
   "source": [
    "\n",
    "To use constants in projections, we have to use a special `ibis.literal` function"
   ]
  },
  {
   "cell_type": "code",
   "execution_count": null,
   "metadata": {},
   "outputs": [],
   "source": [
    "foo_constant = ibis.literal(5).name('foo')\n",
    "table.select([table.bigint_col, foo_constant]).limit(5)"
   ]
  },
  {
   "cell_type": "markdown",
   "metadata": {},
   "source": [
    "## Joins\n",
    "\n",
    "Ibis attempts to provide good support for all the standard relational joins supported by Impala, Hive, and other relational databases.\n",
    "\n",
    "- inner, outer, left, right joins\n",
    "- semi and anti-joins\n",
    "\n",
    "To illustrate the joins we'll use the TPC-H tables for now"
   ]
  },
  {
   "cell_type": "code",
   "execution_count": null,
   "metadata": {},
   "outputs": [],
   "source": [
    "region = con.table('tpch_region')\n",
    "nation = con.table('tpch_nation')\n",
    "customer = con.table('tpch_customer')\n",
    "lineitem = con.table('tpch_lineitem')"
   ]
  },
  {
   "cell_type": "markdown",
   "metadata": {},
   "source": [
    "`region` and `nation` are connected by their respective `regionkey` columns"
   ]
  },
  {
   "cell_type": "code",
   "execution_count": null,
   "metadata": {},
   "outputs": [],
   "source": [
    "join_expr = region.r_regionkey == nation.n_regionkey\n",
    "joined = region.inner_join(nation, join_expr)"
   ]
  },
  {
   "cell_type": "markdown",
   "metadata": {},
   "source": [
    "If you have multiple join conditions, either compose them yourself (like filters) or pass a list to the join function\n",
    "\n",
    "    join_exprs = [cond1, cond2, cond3]\n",
    "    joined = table1.inner_join(table2, join_exprs)"
   ]
  },
  {
   "cell_type": "markdown",
   "metadata": {},
   "source": [
    "Once you've joined tables, you don't necessarily have anything yet. I'll put it in big letters\n",
    "\n",
    "### Joins are declarations of intent\n",
    "\n",
    "After calling the join function (which validates the join condition, of course), you may perform any number of other operations:\n",
    "\n",
    "- Aggregation\n",
    "- Projection\n",
    "- Filtering\n",
    "\n",
    "and so forth. Most importantly, depending on your schemas, the joined tables may include overlapping column names that could create a conflict if not addressed directly. Some other systems, like pandas, handle this by applying suffixes to the overlapping column names and computing the fully joined tables immediately. We don't do this.\n",
    "\n",
    "So, with the above data, suppose we just want the region name and all the nation table data. We can then make a projection on the joined reference:"
   ]
  },
  {
   "cell_type": "code",
   "execution_count": null,
   "metadata": {},
   "outputs": [],
   "source": [
    "table_ref = joined[nation, region.r_name.name('region')]\n",
    "table_ref.columns"
   ]
  },
  {
   "cell_type": "code",
   "execution_count": null,
   "metadata": {},
   "outputs": [],
   "source": [
    "table_ref.limit(5)"
   ]
  },
  {
   "cell_type": "code",
   "execution_count": null,
   "metadata": {},
   "outputs": [],
   "source": [
    "agged = table_ref.aggregate([table_ref.n_name.count().name('nrows')], by=['region'])\n",
    "agged"
   ]
  },
  {
   "cell_type": "markdown",
   "metadata": {},
   "source": [
    "Things like `group_by` work with unmaterialized joins, too, as you would hope. "
   ]
  },
  {
   "cell_type": "code",
   "execution_count": null,
   "metadata": {},
   "outputs": [],
   "source": [
    "joined.group_by(region.r_name).size()"
   ]
  },
  {
   "cell_type": "markdown",
   "metadata": {},
   "source": [
    "### Explicit join materialization\n",
    "\n",
    "If you're lucky enough to have two table schemas with no overlapping column names (lucky you!), the join can be *materialized* without having to perform some other relational algebra operation:\n",
    "\n",
    "    joined = a.inner_join(b, join_expr).materialize()\n",
    "    \n",
    "Note that this is equivalent to doing\n",
    "\n",
    "    joined = a.join(b, join_expr)[a, b]\n",
    "   \n",
    "i.e., joining and then selecting all columns from both joined tables. If there is a name overlap, just like with the equivalent projection, there will be an immediate error."
   ]
  },
  {
   "cell_type": "markdown",
   "metadata": {},
   "source": [
    "### Writing down join keys\n",
    "\n",
    "In addition to having explicit comparison expressions as join keys, you can also write down column names, or use expressions referencing the joined tables, e.g.:\n",
    "\n",
    "    joined = a.join(b, [('a_key1', 'b_key2')])\n",
    "    \n",
    "    joined2 = a.join(b, [(left_expr, right_expr)])\n",
    "\n",
    "    joined3 = a.join(b, ['common_key'])\n",
    "\n",
    "These will be compared for equality when performing the join; if you want non-equality conditions in the join, you will have to form those yourself."
   ]
  },
  {
   "cell_type": "markdown",
   "metadata": {},
   "source": [
    "### Join referential nuances\n",
    "\n",
    "There's nothing to stop you from doing many joins in succession, and, in fact, with complex schemas it will be to your advantage to build the joined table references for your analysis first, then reuse the objects as you go:\n",
    "\n",
    "    joined_ref = (a.join(b, a.key1 == b.key2)\n",
    "                   .join(c, [a.key3 == c.key4, b.key5 == c.key6]))\n",
    "\n",
    "Note that, at least right now, you need to provide explicit comparison expressions (or tuples of column references) referencing the joined tables."
   ]
  },
  {
   "cell_type": "markdown",
   "metadata": {},
   "source": [
    "### Aggregating joined table with metrics involving more than one base reference\n",
    "\n",
    "Let's consider the case similar to the SQL query\n",
    "\n",
    "    SELECT a.key, sum(a.foo - b.bar) AS metric\n",
    "    FROM a\n",
    "      JOIN b\n",
    "        ON a.key = b.key\n",
    "    GROUP BY 1\n",
    "    \n",
    "I'll use a somewhat contrived example using the data we already have to show you what this looks like. Take the `functional.alltypes` table, and suppose we want to compute the **mean absolute deviation (MAD) from the hourly mean of the double_col**. Silly, I know, but bear with me.\n",
    "\n",
    "First, the hourly mean:"
   ]
  },
  {
   "cell_type": "code",
   "execution_count": null,
   "metadata": {},
   "outputs": [],
   "source": [
    "table = con.table('functional_alltypes')\n",
    "\n",
    "hour_dim = table.timestamp_col.hour().name('hour')\n",
    "\n",
    "hourly_mean = (table.group_by(hour_dim)\n",
    "               .aggregate([table.double_col.mean().name('avg_double')]))\n",
    "hourly_mean"
   ]
  },
  {
   "cell_type": "markdown",
   "metadata": {},
   "source": [
    "Okay, great, now how about the MAD? The only trick here is that we can form an aggregate metric from the two tables, and we then have to join it later. Ibis **will not** figure out how to join the tables automatically for us. "
   ]
  },
  {
   "cell_type": "code",
   "execution_count": null,
   "metadata": {},
   "outputs": [],
   "source": [
    "mad = (table.double_col - hourly_mean.avg_double).abs().mean().name('MAD')"
   ]
  },
  {
   "cell_type": "markdown",
   "metadata": {},
   "source": [
    "This metric is only valid if used in the context of `table` joined with `hourly_mean`, so let's do that. Writing down the join condition is simply a matter of writing:"
   ]
  },
  {
   "cell_type": "code",
   "execution_count": null,
   "metadata": {},
   "outputs": [],
   "source": [
    "join_expr = hour_dim == hourly_mean.hour"
   ]
  },
  {
   "cell_type": "markdown",
   "metadata": {},
   "source": [
    "Now let's compute the MAD grouped by `string_col`"
   ]
  },
  {
   "cell_type": "code",
   "execution_count": null,
   "metadata": {},
   "outputs": [],
   "source": [
    "result = (table.inner_join(hourly_mean, join_expr)\n",
    "          .group_by(table.string_col)\n",
    "          .aggregate([mad]))\n",
    "result"
   ]
  },
  {
   "cell_type": "markdown",
   "metadata": {},
   "source": [
    "## Sorting\n",
    "\n",
    "Sorting tables works similarly to the SQL `ORDER BY` clause. We use the `sort_by` function and pass one of the following:\n",
    "\n",
    "- Column names\n",
    "- Column expressions\n",
    "- One of these, with a False (descending order) or True (ascending order) qualifier\n",
    "\n",
    "So, to sort by `total` in ascending order we write:\n",
    "\n",
    "    table.sort_by('total')\n",
    "\n",
    "or by `key` then by `total` in descending order\n",
    "\n",
    "    table.sort_by(['key', ('total', False)])\n",
    "    \n",
    "For descending sort order, there is a convenience function `desc` which can wrap sort keys\n",
    "\n",
    "    from ibis import desc\n",
    "    table.sort_by(['key', desc(table.total)])"
   ]
  },
  {
   "cell_type": "markdown",
   "metadata": {},
   "source": [
    "Here's a concrete example involving filters, custom grouping dimension, and sorting"
   ]
  },
  {
   "cell_type": "code",
   "execution_count": null,
   "metadata": {},
   "outputs": [],
   "source": [
    "table = con.table('functional_alltypes')\n",
    "\n",
    "keys = ['string_col', (table.bigint_col > 40).ifelse('high', 'low').name('bigint_tier')]\n",
    "metrics = [table.double_col.sum().name('total')]\n",
    "\n",
    "agged = (table\n",
    "         .filter(table.int_col < 8)\n",
    "         .group_by(keys)\n",
    "         .aggregate(metrics))\n",
    "\n",
    "sorted_agged = agged.sort_by(['bigint_tier', ('total', False)])\n",
    "sorted_agged"
   ]
  },
  {
   "cell_type": "markdown",
   "metadata": {},
   "source": [
    "For sorting in descending order, you can use the special `ibis.desc` function:"
   ]
  },
  {
   "cell_type": "code",
   "execution_count": null,
   "metadata": {},
   "outputs": [],
   "source": [
    "agged.sort_by(ibis.desc('total'))"
   ]
  }
 ],
 "metadata": {
  "kernelspec": {
   "display_name": "Python 3",
   "language": "python",
   "name": "python3"
  },
  "language_info": {
   "codemirror_mode": {
    "name": "ipython",
    "version": 3
   },
   "file_extension": ".py",
   "mimetype": "text/x-python",
   "name": "python",
   "nbconvert_exporter": "python",
   "pygments_lexer": "ipython3",
   "version": "3.6.7"
  }
 },
 "nbformat": 4,
 "nbformat_minor": 1
}
