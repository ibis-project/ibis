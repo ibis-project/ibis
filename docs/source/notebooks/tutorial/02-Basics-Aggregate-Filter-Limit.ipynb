{
 "cells": [
  {
   "cell_type": "markdown",
   "metadata": {},
   "source": [
    "# Basics: Aggregation, filtering, limits"
   ]
  },
  {
   "cell_type": "markdown",
   "metadata": {},
   "source": [
    "Now that you have ibis installed and connecting to your Impala, let's get our feet wet."
   ]
  },
  {
   "cell_type": "code",
   "execution_count": null,
   "metadata": {
    "scrolled": true
   },
   "outputs": [],
   "source": [
    "import ibis\n",
    "import os\n",
    "hdfs_port = os.environ.get('IBIS_WEBHDFS_PORT', 50070)\n",
    "hdfs = ibis.hdfs_connect(host='impala', port=hdfs_port)\n",
    "con = ibis.impala.connect(host='impala', database='ibis_testing',\n",
    "                          hdfs_client=hdfs)"
   ]
  },
  {
   "cell_type": "markdown",
   "metadata": {},
   "source": [
    "## Accessing an Impala table\n",
    "\n",
    "The optional `database` paramter allows to fully qualify the table."
   ]
  },
  {
   "cell_type": "code",
   "execution_count": null,
   "metadata": {},
   "outputs": [],
   "source": [
    "table = con.table('functional_alltypes')\n",
    "table = con.table('functional_alltypes', database='ibis_testing')"
   ]
  },
  {
   "cell_type": "markdown",
   "metadata": {},
   "source": [
    "## Column selection and basic expressions\n",
    "\n",
    "Selecting columns from a table works just like pandas"
   ]
  },
  {
   "cell_type": "code",
   "execution_count": null,
   "metadata": {},
   "outputs": [],
   "source": [
    "col = table.double_col\n",
    "\n",
    "# alternately\n",
    "col2 = table['bigint_col']"
   ]
  },
  {
   "cell_type": "markdown",
   "metadata": {},
   "source": [
    "Table columns are equipped with a variety of math operations and other methods to assist in writing your analytics. For example:"
   ]
  },
  {
   "cell_type": "code",
   "execution_count": null,
   "metadata": {},
   "outputs": [],
   "source": [
    "expr = col.log2() - 1"
   ]
  },
  {
   "cell_type": "markdown",
   "metadata": {},
   "source": [
    "Some operations transform arrays to arrays, while others aggregate, like `sum` and `mean`:"
   ]
  },
  {
   "cell_type": "code",
   "execution_count": null,
   "metadata": {},
   "outputs": [],
   "source": [
    "expr2 = expr.sum()"
   ]
  },
  {
   "cell_type": "markdown",
   "metadata": {},
   "source": [
    "The methods that are available on columns depend on the type of the column. For example, you won't see the `substr` or `upper` methods for strings on numeric columns:"
   ]
  },
  {
   "cell_type": "code",
   "execution_count": null,
   "metadata": {},
   "outputs": [],
   "source": [
    "substr_expr = table.string_col.upper().substr(0, 2)"
   ]
  },
  {
   "cell_type": "markdown",
   "metadata": {},
   "source": [
    "Notice that printing the expressions to the console does not actually do anything, and shows a graphical representation of the expression you've built.\n",
    "\n",
    "**Note: don't worry too much about the details of the expression tree that's outputted, it's very likely to change over time**"
   ]
  },
  {
   "cell_type": "code",
   "execution_count": null,
   "metadata": {},
   "outputs": [],
   "source": [
    "expr2"
   ]
  },
  {
   "cell_type": "markdown",
   "metadata": {},
   "source": [
    "We can also execute an expression by calling `execute` on the Impala connection object"
   ]
  },
  {
   "cell_type": "code",
   "execution_count": null,
   "metadata": {},
   "outputs": [],
   "source": [
    "con.execute(col.sum())"
   ]
  },
  {
   "cell_type": "markdown",
   "metadata": {},
   "source": [
    "There's a shortcut to make this a little more convenient in interactive use"
   ]
  },
  {
   "cell_type": "markdown",
   "metadata": {},
   "source": [
    "## Interactive mode\n",
    "\n",
    "\n",
    "Many Ibis expressions can be immediately executed against the database, and it may improve your productivity to have the executed for you whenever you try to print the expression in the console / IPython notebook.\n",
    "\n",
    "To do this, we have an *interactive* mode available, which can be turned on/off like so:"
   ]
  },
  {
   "cell_type": "code",
   "execution_count": null,
   "metadata": {},
   "outputs": [],
   "source": [
    "ibis.options.interactive = True"
   ]
  },
  {
   "cell_type": "markdown",
   "metadata": {},
   "source": [
    "Now, any expressions you write will be executed right away"
   ]
  },
  {
   "cell_type": "code",
   "execution_count": null,
   "metadata": {},
   "outputs": [],
   "source": [
    "table.limit(10)"
   ]
  },
  {
   "cell_type": "markdown",
   "metadata": {},
   "source": [
    "You can select a row range with slicing syntax:"
   ]
  },
  {
   "cell_type": "code",
   "execution_count": null,
   "metadata": {},
   "outputs": [],
   "source": [
    "table.double_col.sum()"
   ]
  },
  {
   "cell_type": "markdown",
   "metadata": {},
   "source": [
    "Don't worry about the syntax here, but expressions resulting in tabular output will come back as a pandas DataFrame by default:"
   ]
  },
  {
   "cell_type": "code",
   "execution_count": null,
   "metadata": {},
   "outputs": [],
   "source": [
    "metrics = [table.double_col.sum().name('total')]\n",
    "expr = table.group_by('string_col').aggregate(metrics)\n",
    "expr"
   ]
  },
  {
   "cell_type": "markdown",
   "metadata": {},
   "source": [
    "## Verbose mode and logging\n",
    "\n",
    "\n",
    "You may want to see or log all the Impala queries that Ibis executes under the hood. To do that, use the `options.verbose` option:"
   ]
  },
  {
   "cell_type": "code",
   "execution_count": null,
   "metadata": {},
   "outputs": [],
   "source": [
    "ibis.options.verbose = True\n",
    "\n",
    "metrics = [table.double_col.sum().name('total')]\n",
    "expr = table.group_by('string_col').aggregate(metrics)\n",
    "expr"
   ]
  },
  {
   "cell_type": "code",
   "execution_count": null,
   "metadata": {},
   "outputs": [],
   "source": [
    "queries = []\n",
    "def logger(x):\n",
    "    queries.append(x)\n",
    "    \n",
    "ibis.options.verbose_log = logger\n",
    "\n",
    "expr.execute()\n",
    "expr.execute()\n",
    "\n",
    "queries"
   ]
  },
  {
   "cell_type": "code",
   "execution_count": null,
   "metadata": {},
   "outputs": [],
   "source": [
    "ibis.options.verbose_log = print\n",
    "ibis.options.verbose = False"
   ]
  },
  {
   "cell_type": "markdown",
   "metadata": {},
   "source": [
    "Aggregation basics\n",
    "---\n",
    "\n",
    "One of the essential table API functions is `aggregate`. Aggregation involves the following\n",
    "\n",
    "- One or more *named* aggregate expressions, or *reductions*\n",
    "- Zero or more grouping expressions or column names\n",
    "\n",
    "This ends up working very similarly to pandas's **groupby** mechanism.\n",
    "\n",
    "Let's start with a simple reduction:"
   ]
  },
  {
   "cell_type": "code",
   "execution_count": null,
   "metadata": {},
   "outputs": [],
   "source": [
    "metric = table.double_col.sum()"
   ]
  },
  {
   "cell_type": "markdown",
   "metadata": {},
   "source": [
    "As you saw above, you can execute this immediately and obtain a value:"
   ]
  },
  {
   "cell_type": "code",
   "execution_count": null,
   "metadata": {},
   "outputs": [],
   "source": [
    "metric"
   ]
  },
  {
   "cell_type": "markdown",
   "metadata": {},
   "source": [
    "The reduced column can be more complex; for example, you could count the number of null values in a column like so:"
   ]
  },
  {
   "cell_type": "code",
   "execution_count": null,
   "metadata": {},
   "outputs": [],
   "source": [
    "table.double_col.isnull().sum()"
   ]
  },
  {
   "cell_type": "markdown",
   "metadata": {},
   "source": [
    "To aggregate a table, potentially with grouping keys, we have to give the reduction a name and call `aggregate`"
   ]
  },
  {
   "cell_type": "code",
   "execution_count": null,
   "metadata": {},
   "outputs": [],
   "source": [
    "metric = metric.name('double_total')\n",
    "expr = table.aggregate([metric])\n",
    "result = con.execute(expr)\n",
    "result"
   ]
  },
  {
   "cell_type": "markdown",
   "metadata": {},
   "source": [
    "The result here is actually a pandas DataFrame with 1 row and just the one column. We can add another metric and add a grouping key"
   ]
  },
  {
   "cell_type": "code",
   "execution_count": null,
   "metadata": {},
   "outputs": [],
   "source": [
    "metric2 = (table.bigint_col + 1).log10().max().name('some_metric')\n",
    "\n",
    "expr = table.aggregate([metric, metric2], by=['string_col'])\n",
    "expr"
   ]
  },
  {
   "cell_type": "markdown",
   "metadata": {},
   "source": [
    "We provide a convenience `group_by`, a la pandas, to make this a little more composable:"
   ]
  },
  {
   "cell_type": "code",
   "execution_count": null,
   "metadata": {},
   "outputs": [],
   "source": [
    "expr = (table.group_by('string_col')\n",
    "        .aggregate([metric, metric2]))\n",
    "expr"
   ]
  },
  {
   "cell_type": "markdown",
   "metadata": {},
   "source": [
    "You can also group by named column expressions"
   ]
  },
  {
   "cell_type": "code",
   "execution_count": null,
   "metadata": {},
   "outputs": [],
   "source": [
    "keys = [table.timestamp_col.hour().name('hour'), 'string_col']\n",
    "\n",
    "expr = table.group_by(keys).aggregate([metric])\n",
    "\n",
    "# Top 10 by double_total, more on this later\n",
    "expr.sort_by([('double_total', False)]).limit(10)"
   ]
  },
  {
   "cell_type": "markdown",
   "metadata": {},
   "source": [
    "In most cases, an aggregation by itself can be evaluated:"
   ]
  },
  {
   "cell_type": "code",
   "execution_count": null,
   "metadata": {},
   "outputs": [],
   "source": [
    "table.double_col.mean()"
   ]
  },
  {
   "cell_type": "markdown",
   "metadata": {},
   "source": [
    "This can also be done in simple cases along with `group_by`:"
   ]
  },
  {
   "cell_type": "code",
   "execution_count": null,
   "metadata": {},
   "outputs": [],
   "source": [
    "table.group_by('string_col').double_col.mean()"
   ]
  },
  {
   "cell_type": "markdown",
   "metadata": {},
   "source": [
    "Many reduction functions have a default expression name, unlike many other Ibis expressions (for now!), to make some common analyses easier:"
   ]
  },
  {
   "cell_type": "code",
   "execution_count": null,
   "metadata": {},
   "outputs": [],
   "source": [
    "d = table.double_col\n",
    "\n",
    "(table.group_by('string_col')\n",
    " .aggregate([d.sum(), d.mean(), d.min(), d.max()]))"
   ]
  },
  {
   "cell_type": "markdown",
   "metadata": {},
   "source": [
    "Of course, for this _particular_ case you can always use `summary`"
   ]
  },
  {
   "cell_type": "code",
   "execution_count": null,
   "metadata": {},
   "outputs": [],
   "source": [
    "table.group_by('string_col').double_col.summary()"
   ]
  },
  {
   "cell_type": "markdown",
   "metadata": {},
   "source": [
    "## Filtering\n",
    "\n",
    "Filtering tables works similarly to pandas"
   ]
  },
  {
   "cell_type": "code",
   "execution_count": null,
   "metadata": {},
   "outputs": [],
   "source": [
    "table.aggregate([table.bigint_col.max().name('bigint_max'),\n",
    "                 table.bigint_col.min().name('bigint_min'),\n",
    "                 table.int_col.max().name('int_max'),\n",
    "                 table.int_col.min().name('int_min')])"
   ]
  },
  {
   "cell_type": "code",
   "execution_count": null,
   "metadata": {},
   "outputs": [],
   "source": [
    "table.count()"
   ]
  },
  {
   "cell_type": "code",
   "execution_count": null,
   "metadata": {},
   "outputs": [],
   "source": [
    "table[table.bigint_col > 50].count()"
   ]
  },
  {
   "cell_type": "markdown",
   "metadata": {},
   "source": [
    "Filters can be composed using & (and), | (or), and other logical array operators"
   ]
  },
  {
   "cell_type": "code",
   "execution_count": null,
   "metadata": {},
   "outputs": [],
   "source": [
    "cond1 = table.bigint_col > 50\n",
    "cond2 = table.int_col.between(2, 7)\n",
    "table[cond1 | cond2].count()"
   ]
  },
  {
   "cell_type": "markdown",
   "metadata": {},
   "source": [
    "There's a `filter` function that allows you to pass a list of conditions (that are all required to hold):"
   ]
  },
  {
   "cell_type": "code",
   "execution_count": null,
   "metadata": {},
   "outputs": [],
   "source": [
    "table.filter([cond1, cond2]).count()"
   ]
  },
  {
   "cell_type": "markdown",
   "metadata": {},
   "source": [
    "Note this is the same as &-ing the boolean conditions yourself:"
   ]
  },
  {
   "cell_type": "code",
   "execution_count": null,
   "metadata": {},
   "outputs": [],
   "source": [
    "table[cond1 & cond2].count()"
   ]
  },
  {
   "cell_type": "markdown",
   "metadata": {},
   "source": [
    "## Limits\n",
    "\n",
    "\n",
    "Like in SQL, the `limit` function selects the indicated numbers of rows from the beginning of a table's result set"
   ]
  },
  {
   "cell_type": "code",
   "execution_count": null,
   "metadata": {},
   "outputs": [],
   "source": [
    "table.limit(2)"
   ]
  }
 ],
 "metadata": {
  "kernelspec": {
   "display_name": "Python 3",
   "language": "python",
   "name": "python3"
  },
  "language_info": {
   "codemirror_mode": {
    "name": "ipython",
    "version": 3
   },
   "file_extension": ".py",
   "mimetype": "text/x-python",
   "name": "python",
   "nbconvert_exporter": "python",
   "pygments_lexer": "ipython3",
   "version": "3.6.3"
  }
 },
 "nbformat": 4,
 "nbformat_minor": 1
}
