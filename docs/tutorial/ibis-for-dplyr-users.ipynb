{
 "cells": [
  {
   "cell_type": "markdown",
   "metadata": {},
   "source": [
    "# Ibis for dplyr users"
   ]
  },
  {
   "attachments": {},
   "cell_type": "markdown",
   "metadata": {},
   "source": [
    "[R](https://www.r-project.org/) users familiar with [dplyr](https://dplyr.tidyverse.org/) and other packages in the [Tidyverse](https://www.tidyverse.org/) are likely to find Ibis familiar.\n",
    "In fact, some Ibis features were even inspired by similar features in the [Tidyverse](https://www.tidyverse.org/).\n",
    "\n",
    "However, due to differences between Python and R and the design and goals of Ibis itself, you may notice some big differences right away:\n",
    "\n",
    "- **No pipe:** The handy [magrittr pipe](https://magrittr.tidyverse.org/) (`%>%`) or R's newer native pipe (`|>`) don't exist in Python so you instead have to chain sequences of operations together with a period (`.`). The `.` in Python is analogous to R's `$` which lets you access attributes and methods on objects.\n",
    "- **No unquoted column names:** Non-standard evaluation is common in R but not present in Python. To reference a column in Ibis, you can pass a string, property on a table (e.g., `tbl.some_column`), or you can make use of [selectors](https://ibis-project.org/api/selectors/).\n",
    "- **Ibis is lazy by default:** Similar to [dbplyr](https://dbplyr.tidyverse.org/) and its `collect()` method, Ibis does not evaluate our queries until we call `.to_pandas()`. For the purposes of this document, we set `ibis.options.interactive = True` which limits results to 10 rows, executes automatically, and prints a nicely-formatted table."
   ]
  },
  {
   "attachments": {},
   "cell_type": "markdown",
   "metadata": {},
   "source": [
    "Using the same example data and similar operations as in [Introduction to dplyr](https://dplyr.tidyverse.org/articles/dplyr.html), below you will find some examples of the more common dplyr operations and their Ibis equivalents."
   ]
  },
  {
   "attachments": {},
   "cell_type": "markdown",
   "metadata": {},
   "source": [
    "## Loading Ibis"
   ]
  },
  {
   "attachments": {},
   "cell_type": "markdown",
   "metadata": {},
   "source": [
    "To start using dplyr in R we would run:\n",
    "\n",
    "```r\n",
    "library(dplyr)\n",
    "```\n",
    "\n",
    "To load Ibis:"
   ]
  },
  {
   "cell_type": "code",
   "execution_count": null,
   "metadata": {},
   "outputs": [],
   "source": [
    "import ibis"
   ]
  },
  {
   "attachments": {},
   "cell_type": "markdown",
   "metadata": {},
   "source": [
    "And then also load and alias some helpers to make our code more concise:"
   ]
  },
  {
   "cell_type": "code",
   "execution_count": null,
   "metadata": {},
   "outputs": [],
   "source": [
    "import ibis.selectors as s\n",
    "from ibis import _"
   ]
  },
  {
   "attachments": {},
   "cell_type": "markdown",
   "metadata": {},
   "source": [
    "Last, as mentioned above, to get Ibis to automatically execute our queries and show the results in a nicely-formatted table, we run:"
   ]
  },
  {
   "cell_type": "code",
   "execution_count": null,
   "metadata": {},
   "outputs": [],
   "source": [
    "ibis.options.interactive = True"
   ]
  },
  {
   "attachments": {},
   "cell_type": "markdown",
   "metadata": {},
   "source": [
    "## Loading example data"
   ]
  },
  {
   "cell_type": "markdown",
   "metadata": {},
   "source": [
    "In R, datasets are typically lazily loaded with packages. For instance, the `starwars` dataset is packaged with dplyr, but is not loaded in memory before you start using it. Ibis provides many datasets in the `examples` module. So to be able to use the `starwars` dataset, you can use:"
   ]
  },
  {
   "cell_type": "code",
   "execution_count": null,
   "metadata": {},
   "outputs": [],
   "source": [
    "starwars = ibis.examples.starwars.fetch()"
   ]
  },
  {
   "attachments": {},
   "cell_type": "markdown",
   "metadata": {},
   "source": [
    "Similar to dplyr, if we evaluate the name of a table, we get a nicely-formatted table:"
   ]
  },
  {
   "cell_type": "code",
   "execution_count": null,
   "metadata": {},
   "outputs": [],
   "source": [
    "starwars"
   ]
  },
  {
   "attachments": {},
   "cell_type": "markdown",
   "metadata": {},
   "source": [
    "In addition to printing a nicely-formatted table and automatically executing, setting `ibis.options.interactive` to `True` also causes our query to be limited to 10 rows. To get Ibis to give us all rows, we can directly call `to_pandas` and save the result as a pandas DataFrame:"
   ]
  },
  {
   "cell_type": "code",
   "execution_count": null,
   "metadata": {},
   "outputs": [],
   "source": [
    "starwars_df = starwars.to_pandas()"
   ]
  },
  {
   "attachments": {},
   "cell_type": "markdown",
   "metadata": {},
   "source": [
    "Which then gives us all of the data as a pandas DataFrame:"
   ]
  },
  {
   "cell_type": "code",
   "execution_count": null,
   "metadata": {},
   "outputs": [],
   "source": [
    "starwars_df"
   ]
  },
  {
   "attachments": {},
   "cell_type": "markdown",
   "metadata": {},
   "source": [
    "Directly calling `to_pandas` and saving the result to a variable is useful for passing the results of Ibis table expressions to other packages (e.g., matplotlib)."
   ]
  },
  {
   "attachments": {},
   "cell_type": "markdown",
   "metadata": {},
   "source": [
    "## Inspecting the dataset with `head()`"
   ]
  },
  {
   "cell_type": "markdown",
   "metadata": {},
   "source": [
    "Just like in R, you can use `head()` to inspect the beginning of a dataset. You can also specify the number of rows you want to get back by using the parameter `n` (default `n = 5`).\n",
    "\n",
    "In R:\n",
    "\n",
    "```r\n",
    "head(starwars) # or starwars |> head()\n",
    "```\n",
    "\n",
    "With Ibis:"
   ]
  },
  {
   "cell_type": "code",
   "execution_count": null,
   "metadata": {},
   "outputs": [],
   "source": [
    "starwars.head(6)"
   ]
  },
  {
   "cell_type": "markdown",
   "metadata": {},
   "source": [
    "There is no `tail()` in Ibis because most databases do not support this operation.\n",
    "\n",
    "Another method you can use to limit the number of rows returned by a query is `limit()` which also takes the `n` parameter."
   ]
  },
  {
   "cell_type": "code",
   "execution_count": null,
   "metadata": {},
   "outputs": [],
   "source": [
    "starwars.limit(3)"
   ]
  },
  {
   "attachments": {},
   "cell_type": "markdown",
   "metadata": {},
   "source": [
    "## Filtering rows with filter()"
   ]
  },
  {
   "attachments": {},
   "cell_type": "markdown",
   "metadata": {},
   "source": [
    "Ibis, like dplyr, has the `filter` method to select rows based on conditions.\n",
    "\n",
    "With dplyr:\n",
    "\n",
    "```r\n",
    "starwars |>\n",
    "  filter(skin_color == \"light\")\n",
    "```\n",
    "\n",
    "In Ibis:"
   ]
  },
  {
   "cell_type": "code",
   "execution_count": null,
   "metadata": {},
   "outputs": [],
   "source": [
    "starwars.filter(_.skin_color == \"light\")"
   ]
  },
  {
   "cell_type": "markdown",
   "metadata": {},
   "source": [
    "In dplyr, you can specify multiple conditions separated with `,` that are then combined with the `&` operator:\n",
    "\n",
    "```r\n",
    "starwars |>\n",
    "  filter(skin_color == \"light\", eye_color == \"brown\")\n",
    "```\n",
    "\n",
    "In Ibis, you can do the same by putting multiple conditions in a list:"
   ]
  },
  {
   "cell_type": "code",
   "execution_count": null,
   "metadata": {},
   "outputs": [],
   "source": [
    "starwars.filter([_.skin_color == \"light\", _.eye_color == \"brown\"])"
   ]
  },
  {
   "attachments": {},
   "cell_type": "markdown",
   "metadata": {},
   "source": [
    "In previous code, we used the `_` helper we imported earlier. The `_` is shorthand for the table returned by the previous step in the chained sequence of operations (in this case, `starwars`). We could have also written the more verbose form,\n",
    "\n",
    "```python\n",
    "starwars.filter([starwars.skin_color == \"light\", starwars.eye_color == \"brown\"])\n",
    "```"
   ]
  },
  {
   "attachments": {},
   "cell_type": "markdown",
   "metadata": {},
   "source": [
    "If you want to combine multiple conditions, in dplyr, you could do:\n",
    "\n",
    "```r\n",
    "starwars |>\n",
    "  filter(\n",
    "      (skin_color == \"light\" & eye_color == \"brown\") |\n",
    "       species == \"Droid\"\n",
    "  )\n",
    "```\n",
    "\n",
    "In Ibis, this would be:"
   ]
  },
  {
   "cell_type": "code",
   "execution_count": null,
   "metadata": {},
   "outputs": [],
   "source": [
    "starwars.filter(\n",
    "    ((_.skin_color == \"light\") & (_.eye_color == \"brown\")) |\n",
    "    (_.species == \"Droid\")\n",
    ")"
   ]
  },
  {
   "attachments": {},
   "cell_type": "markdown",
   "metadata": {},
   "source": [
    "## Sorting your data with order_by()"
   ]
  },
  {
   "attachments": {},
   "cell_type": "markdown",
   "metadata": {},
   "source": [
    "To sort a column, dplyr has the verb `arrange`. For instance, to sort the column `height` using dplyr:\n",
    "\n",
    "```r\n",
    "starwars |>\n",
    "   arrange(height)\n",
    "```\n",
    "\n",
    "In Ibis:"
   ]
  },
  {
   "cell_type": "code",
   "execution_count": null,
   "metadata": {},
   "outputs": [],
   "source": [
    "starwars.order_by(_.height)"
   ]
  },
  {
   "cell_type": "markdown",
   "metadata": {},
   "source": [
    "You might notice that while dplyr puts missing values at the end, Ibis places them at the top. This behavior can actually vary from backend to backend and is something to be aware of when using Ibis.\n",
    "\n",
    "If you want to order using multiple variables, you can pass them as a list:"
   ]
  },
  {
   "cell_type": "code",
   "execution_count": null,
   "metadata": {},
   "outputs": [],
   "source": [
    "starwars.order_by([_.height, _.mass]) # or starwars.order_by([\"height\", \"mass\"])"
   ]
  },
  {
   "attachments": {},
   "cell_type": "markdown",
   "metadata": {},
   "source": [
    "To order a column in descending order, there are two ways to do it. Note that missing values remain at the top."
   ]
  },
  {
   "cell_type": "code",
   "execution_count": null,
   "metadata": {},
   "outputs": [],
   "source": [
    "starwars.order_by(_.height.desc()) # or: starwars.order_by(ibis.desc(\"height\"))"
   ]
  },
  {
   "attachments": {},
   "cell_type": "markdown",
   "metadata": {},
   "source": [
    "## Selecting columns with select()"
   ]
  },
  {
   "attachments": {},
   "cell_type": "markdown",
   "metadata": {},
   "source": [
    "Ibis, like dplyr, has a `select` method to include or exclude columns:\n",
    "\n",
    "With dplyr:\n",
    "\n",
    "```r\n",
    "starwars |> \n",
    "    select(hair_color)\n",
    "```\n",
    "\n",
    "In Ibis:"
   ]
  },
  {
   "cell_type": "code",
   "execution_count": null,
   "metadata": {},
   "outputs": [],
   "source": [
    "starwars.select(_.hair_color)"
   ]
  },
  {
   "attachments": {},
   "cell_type": "markdown",
   "metadata": {},
   "source": [
    "Note: A common pitfall to be aware of when referencing column names in Ibis is when column names collide with built-in methods on the Ibis Table object, such as `count`. In this situation, you will have to reference `count` like `table[\"count\"]` or `_[\"count\"]`.\n",
    "\n",
    "dplyr also allows selecting more than one column at a time:\n",
    "\n",
    "```r\n",
    "starwars |>\n",
    "    select(hair_color, skin_color, eye_color)\n",
    "```\n",
    "\n",
    "In Ibis, we can either quote the names:"
   ]
  },
  {
   "cell_type": "code",
   "execution_count": null,
   "metadata": {},
   "outputs": [],
   "source": [
    "starwars.select(\"hair_color\", \"skin_color\", \"eye_color\")"
   ]
  },
  {
   "attachments": {},
   "cell_type": "markdown",
   "metadata": {},
   "source": [
    "Or use the `_` helper:"
   ]
  },
  {
   "cell_type": "code",
   "execution_count": null,
   "metadata": {},
   "outputs": [],
   "source": [
    "starwars.select(_.hair_color, _.skin_color, _.eye_color)"
   ]
  },
  {
   "attachments": {},
   "cell_type": "markdown",
   "metadata": {},
   "source": [
    "To select columns by name based on a condition, dplyr has helpers such as:\n",
    "\n",
    "- starts_with(): Starts with a prefix.\n",
    "- ends_with(): Ends with a suffix.\n",
    "- contains(): Contains a literal string.\n",
    "\n",
    "These and many more [selectors](https://ibis-project.org/api/selectors/) are available in Ibis as well, with slightly different names:"
   ]
  },
  {
   "cell_type": "code",
   "execution_count": null,
   "metadata": {},
   "outputs": [],
   "source": [
    "starwars.select(s.startswith(\"h\"))"
   ]
  },
  {
   "cell_type": "code",
   "execution_count": null,
   "metadata": {},
   "outputs": [],
   "source": [
    "starwars.select(s.endswith(\"color\"))"
   ]
  },
  {
   "cell_type": "code",
   "execution_count": null,
   "metadata": {},
   "outputs": [],
   "source": [
    "starwars.select(s.contains(\"world\"))"
   ]
  },
  {
   "attachments": {},
   "cell_type": "markdown",
   "metadata": {},
   "source": [
    "See the Ibis [Column Selectors](https://ibis-project.org/api/selectors/) documentation for the full list of selectors in Ibis."
   ]
  },
  {
   "attachments": {},
   "cell_type": "markdown",
   "metadata": {},
   "source": [
    "## Renaming columns with relabel()\n",
    "\n",
    "Ibis allows you to rename columns using `relabel()` which provides similar functionality to `rename()` in dplyr.\n",
    "\n",
    "In dplyr:\n",
    "\n",
    "```r\n",
    "starwars |> \n",
    "    rename(\"homeworld\" = \"home_world\")\n",
    "```\n",
    "\n",
    "In Ibis, use `relabel` and pass a `dict` of name mappings:"
   ]
  },
  {
   "cell_type": "code",
   "execution_count": null,
   "metadata": {},
   "outputs": [],
   "source": [
    "starwars.relabel({\"homeworld\": \"home_world\"})"
   ]
  },
  {
   "attachments": {},
   "cell_type": "markdown",
   "metadata": {},
   "source": [
    "## Add new columns with mutate()\n",
    "\n",
    "Ibis, like dplyr, uses the `mutate` verb to add columns.\n",
    "\n",
    "In dplyr,\n",
    "\n",
    "```r\n",
    "starwars |>\n",
    "    mutate(height_m = height / 100) |>\n",
    "    select(name, height_m)\n",
    "```\n",
    "\n",
    "In Ibis:"
   ]
  },
  {
   "cell_type": "code",
   "execution_count": null,
   "metadata": {},
   "outputs": [],
   "source": [
    "(\n",
    "    starwars\n",
    "        .mutate(height_m = _.height / 100)\n",
    "        .select(\"name\", \"height_m\")\n",
    ")"
   ]
  },
  {
   "attachments": {},
   "cell_type": "markdown",
   "metadata": {},
   "source": [
    "A big difference between dplyr's `mutate` and Ibis' `mutate` is that, in Ibis, you have to chain separate `mutate` calls together when you reference newly-created columns in the same `mutate` whereas in dplyr, you can put them all in the same call. This makes Ibis' `mutate` more similar to `transform` in base R.\n",
    "\n",
    "In dplyr, we only need one `mutate` call:\n",
    "\n",
    "```r\n",
    "starwars %>%\n",
    "  mutate(\n",
    "    height_m = height / 100,\n",
    "    BMI = mass / (height_m^2)\n",
    "  ) %>%\n",
    "  select(BMI, everything())\n",
    "  ```\n",
    "\n",
    "In Ibis, for `BMI` to reference `height_m`, it needs to be in a separate `mutate` call:"
   ]
  },
  {
   "cell_type": "code",
   "execution_count": null,
   "metadata": {},
   "outputs": [],
   "source": [
    "(starwars\n",
    "    .mutate(\n",
    "        height_m = _.height / 100\n",
    "    )\n",
    "    .mutate(        \n",
    "        BMI = _.mass / (_.height_m**2)\n",
    "    )\n",
    "    .select(\"BMI\", ~s.matches(\"BMI\"))\n",
    ")"
   ]
  },
  {
   "attachments": {},
   "cell_type": "markdown",
   "metadata": {},
   "source": [
    "## Summarize values with aggregate()\n",
    "\n",
    "To summarize tables, dplyr has the verbs `summarise`/`summarize`:\n",
    "\n",
    "In dplyr:\n",
    "\n",
    "```r\n",
    "starwars %>% \n",
    "    summarise(height = mean(height, na.rm = TRUE))\n",
    "```\n",
    "\n",
    "In Ibis, the corresponding verb is `aggregate`:"
   ]
  },
  {
   "cell_type": "code",
   "execution_count": null,
   "metadata": {},
   "outputs": [],
   "source": [
    "starwars.aggregate(height = _.height.mean())"
   ]
  },
  {
   "attachments": {},
   "cell_type": "markdown",
   "metadata": {},
   "source": [
    "## Join tables with left_join()\n",
    "\n",
    "To demonstrate how to do joins with Ibis, we'll load two more example datasets that also come from the example datasets included in dplyr:"
   ]
  },
  {
   "cell_type": "code",
   "execution_count": null,
   "metadata": {},
   "outputs": [],
   "source": [
    "band_members = ibis.examples.band_members.fetch()\n",
    "band_instruments = ibis.examples.band_instruments.fetch()"
   ]
  },
  {
   "attachments": {},
   "cell_type": "markdown",
   "metadata": {},
   "source": [
    "In dplyr, we can perform a left join of these two tables like:\n",
    "\n",
    "```r\n",
    "band_members |> \n",
    "    left_join(band_instruments)\n",
    "```\n",
    "\n",
    "In Ibis:"
   ]
  },
  {
   "cell_type": "code",
   "execution_count": null,
   "metadata": {},
   "outputs": [],
   "source": [
    "band_members.left_join(band_instruments, \"name\")"
   ]
  },
  {
   "attachments": {},
   "cell_type": "markdown",
   "metadata": {},
   "source": [
    "There are two main differences between Ibis and dplyr here:\n",
    "\n",
    "- Ibis requires us to explicitly specify our join key (\"name\", in this example) whereas in dplyr, if the join key is missing, we get the natural join of the two tables which joins across all shared column names\n",
    "- Ibis keeps columns for join keys from each table whereas dplyr does not by default\n",
    "\n",
    "To replicate the result we'd get by default in dplyr but using Ibis, we need to incorporate two other verbs we've already seen in this tutorial:"
   ]
  },
  {
   "cell_type": "code",
   "execution_count": null,
   "metadata": {},
   "outputs": [],
   "source": [
    "(\n",
    "    band_members\n",
    "        .left_join(band_instruments, \"name\")\n",
    "        .select(~s.contains(\"_right\"))\n",
    ")"
   ]
  },
  {
   "attachments": {},
   "cell_type": "markdown",
   "metadata": {},
   "source": [
    "## Pivot data with pivot_wider() and pivot_longer()"
   ]
  },
  {
   "attachments": {},
   "cell_type": "markdown",
   "metadata": {},
   "source": [
    "dplyr users are likely to be familiar with the `pivot_wider` and `pivot_longer` functions from the [tidyr](https://tidyr.tidyverse.org) package which convert tables between wide and long formats, respectively.\n",
    "\n",
    "In dplyr+tidyr:\n",
    "\n",
    "```r\n",
    "starwars |> \n",
    "    select(name, matches(\"color\")) |> \n",
    "    pivot_longer(matches(\"color\"), names_to = \"attribute\", values_to = \"color\")\n",
    "```\n",
    "\n",
    "In Ibis:"
   ]
  },
  {
   "cell_type": "code",
   "execution_count": null,
   "metadata": {},
   "outputs": [],
   "source": [
    "starwars_colors = (\n",
    "    starwars\n",
    "        .select(\"name\", s.matches(\"color\"))\n",
    "        .pivot_longer(s.matches(\"color\"), names_to=\"attribute\", values_to=\"color\")\n",
    ")\n",
    "\n",
    "starwars_colors"
   ]
  },
  {
   "attachments": {},
   "cell_type": "markdown",
   "metadata": {},
   "source": [
    "And the reverse, in dplyr:\n",
    "\n",
    "```r\n",
    "starwars_colors |> \n",
    "    pivot_wider(names_from = \"attribute\", values_from = \"value\")\n",
    "```\n",
    "\n",
    "In Ibis:"
   ]
  },
  {
   "cell_type": "code",
   "execution_count": null,
   "metadata": {},
   "outputs": [],
   "source": [
    "(\n",
    "    starwars_colors.\n",
    "        pivot_wider(names_from=\"attribute\", values_from=\"color\")\n",
    ")"
   ]
  },
  {
   "attachments": {},
   "cell_type": "markdown",
   "metadata": {},
   "source": [
    "## Next Steps\n",
    "\n",
    "Now that you've gotten an introudction to the common differences between dplyr and Ibis, head over to [Getting Started with ibis](https://ibis-project.org/tutorial/getting_started/) for a full introduction. If you're familiar with SQL, check out [Ibis for SQL Programmers](https://ibis-project.org/tutorial/ibis-for-sql-users/). If you're familiar with pandas, take a look at [Ibis for pandas Users](https://ibis-project.org/tutorial/ibis-for-pandas-users/.)"
   ]
  }
 ],
 "metadata": {
  "kernelspec": {
   "display_name": "Python 3 (ipykernel)",
   "language": "python",
   "name": "python3"
  },
  "language_info": {
   "codemirror_mode": {
    "name": "ipython",
    "version": 3
   },
   "file_extension": ".py",
   "mimetype": "text/x-python",
   "name": "python",
   "nbconvert_exporter": "python",
   "pygments_lexer": "ipython3",
   "version": "3.11.3"
  }
 },
 "nbformat": 4,
 "nbformat_minor": 2
}
