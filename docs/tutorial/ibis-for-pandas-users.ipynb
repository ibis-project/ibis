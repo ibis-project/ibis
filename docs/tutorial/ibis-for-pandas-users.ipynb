{
 "cells": [
  {
   "cell_type": "markdown",
   "id": "fbde06fb-efb6-4444-8dbc-553628da1db4",
   "metadata": {},
   "source": [
    "## Install"
   ]
  },
  {
   "cell_type": "markdown",
   "id": "ccced4b3-5216-4394-bfe7-8dc206431b50",
   "metadata": {},
   "source": [
    "If you don't have `ibis` installed, you can install it from:\n",
    "\n",
    "### PyPI\n",
    "\n",
    "```\n",
    "python -m pip install 'ibis-framework[duckdb]'\n",
    "```\n",
    "\n",
    "### conda-forge\n",
    "\n",
    "```\n",
    "conda install -c conda-forge ibis-framework\n",
    "```\n",
    "\n",
    "You can check out [the install page](https://ibis-project.org/install/) for more detailed instructions."
   ]
  },
  {
   "attachments": {},
   "cell_type": "markdown",
   "id": "641af053-e938-4384-8ccd-6eff5b31833d",
   "metadata": {
    "tags": []
   },
   "source": [
    "# Ibis for pandas users\n",
    "\n",
    "Much of the syntax and many of the operations in Ibis are inspired\n",
    "by the pandas `DataFrame` but the primary domain of Ibis is\n",
    "SQL so there are some differences in how they operate.\n",
    "\n",
    "For one thing, SQL (and therefore Ibis) makes no guarantees about row order,\n",
    "which is a key assumption that numpy/pandas users are used to. So two columns\n",
    "can't be deterministically \"lined up\" unless they are actually part of the same Table.\n",
    "An outcome of this is that you can't index into Columns by position\n",
    "(`column.head(5)` or `column[3:5]`). You can only index into Tables\n",
    "(`table.head(5)` or `table[3:5]`). So if you want the first 5 rows of a column,\n",
    "you have to do `table.head(5).my_column`, `table.my_column.head(5)` will not work.\n",
    "\n",
    "Another difference between Ibis tables and pandas `DataFrame`s are that many\n",
    "of the pandas `DataFrame` operations do in-place operations (they are \"mutable\"),\n",
    "whereas Ibis table operations always return a new table expression (\"immutable\").\n",
    "\n",
    "Finally, Ibis table expressions are lazy, meaning\n",
    "that as you build up a table expression, no computation is actually performed\n",
    "until you call an action method such as `to_pandas`. Only then does Ibis\n",
    "compile the table expression into SQL and send it to the backend.\n",
    "(Note that we'll be using Ibis' interactive mode to automatically execute queries at\n",
    "the end of each cell in this notebook. If you are using similar code in a program,\n",
    "you will have to add `.to_pandas()` to each operation that you want to evaluate.)"
   ]
  },
  {
   "cell_type": "code",
   "execution_count": null,
   "id": "bd23750c-bc6b-46db-a6d3-017f73a1d436",
   "metadata": {},
   "outputs": [],
   "source": [
    "import ibis\n",
    "import pandas as pd\n",
    "\n",
    "ibis.options.interactive = True"
   ]
  },
  {
   "cell_type": "markdown",
   "id": "afd136cd-18b5-48a2-8359-c47cde181c7b",
   "metadata": {},
   "source": [
    "We'll be using the DuckDB backend in Ibis in the examples below. First we'll create a simple `DataFrame`."
   ]
  },
  {
   "cell_type": "code",
   "execution_count": null,
   "id": "ba8432fc-8423-459a-8b56-c4720db65407",
   "metadata": {},
   "outputs": [],
   "source": [
    "df = pd.DataFrame(\n",
    "    [['a', 1, 2], ['b', 3, 4]],\n",
    "    columns=['one', 'two', 'three'],\n",
    "    index=[5, 6],\n",
    ")\n",
    "df"
   ]
  },
  {
   "cell_type": "markdown",
   "id": "2a226ff0-f1b4-49d8-b6bd-8a8bf5cae109",
   "metadata": {},
   "source": [
    "Now we can create an Ibis table from the above `DataFrame`.\n",
    "\n",
    "Note that the index from the pandas `DataFrame` is dropped.\n",
    "Ibis has no notion of an index: If you want to use the index,\n",
    "you will need to turn it into a column."
   ]
  },
  {
   "cell_type": "code",
   "execution_count": null,
   "id": "62e08de9-ad4b-453a-b862-429d11b0432a",
   "metadata": {},
   "outputs": [],
   "source": [
    "t = ibis.memtable(df, name=\"t\")\n",
    "t"
   ]
  },
  {
   "cell_type": "markdown",
   "id": "6b928082-2c35-4683-8f6c-4a800d063922",
   "metadata": {},
   "source": [
    "## Data types\n",
    "\n",
    "The data types of columns in pandas are accessed using the `dtypes` attribute. This returns\n",
    "a `Series` object."
   ]
  },
  {
   "cell_type": "code",
   "execution_count": null,
   "id": "94ddeaf0-efb9-4be8-9a60-af26dd657ff6",
   "metadata": {},
   "outputs": [],
   "source": [
    "df.dtypes"
   ]
  },
  {
   "cell_type": "markdown",
   "id": "ec2c32a8-fc81-40e5-933a-410407167e80",
   "metadata": {},
   "source": [
    "In Ibis, you use the `schema` method which returns an `ibis.Schema` object."
   ]
  },
  {
   "cell_type": "code",
   "execution_count": null,
   "id": "11770743-e66f-4001-988d-d5c7a5b40cd6",
   "metadata": {},
   "outputs": [],
   "source": [
    "t.schema()"
   ]
  },
  {
   "cell_type": "markdown",
   "id": "33a9a6a3-6b58-4227-9d6e-9ffcbb5c8ea8",
   "metadata": {},
   "source": [
    "It is possible to convert the schema information to pandas data types using the `to_pandas` method, if needed."
   ]
  },
  {
   "cell_type": "code",
   "execution_count": null,
   "id": "68da325b-d549-4564-845a-20e3d99b5df7",
   "metadata": {},
   "outputs": [],
   "source": [
    "t.schema().to_pandas()"
   ]
  },
  {
   "cell_type": "markdown",
   "id": "10a8e767-5a09-4bf8-afea-a2598b3d96f5",
   "metadata": {},
   "source": [
    "## Table layout\n",
    "\n",
    "In pandas, the layout of the table is contained in the `shape` attribute which contains the number\n",
    "of rows and number of columns in a tuple. The number of columns in an Ibis table can be gotten \n",
    "from the length of the schema."
   ]
  },
  {
   "cell_type": "code",
   "execution_count": null,
   "id": "1d58bd48-1b20-4d06-917d-e10aa5ca5a62",
   "metadata": {},
   "outputs": [],
   "source": [
    "len(t.schema())"
   ]
  },
  {
   "cell_type": "markdown",
   "id": "be551ea9-a124-46b9-b73d-43743c4030c9",
   "metadata": {},
   "source": [
    "To get the number of rows of a table, you use the `count` method."
   ]
  },
  {
   "cell_type": "code",
   "execution_count": null,
   "id": "b1c45c64-9c2f-4d74-8c6b-847e6e94bf59",
   "metadata": {},
   "outputs": [],
   "source": [
    "t.count()"
   ]
  },
  {
   "cell_type": "markdown",
   "id": "6b7753f1-fd33-41f0-bff5-c34f2eb3ffe2",
   "metadata": {},
   "source": [
    "To mimic pandas' behavior, you would use the following code. Note that you need to use the `to_pandas` method\n",
    "after `count` to evaluate the expression returned by `count`."
   ]
  },
  {
   "cell_type": "code",
   "execution_count": null,
   "id": "21af7477-0f2a-4c3b-8d00-fcbe4a82bf71",
   "metadata": {},
   "outputs": [],
   "source": [
    "(t.count().to_pandas(), len(t.schema()))"
   ]
  },
  {
   "cell_type": "code",
   "execution_count": null,
   "id": "6970d109-a4ad-4f5a-9263-6361f71f2b2f",
   "metadata": {},
   "outputs": [],
   "source": [
    "df.shape"
   ]
  },
  {
   "cell_type": "markdown",
   "id": "953aadd7-1e7f-464b-8aab-df76c11a944c",
   "metadata": {},
   "source": [
    "## Subsetting columns\n",
    "\n",
    "Selecting columns is very similar to in pandas. In fact, you can use the same syntax."
   ]
  },
  {
   "cell_type": "code",
   "execution_count": null,
   "id": "77d9bde4-8465-4ec4-b1a6-b69b32ea0398",
   "metadata": {},
   "outputs": [],
   "source": [
    "t[['one', 'two']]"
   ]
  },
  {
   "cell_type": "markdown",
   "id": "38f96e98-c2a6-4734-a405-cd3e97224dc4",
   "metadata": {},
   "source": [
    "However, since row-level indexing is not supported in Ibis, the inner list is not necessary."
   ]
  },
  {
   "cell_type": "code",
   "execution_count": null,
   "id": "9e9770c3-9aae-4aec-b426-84a435e74159",
   "metadata": {},
   "outputs": [],
   "source": [
    "t['one', 'two']"
   ]
  },
  {
   "cell_type": "markdown",
   "id": "45740901-33f6-4f7a-b282-073d8d1fb7c1",
   "metadata": {},
   "source": [
    "## Selecting columns\n",
    "\n",
    "Selecting columns is done using the same syntax as in pandas `DataFrames`. You can use either \n",
    "the indexing syntax or attribute syntax."
   ]
  },
  {
   "cell_type": "code",
   "execution_count": null,
   "id": "7ce3128c-a722-4948-be5d-a2f38873acf5",
   "metadata": {},
   "outputs": [],
   "source": [
    "t['one']"
   ]
  },
  {
   "cell_type": "markdown",
   "id": "39c935c7-216f-4086-8ce0-62c5532ef0d5",
   "metadata": {},
   "source": [
    "or:"
   ]
  },
  {
   "cell_type": "code",
   "execution_count": null,
   "id": "7af612e6-dfee-40a5-a3df-788566fdd4eb",
   "metadata": {},
   "outputs": [],
   "source": [
    "t.one"
   ]
  },
  {
   "cell_type": "markdown",
   "id": "2db743ac-0c64-4e15-aa3e-267d93ee303f",
   "metadata": {},
   "source": [
    "## Adding, removing, and modifying columns\n",
    "\n",
    "Modifying the columns of an Ibis table is a bit different than doing the same operations in\n",
    "a pandas `DataFrame`. This is primarily due to the fact that in-place operations are not \n",
    "supported on Ibis tables. Each time you do a column modification to a table, a new table\n",
    "expression is returned."
   ]
  },
  {
   "cell_type": "markdown",
   "id": "2307d018-6f25-4c0e-a7e4-de3d5428ed46",
   "metadata": {},
   "source": [
    "### Adding columns\n",
    "\n",
    "Adding columns is done through the `mutate` method. "
   ]
  },
  {
   "cell_type": "code",
   "execution_count": null,
   "id": "6f1f91bb-ea6c-4d0f-9344-1dae83d8e40e",
   "metadata": {},
   "outputs": [],
   "source": [
    "mutated = t.mutate(new_col=t.three * 2)\n",
    "mutated"
   ]
  },
  {
   "cell_type": "markdown",
   "id": "9ffd0202-3d64-4b55-98d1-fa231b0e8e58",
   "metadata": {},
   "source": [
    "Notice that the original table object remains unchanged. Only the `mutated` object that was returned\n",
    "contains the new column."
   ]
  },
  {
   "cell_type": "code",
   "execution_count": null,
   "id": "84a0722d-2f84-4997-a4b6-ee44bb3dbcac",
   "metadata": {},
   "outputs": [],
   "source": [
    "t"
   ]
  },
  {
   "cell_type": "markdown",
   "id": "6cc7fb9f-6720-454c-87e3-e0aad3baa3a5",
   "metadata": {},
   "source": [
    "It is also possible to create a column in isolation. This is similar to a `Series` in pandas.\n",
    "Note that the name of the column by default is a representation of the expression:"
   ]
  },
  {
   "cell_type": "code",
   "execution_count": null,
   "id": "cbb0190d-b9af-4d94-a395-254ef31854fe",
   "metadata": {},
   "outputs": [],
   "source": [
    "unnamed = t.three * 2\n",
    "unnamed"
   ]
  },
  {
   "cell_type": "markdown",
   "id": "1a55f051",
   "metadata": {},
   "source": [
    "To get a version with a specific name, you can use the `name` method:"
   ]
  },
  {
   "cell_type": "code",
   "execution_count": null,
   "id": "2e5a51d8",
   "metadata": {},
   "outputs": [],
   "source": [
    "new_col = unnamed.name(\"new_col\")\n",
    "new_col"
   ]
  },
  {
   "cell_type": "markdown",
   "id": "46c142ba-34a2-4547-bd86-a7425bf1b0de",
   "metadata": {},
   "source": [
    "You can then add this column to the table using a projection."
   ]
  },
  {
   "cell_type": "code",
   "execution_count": null,
   "id": "28dbf1e2-f6db-48d1-a61c-e174a8be79bf",
   "metadata": {},
   "outputs": [],
   "source": [
    "proj = t['one', 'two', new_col]\n",
    "proj"
   ]
  },
  {
   "cell_type": "markdown",
   "id": "a047475c-6a4f-4b77-b11a-b17790383ad6",
   "metadata": {},
   "source": [
    "### Removing columns\n",
    "\n",
    "Removing a column is done using the `drop` method."
   ]
  },
  {
   "cell_type": "code",
   "execution_count": null,
   "id": "7abe3596-8eb7-480e-86f9-7303953c02ae",
   "metadata": {},
   "outputs": [],
   "source": [
    "t.columns"
   ]
  },
  {
   "cell_type": "code",
   "execution_count": null,
   "id": "e9ea485e-f433-4487-8c32-dac86fa19db2",
   "metadata": {},
   "outputs": [],
   "source": [
    "subset = t.drop('one', 'two')\n",
    "subset.columns"
   ]
  },
  {
   "cell_type": "markdown",
   "id": "0240415a-928a-4110-9cc9-3b3533c6de2b",
   "metadata": {},
   "source": [
    "It is also possible to drop columns by selecting the columns you want to remain."
   ]
  },
  {
   "cell_type": "code",
   "execution_count": null,
   "id": "b7d2b972-aa19-4647-8fb5-511062cfc8fd",
   "metadata": {},
   "outputs": [],
   "source": [
    "subset = t['two', 'three']\n",
    "subset.columns"
   ]
  },
  {
   "cell_type": "markdown",
   "id": "cc6793c5-d2c7-4960-af3c-90c3829b76e8",
   "metadata": {},
   "source": [
    "### Modifying columns\n",
    "\n",
    "Replacing existing columns is done using the `mutate` method just like adding columns. You simply\n",
    "add a column of the same name to replace it."
   ]
  },
  {
   "cell_type": "code",
   "execution_count": null,
   "id": "5ba58de0-78a6-4c59-ab72-6a55355ef2cb",
   "metadata": {},
   "outputs": [],
   "source": [
    "t"
   ]
  },
  {
   "cell_type": "code",
   "execution_count": null,
   "id": "90bdae99-f2d1-4d81-bbe6-bc3de62923a0",
   "metadata": {},
   "outputs": [],
   "source": [
    "mutated = t.mutate(two=t.two * 2)\n",
    "mutated"
   ]
  },
  {
   "cell_type": "markdown",
   "id": "665623b1-d038-4bff-9bd8-5368b36e5f57",
   "metadata": {},
   "source": [
    "### Renaming columns\n",
    "\n",
    "In addition to replacing columns, you can simply rename them as well. This is done with the `relabel` method\n",
    "which takes a dictionary containing the name mappings."
   ]
  },
  {
   "cell_type": "code",
   "execution_count": null,
   "id": "8d5b4242-fb10-4574-88c6-d341826b8f6c",
   "metadata": {},
   "outputs": [],
   "source": [
    "relabeled = t.relabel(\n",
    "    dict(\n",
    "        one='a',\n",
    "        two='b',\n",
    "    )\n",
    ")\n",
    "relabeled"
   ]
  },
  {
   "cell_type": "markdown",
   "id": "7db908d3-d18c-4f40-86ec-17e39f09eb1a",
   "metadata": {},
   "source": [
    "## Selecting rows\n",
    "\n",
    "There are several methods that can be used to select rows of data in various ways. These are described\n",
    "in the sections below. We'll use the Palmer Penguins$^1$ dataset to investigate!\n",
    "Ibis has several built-in example datasets that you can access using the `ibis.examples` module.\n",
    "\n",
    "$^1$: Horst AM, Hill AP, Gorman KB (2020). palmerpenguins: Palmer Archipelago (Antarctica) penguin data. R package version 0.1.0. https://allisonhorst.github.io/palmerpenguins/. doi: 10.5281/zenodo.3960218."
   ]
  },
  {
   "cell_type": "code",
   "execution_count": null,
   "id": "8ce004ee-7723-4e97-a4c5-dff42693d6a0",
   "metadata": {},
   "outputs": [],
   "source": [
    "penguins = ibis.examples.penguins.fetch()"
   ]
  },
  {
   "cell_type": "code",
   "execution_count": null,
   "id": "3dd069d5-c2c6-4241-a648-76dcdf20cc37",
   "metadata": {},
   "outputs": [],
   "source": [
    "penguins"
   ]
  },
  {
   "cell_type": "markdown",
   "id": "889fd311-5a26-4eb0-a933-dae0082fcabc",
   "metadata": {},
   "source": [
    "### Head, tail and limit\n",
    "\n",
    "The `head` method works the same ways as in pandas. Note that some Ibis backends may not have an \n",
    "inherent ordering of their rows and using `head` may not return deterministic results. In those\n",
    "cases, you can use sorting before calling `head` to ensure a stable result."
   ]
  },
  {
   "cell_type": "code",
   "execution_count": null,
   "id": "c668f96b-db88-4407-92da-06867024988b",
   "metadata": {},
   "outputs": [],
   "source": [
    "penguins.head(5)"
   ]
  },
  {
   "cell_type": "markdown",
   "id": "987d4d1c-ae5c-4c31-b989-7712564e29f7",
   "metadata": {},
   "source": [
    "However, the tail method is not implemented since it is not supported in all databases.\n",
    "It is possible to emulate the `tail` method if you use sorting in your table to do a \n",
    "reverse sort then use the `head` method to retrieve the \"top\" rows."
   ]
  },
  {
   "cell_type": "markdown",
   "id": "757db52c-f8cd-47cc-ab67-fa4a68998827",
   "metadata": {},
   "source": [
    "Another way to limit the number of retrieved rows is using the `limit` method. The following will return\n",
    "the same result as `head(5)`. This is often used in conjunction with other filtering techniques that we\n",
    "will cover later."
   ]
  },
  {
   "cell_type": "code",
   "execution_count": null,
   "id": "92455eef-6f15-48b9-b49b-2d3f8b38c6a7",
   "metadata": {},
   "outputs": [],
   "source": [
    "penguins.limit(5)"
   ]
  },
  {
   "cell_type": "markdown",
   "id": "e9f5a6b4-1288-4aea-8760-c4f0cdab9564",
   "metadata": {},
   "source": [
    "### Filtering rows\n",
    "\n",
    "In addition to simply limiting the number of rows that are returned, it is possible to filter the \n",
    "rows using expressions. Expressions are constructed very similarly to the way they are in pandas.\n",
    "Ibis expressions are constructed from operations on columns in a table which return a boolean result.\n",
    "This result is then used to filter the table."
   ]
  },
  {
   "cell_type": "code",
   "execution_count": null,
   "id": "ccf4e5da-06cd-4331-8ccf-897acc4405e2",
   "metadata": {},
   "outputs": [],
   "source": [
    "expr = penguins.bill_length_mm > 37.0\n",
    "expr"
   ]
  },
  {
   "cell_type": "markdown",
   "id": "ec4f85db-ecea-43f1-a299-5313c56705b1",
   "metadata": {},
   "source": [
    "We can evaluate the value counts to see how many rows we will expect to get back after filtering."
   ]
  },
  {
   "cell_type": "code",
   "execution_count": null,
   "id": "180b2d01-84a0-4042-9d2e-07cbdbe5c8b5",
   "metadata": {},
   "outputs": [],
   "source": [
    "expr.value_counts()"
   ]
  },
  {
   "cell_type": "markdown",
   "id": "573e9e1a-062b-4e10-81b3-56c6d1ae17e6",
   "metadata": {},
   "source": [
    "Now we apply the filter to the table. Since there are 6 True values in the expression, we should\n",
    "get 6 rows back."
   ]
  },
  {
   "cell_type": "code",
   "execution_count": null,
   "id": "63ff3e0d-2775-432a-8ecb-947d2c8cc0a5",
   "metadata": {},
   "outputs": [],
   "source": [
    "filtered = penguins[expr]\n",
    "filtered"
   ]
  },
  {
   "cell_type": "markdown",
   "id": "335f6010-d92f-4484-83d5-eadded3d7527",
   "metadata": {},
   "source": [
    "Of course, the filtering expression can be applied inline as well."
   ]
  },
  {
   "cell_type": "code",
   "execution_count": null,
   "id": "240ca8c8-b8ba-4826-831e-e2390cb6fbbb",
   "metadata": {},
   "outputs": [],
   "source": [
    "filtered = penguins[penguins.bill_length_mm > 37.0]\n",
    "filtered"
   ]
  },
  {
   "cell_type": "markdown",
   "id": "8b475d75-e63b-4a5f-9af1-3eb5858a8ace",
   "metadata": {},
   "source": [
    "Multiple filtering expressions can be combined into a single expression or chained onto existing\n",
    "table expressions."
   ]
  },
  {
   "cell_type": "code",
   "execution_count": null,
   "id": "f971ed4e-c0de-4ebc-8be6-60eff433399f",
   "metadata": {},
   "outputs": [],
   "source": [
    "filtered = penguins[(penguins.bill_length_mm > 37.0) & (penguins.bill_depth_mm > 18.0)]\n",
    "filtered"
   ]
  },
  {
   "cell_type": "markdown",
   "id": "63772a0e-8c89-4d9e-ae3b-a916d5b17d30",
   "metadata": {},
   "source": [
    "The code above will return the same rows as the code below."
   ]
  },
  {
   "cell_type": "code",
   "execution_count": null,
   "id": "827c5756-a770-4106-9fb5-8eb98050aed9",
   "metadata": {},
   "outputs": [],
   "source": [
    "filtered = penguins[penguins.bill_length_mm > 37.0][penguins.bill_depth_mm > 18.0]\n",
    "filtered"
   ]
  },
  {
   "cell_type": "markdown",
   "id": "7673373b-8cc3-4190-9207-fc5606e749af",
   "metadata": {},
   "source": [
    "Aggregation has not been discussed yet, but aggregate values can be used in expressions\n",
    "to return things such as all of the rows in a data set where the value in a column\n",
    "is greater than the mean."
   ]
  },
  {
   "cell_type": "code",
   "execution_count": null,
   "id": "b33a1e2b-e297-46c5-a163-91ae8e62f7de",
   "metadata": {},
   "outputs": [],
   "source": [
    "filtered = penguins[penguins.bill_length_mm > penguins.bill_length_mm.mean()]\n",
    "filtered"
   ]
  },
  {
   "cell_type": "markdown",
   "id": "441cc820",
   "metadata": {},
   "source": [
    "### Modifying rows\n",
    "\n",
    "Sometimes you want to modify the values in a column based on some condition.\n",
    "In pandas, you would do something like `df.loc[condition] = new_value`.\n",
    "In Ibis though, remember that all expressions are immutable, so you need to\n",
    "create a new table expression with the modified values. You do this using the\n",
    "`ifelse` method on boolean columns:"
   ]
  },
  {
   "cell_type": "code",
   "execution_count": null,
   "id": "85f7e6b5",
   "metadata": {},
   "outputs": [],
   "source": [
    "long_billed_penguins = penguins.bill_length_mm > 37.0\n",
    "species_modified = long_billed_penguins.ifelse('wide', penguins.species)\n",
    "penguins.mutate(species_modified=species_modified)"
   ]
  },
  {
   "cell_type": "markdown",
   "id": "cbe1c116",
   "metadata": {},
   "source": [
    "## Sorting rows\n",
    "\n",
    "Sorting rows in Ibis uses a somewhat different API than in pandas. In pandas, you would use the\n",
    "`sort_values` method to order rows by values in specified columns. Ibis uses a method called\n",
    "`order_by`. To specify ascending or descending orders, pandas uses an `ascending=` argument\n",
    "to `sort_values` that indicates the order for each sorting column. Ibis allows you to tag the\n",
    "column name in the `order_by` list as ascending or descending by wrapping it with `ibis.asc` or\n",
    "`ibis.desc`."
   ]
  },
  {
   "cell_type": "markdown",
   "id": "43570023",
   "metadata": {},
   "source": [
    "First, let's ask Ibis for a pandas `DataFrame` version of the penguin data:"
   ]
  },
  {
   "cell_type": "code",
   "execution_count": null,
   "id": "c3913823",
   "metadata": {},
   "outputs": [],
   "source": [
    "df = penguins.to_pandas()"
   ]
  },
  {
   "cell_type": "markdown",
   "id": "7acc9ac2-3915-4ff4-8685-9b515ff8e882",
   "metadata": {},
   "source": [
    "Here is an example of sorting a `DataFrame` using two sort keys. One key is sorting in ascending\n",
    "order and the other is in descending order."
   ]
  },
  {
   "cell_type": "code",
   "execution_count": null,
   "id": "3fca2921-2f93-403e-aabd-ba941f374a02",
   "metadata": {},
   "outputs": [],
   "source": [
    "df.sort_values(\n",
    "    ['bill_length_mm', 'bill_depth_mm'], ascending=[True, False], na_position=\"first\"\n",
    ").head(5)"
   ]
  },
  {
   "cell_type": "markdown",
   "id": "da3b0a11-513a-4445-9a14-b05394fd2d2d",
   "metadata": {},
   "source": [
    "The same operation in Ibis would look like the following. Note that the index values of the\n",
    "resulting `DataFrame` start from zero and count up, whereas in the example above, they retain\n",
    "their original index value. This is simply due to the fact that rows in tables don't necessarily\n",
    "have a stable index in database backends, so the index is just generated on the result."
   ]
  },
  {
   "cell_type": "code",
   "execution_count": null,
   "id": "b984cc38-d235-431f-98bf-5cd3eaa401fd",
   "metadata": {},
   "outputs": [],
   "source": [
    "sorted = penguins.order_by(['bill_length_mm', ibis.desc('bill_depth_mm')]).head(5)\n",
    "sorted"
   ]
  },
  {
   "cell_type": "markdown",
   "id": "ad5157cd-e42d-4349-9a6c-f293b3cab1b4",
   "metadata": {},
   "source": [
    "## Aggregation\n",
    "\n",
    "Aggregation in pandas is typically done by computing columns based on an aggregate function."
   ]
  },
  {
   "cell_type": "code",
   "execution_count": null,
   "id": "fbd2705f-1fbb-4ba4-9273-ed6e9e89ec9c",
   "metadata": {},
   "outputs": [],
   "source": [
    "stats = [df.bill_depth_mm.sum(), df.bill_length_mm.mean()]\n",
    "pd.DataFrame([stats], columns=['total_bill_depth', 'avg.bill_length'])"
   ]
  },
  {
   "cell_type": "markdown",
   "id": "1c59c0d6-823b-4c2a-85f9-732a0468ef2b",
   "metadata": {},
   "source": [
    "In Ibis, you construct aggregate expressions then apply them to the table using the `aggregate` method."
   ]
  },
  {
   "cell_type": "code",
   "execution_count": null,
   "id": "04090b90-3e2b-4cfe-ac57-52a652e45609",
   "metadata": {},
   "outputs": [],
   "source": [
    "stats = [\n",
    "    penguins.bill_depth_mm.sum().name('total_bill_width'),\n",
    "    penguins.bill_length_mm.mean().name('avg_bill_length'),\n",
    "]\n",
    "agged = penguins.aggregate(stats)\n",
    "agged"
   ]
  },
  {
   "cell_type": "markdown",
   "id": "9670ba4d-f870-4b55-b948-c57a4933bf07",
   "metadata": {},
   "source": [
    "You can also combine both operations into one and pass the aggregate expressions using keyword parameters."
   ]
  },
  {
   "cell_type": "code",
   "execution_count": null,
   "id": "ac9dd0ba-fbe9-4a5f-b4d6-ab2b127e5a89",
   "metadata": {},
   "outputs": [],
   "source": [
    "agged = penguins.aggregate(\n",
    "    total_bill_depth=penguins.bill_depth_mm.sum(),\n",
    "    avg_bill_length=penguins.bill_length_mm.mean(),\n",
    ")\n",
    "agged"
   ]
  },
  {
   "attachments": {},
   "cell_type": "markdown",
   "id": "7338f6a8-9be9-41a5-bb73-2786d67c1f91",
   "metadata": {},
   "source": [
    "## Group by\n",
    "\n",
    "Using a similar API as above, aggregations can also be\n",
    "done across groupings using the `by=` parameter."
   ]
  },
  {
   "cell_type": "code",
   "execution_count": null,
   "id": "3e773759-77ca-4eb5-a858-81d489399059",
   "metadata": {},
   "outputs": [],
   "source": [
    "agged = penguins.aggregate(\n",
    "    by='species',\n",
    "    total_bill_depth=penguins.bill_depth_mm.sum(),\n",
    "    avg_bill_length=penguins.bill_length_mm.mean(),\n",
    ")\n",
    "agged"
   ]
  },
  {
   "cell_type": "markdown",
   "id": "78035eba-5c94-4e67-9d56-58fa36dcd657",
   "metadata": {},
   "source": [
    "Alternatively, by groups can be computed using a grouped table."
   ]
  },
  {
   "cell_type": "code",
   "execution_count": null,
   "id": "ca4ed3a8-d788-40f1-ae8e-52f691eaeb40",
   "metadata": {},
   "outputs": [],
   "source": [
    "agged = penguins.group_by('species').aggregate(\n",
    "    total_bill_depth=penguins.bill_depth_mm.sum(),\n",
    "    avg_bill_length=penguins.bill_length_mm.mean(),\n",
    ")\n",
    "agged"
   ]
  },
  {
   "attachments": {},
   "cell_type": "markdown",
   "id": "2deba0f3",
   "metadata": {},
   "source": [
    "You can group over multiple columns too, and rename them if you want.\n",
    "\n",
    "If you only need to aggregate over a single column, then you don't\n",
    "need to use the `.aggregate()` method."
   ]
  },
  {
   "cell_type": "code",
   "execution_count": null,
   "id": "2d8fee4b",
   "metadata": {},
   "outputs": [],
   "source": [
    "penguins.group_by([\"species\", \"sex\"], location=\"island\").body_mass_g.approx_median()"
   ]
  },
  {
   "attachments": {},
   "cell_type": "markdown",
   "id": "3fce3fe8",
   "metadata": {},
   "source": [
    "Instead of aggregating after a group by, you can also transform\n",
    "the table so that the output table has the same number of rows\n",
    "as the input table. This is analogous to the `groupby().transform()`\n",
    "pattern in pandas. You can pass complex expressions to compute per-group:"
   ]
  },
  {
   "cell_type": "code",
   "execution_count": null,
   "id": "3837f961",
   "metadata": {},
   "outputs": [],
   "source": [
    "# Calculate how much the mass of each penguin deviates from the mean\n",
    "penguins.group_by([\"species\", \"sex\"]).mutate(\n",
    "    # This column isn't needed, but it makes it easier to see what's going on\n",
    "    mass_mean=penguins.body_mass_g.mean(),\n",
    "    mass_deviation=penguins.body_mass_g - penguins.body_mass_g.mean(),\n",
    ")"
   ]
  },
  {
   "attachments": {},
   "cell_type": "markdown",
   "id": "ecc585d8-d6b4-40bf-bb77-2a35f2998c8d",
   "metadata": {},
   "source": [
    "## NULL values\n",
    "\n",
    "Ibis has first-class support for `NULL` values. In pandas and numpy, `NULL` values are\n",
    "represented by `NaN`. This can be confusing when working with numeric data,\n",
    "since `NaN` is also a valid floating point value (along with `+/-inf`).\n",
    "\n",
    "In Ibis, we try to be more precise: All data types are nullable, and we use\n",
    "`ibis.NA` to represent `NULL` values, and all datatypes have a `.isnull()` method.\n",
    "For floating point values, we use different values for `NaN` and `+/-inf`, and there\n",
    "are the additional methods `.isnan()` and `.isinf()`.\n",
    "\n",
    "### Dropping rows with `NULL`s\n",
    "\n",
    "Both pandas and Ibis allow you to drop rows from a table based on whether a set of columns\n",
    "contains a `NULL` value. This method is called `dropna` in both packages. The common set\n",
    "of parameters in the two are `subset=` and `how=`. The `subset=` parameter indicates which\n",
    "columns to inspect for `NULL` values. The `how=` parameter specifies whether 'any' or 'all'\n",
    "of the specified columns must be `NULL` in order for the row to be dropped."
   ]
  },
  {
   "cell_type": "code",
   "execution_count": null,
   "id": "170fd8e7-4c2d-4981-8969-e064b2d8b176",
   "metadata": {},
   "outputs": [],
   "source": [
    "no_null_peng = penguins.dropna(['bill_depth_mm', 'bill_length_mm'], how='any')"
   ]
  },
  {
   "attachments": {},
   "cell_type": "markdown",
   "id": "ff5a2ba3-0164-47ef-b687-47c6dd19903c",
   "metadata": {},
   "source": [
    "### Filling `NULL` values\n",
    "\n",
    "Both pandas and Ibis allow you to fill `NULL` values in a table. In Ibis, the replacement value can only\n",
    "be a scalar value of a dictionary of values. If it is a dictionary, the keys of the dictionary specify\n",
    "the column name for the value to apply to."
   ]
  },
  {
   "cell_type": "code",
   "execution_count": null,
   "id": "a5eb4117-c843-401d-8ca6-3b29c00f62da",
   "metadata": {},
   "outputs": [],
   "source": [
    "no_null_peng = penguins.fillna(dict(bill_depth_mm=0, bill_length_mm=0))"
   ]
  },
  {
   "cell_type": "markdown",
   "id": "7768f8f1-44a7-44e6-a433-c33eff2b57cb",
   "metadata": {},
   "source": [
    "### Replacing `NULL`s\n",
    "\n",
    "Both pandas and Ibis have `fillna` methods which allow you to specify a replacement value\n",
    "for `NULL` values."
   ]
  },
  {
   "cell_type": "code",
   "execution_count": null,
   "id": "1a280ac1-0639-4757-9941-fad657ee04a9",
   "metadata": {},
   "outputs": [],
   "source": [
    "bill_length_no_nulls = penguins.bill_length_mm.fillna(0)"
   ]
  },
  {
   "cell_type": "markdown",
   "id": "e37b0ef6-9653-46a3-ab30-cffd079f081d",
   "metadata": {},
   "source": [
    "## Type casts\n",
    "\n",
    "Type casting in pandas is done using the `astype` method on columns."
   ]
  },
  {
   "cell_type": "code",
   "execution_count": null,
   "id": "dc002f3f-efaf-43e5-9f1f-e3a0bf683baf",
   "metadata": {},
   "outputs": [],
   "source": [
    "df.bill_depth_mm.astype(str)"
   ]
  },
  {
   "cell_type": "markdown",
   "id": "3a790e6c-ae3b-4166-b451-4826b3290c61",
   "metadata": {},
   "source": [
    "In Ibis, you cast the column type using the `cast` method."
   ]
  },
  {
   "cell_type": "code",
   "execution_count": null,
   "id": "4537f3eb-7b94-4605-b409-8926e16608de",
   "metadata": {},
   "outputs": [],
   "source": [
    "penguins.bill_depth_mm.cast('int')"
   ]
  },
  {
   "cell_type": "markdown",
   "id": "1b94fbb6-f1d3-4f84-afcb-ffcb0e8103f5",
   "metadata": {},
   "source": [
    "Casted columns can be assigned back to the table using the `mutate` method described earlier."
   ]
  },
  {
   "cell_type": "code",
   "execution_count": null,
   "id": "68dcb03c-6b97-4278-bb8a-13dda3da70dc",
   "metadata": {},
   "outputs": [],
   "source": [
    "casted = penguins.mutate(\n",
    "    bill_depth_mm=penguins.bill_depth_mm.cast('int'),\n",
    "    bill_length_mm=penguins.bill_length_mm.cast('int'),\n",
    ")\n",
    "casted.schema()"
   ]
  },
  {
   "attachments": {},
   "cell_type": "markdown",
   "id": "090d19c5-b961-49ad-a4e9-ba490521e785",
   "metadata": {},
   "source": [
    "## Set membership\n",
    "\n",
    "pandas set membership uses the `in` and `not in` operators such as `'a' in df.species`. Ibis uses\n",
    "`isin` and `notin` methods. In addition to testing membership in a set, these methods allow you to\n",
    "specify an else case to assign a value when the value isn't in the set."
   ]
  },
  {
   "cell_type": "code",
   "execution_count": null,
   "id": "58f0795e-43d9-4497-b484-4f74f60b3d3a",
   "metadata": {},
   "outputs": [],
   "source": [
    "penguins.species.value_counts()"
   ]
  },
  {
   "cell_type": "code",
   "execution_count": null,
   "id": "a942ae68-8cc6-42b6-9676-2e2c5bbc6633",
   "metadata": {},
   "outputs": [],
   "source": [
    "refined = penguins.species.isin(['Adelie', 'Chinstrap'])\n",
    "refined.value_counts()"
   ]
  },
  {
   "cell_type": "markdown",
   "id": "d2488ae0-933d-43fa-853f-b39359f4c2f8",
   "metadata": {},
   "source": [
    "## Merging tables\n",
    "\n",
    "While pandas uses the `merge` method to combine data from multiple `DataFrames`, Ibis uses the\n",
    "`join` method. They both have similar capabilities.\n",
    "\n",
    "The biggest difference between Ibis' `join` method and pandas' `merge` method is that pandas only\n",
    "accepts column names or index levels to join on, whereas Ibis can merge on expressions.\n",
    "\n",
    "Here are some examples of merging using pandas."
   ]
  },
  {
   "cell_type": "code",
   "execution_count": null,
   "id": "1d244188-0e5d-441d-b9ed-e6bed6ebf287",
   "metadata": {},
   "outputs": [],
   "source": [
    "df_left = pd.DataFrame(\n",
    "    [\n",
    "        ['a', 1, 2],\n",
    "        ['b', 3, 4],\n",
    "        ['c', 4, 6],\n",
    "    ],\n",
    "    columns=['name', 'x', 'y'],\n",
    ")\n",
    "\n",
    "df_right = pd.DataFrame(\n",
    "    [\n",
    "        ['a', 100, 200],\n",
    "        ['m', 300, 400],\n",
    "        ['n', 400, 600],\n",
    "    ],\n",
    "    columns=['name', 'x_100', 'y_100'],\n",
    ")"
   ]
  },
  {
   "cell_type": "code",
   "execution_count": null,
   "id": "25e4c74f-178b-4c77-877d-2057e91f393a",
   "metadata": {},
   "outputs": [],
   "source": [
    "df_left.merge(df_right, on='name')"
   ]
  },
  {
   "cell_type": "code",
   "execution_count": null,
   "id": "f28d2c44-1ec6-4e38-af40-527936db6a6d",
   "metadata": {},
   "outputs": [],
   "source": [
    "df_left.merge(df_right, on='name', how='outer')"
   ]
  },
  {
   "cell_type": "markdown",
   "id": "61fe995c-9414-47d4-963d-a09b146f8106",
   "metadata": {},
   "source": [
    "We can now convert `DataFrames` to Ibis tables to do `join`s."
   ]
  },
  {
   "cell_type": "code",
   "execution_count": null,
   "id": "e1cbaa65-7c76-4e2f-bf29-dff02c05dc25",
   "metadata": {},
   "outputs": [],
   "source": [
    "t_left = ibis.memtable(df_left, name=\"t_left\")\n",
    "t_right = ibis.memtable(df_right, name='t_right')"
   ]
  },
  {
   "cell_type": "code",
   "execution_count": null,
   "id": "45cc37a6-601f-48e5-a266-39380c165bff",
   "metadata": {},
   "outputs": [],
   "source": [
    "t_left.join(t_right, t_left.name == t_right.name)"
   ]
  },
  {
   "cell_type": "markdown",
   "id": "4597efd7-5bcf-4c78-9fa9-f60cbd893ea4",
   "metadata": {},
   "source": [
    "Below is an outer join where missing values are filled with `NaN`."
   ]
  },
  {
   "cell_type": "code",
   "execution_count": null,
   "id": "6142e659-d60b-4f0c-8d37-7ac53d4a7a5b",
   "metadata": {},
   "outputs": [],
   "source": [
    "t_left.join(t_right, t_left.name == t_right.name, how='outer')"
   ]
  },
  {
   "cell_type": "markdown",
   "id": "9cce73d2-9d49-48fe-bbe6-8f06982c4f8a",
   "metadata": {},
   "source": [
    "## Concatenating tables\n",
    "\n",
    "Concatenating `DataFrame`s in pandas is done with the `concat` top-level function. It takes multiple `DataFrames`\n",
    "and concatenates the rows of one `DataFrame` to the next. If the columns are mis-matched, it extends the\n",
    "list of columns to include the full set of columns and inserts `NaN`s and `None`s into the missing values.\n",
    "\n",
    "Concatenating tables in Ibis can only be done on tables with matching schemas. The concatenation is done\n",
    "using the top-level `union` function or the `union` method on a table.\n",
    "\n",
    "We'll demonstrate a pandas `concat` first."
   ]
  },
  {
   "cell_type": "code",
   "execution_count": null,
   "id": "0aa28ac6-bf75-4b47-8986-0ecb1e7ff28e",
   "metadata": {},
   "outputs": [],
   "source": [
    "df_1 = pd.DataFrame(\n",
    "    [\n",
    "        ['a', 1, 2],\n",
    "        ['b', 3, 4],\n",
    "        ['c', 4, 6],\n",
    "    ],\n",
    "    columns=['name', 'x', 'y'],\n",
    ")\n",
    "\n",
    "df_2 = pd.DataFrame(\n",
    "    [\n",
    "        ['a', 100, 200],\n",
    "        ['m', 300, 400],\n",
    "        ['n', 400, 600],\n",
    "    ],\n",
    "    columns=['name', 'x', 'y'],\n",
    ")"
   ]
  },
  {
   "cell_type": "code",
   "execution_count": null,
   "id": "19482224-2a86-4925-be2a-c5412f3d488d",
   "metadata": {},
   "outputs": [],
   "source": [
    "pd.concat([df_1, df_2])"
   ]
  },
  {
   "cell_type": "markdown",
   "id": "20ad6803-4cbd-4fb8-87c6-c5a05092f12f",
   "metadata": {},
   "source": [
    "Now we can convert the `DataFrame`s to Ibis tables and combine the tables using a union."
   ]
  },
  {
   "cell_type": "code",
   "execution_count": null,
   "id": "efbbb4b4-ef7e-4e8a-a8e2-359ffc70db58",
   "metadata": {},
   "outputs": [],
   "source": [
    "t_1 = ibis.memtable(df_1, name='t_1')\n",
    "t_2 = ibis.memtable(df_2, name='t_2')"
   ]
  },
  {
   "cell_type": "code",
   "execution_count": null,
   "id": "56f6ab13-be06-4779-8289-dd838bde2ece",
   "metadata": {},
   "outputs": [],
   "source": [
    "unioned = ibis.union(t_1, t_2)\n",
    "unioned"
   ]
  }
 ],
 "metadata": {
  "kernelspec": {
   "display_name": "Python 3 (ipykernel)",
   "language": "python",
   "name": "python3"
  },
  "language_info": {
   "codemirror_mode": {
    "name": "ipython",
    "version": 3
   },
   "file_extension": ".py",
   "mimetype": "text/x-python",
   "name": "python",
   "nbconvert_exporter": "python",
   "pygments_lexer": "ipython3",
   "version": "3.10.10"
  },
  "vscode": {
   "interpreter": {
    "hash": "b48aa786a3f05af489487a8ae24b90d22456b9f0486d04d6c9b2347d87d9023f"
   }
  }
 },
 "nbformat": 4,
 "nbformat_minor": 5
}
