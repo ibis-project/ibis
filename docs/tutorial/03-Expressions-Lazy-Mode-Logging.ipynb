{
 "cells": [
  {
   "cell_type": "markdown",
   "metadata": {},
   "source": [
    "# Lazy Mode and Logging\n",
    "\n",
    "So far, we have seen Ibis in interactive mode. Interactive mode (also known as eager mode) makes Ibis return the\n",
    "results of an operation immediately.\n",
    "\n",
    "In most cases, instead of using interactive mode, it makes more sense to use the default lazy mode.\n",
    "In lazy mode, Ibis won't be executing the operations automatically, but instead, will generate an\n",
    "expression to be executed at a later time.\n",
    "\n",
    "Let's see this in practice, starting with the same example as in previous tutorials - the geography database."
   ]
  },
  {
   "cell_type": "code",
   "execution_count": 1,
   "metadata": {},
   "outputs": [],
   "source": [
    "!curl -LsS -o geography.db 'https://storage.googleapis.com/ibis-tutorial-data/geography.db'"
   ]
  },
  {
   "cell_type": "code",
   "execution_count": 2,
   "metadata": {},
   "outputs": [],
   "source": [
    "import os\n",
    "import tempfile\n",
    "\n",
    "import ibis\n",
    "\n",
    "connection = ibis.sqlite.connect('geography.db')\n",
    "countries = connection.table('countries')"
   ]
  },
  {
   "cell_type": "markdown",
   "metadata": {},
   "source": [
    "In previous tutorials, we set interactive mode to `True`, and we obtained the result\n",
    "of every operation."
   ]
  },
  {
   "cell_type": "code",
   "execution_count": 3,
   "metadata": {},
   "outputs": [
    {
     "data": {
      "text/html": [
       "<pre style=\"white-space:pre;overflow-x:auto;line-height:normal;font-family:Menlo,'DejaVu Sans Mono',consolas,'Courier New',monospace\">┏━━━━━━━━━━━━━━━━━━━━━━┳━━━━━━━━━━━┳━━━━━━━━━━━━┓\n",
       "┃<span style=\"font-weight: bold\"> name                 </span>┃<span style=\"font-weight: bold\"> continent </span>┃<span style=\"font-weight: bold\"> population </span>┃\n",
       "┡━━━━━━━━━━━━━━━━━━━━━━╇━━━━━━━━━━━╇━━━━━━━━━━━━┩\n",
       "│ <span style=\"color: #000080; text-decoration-color: #000080; font-weight: bold\">string</span>               │ <span style=\"color: #000080; text-decoration-color: #000080; font-weight: bold\">string</span>    │ <span style=\"color: #000080; text-decoration-color: #000080; font-weight: bold\">int32</span>      │\n",
       "├──────────────────────┼───────────┼────────────┤\n",
       "│ Andorra              │ EU        │      <span style=\"color: #008080; text-decoration-color: #008080; font-weight: bold\">84000</span> │\n",
       "│ United Arab Emirates │ AS        │    <span style=\"color: #008080; text-decoration-color: #008080; font-weight: bold\">4975593</span> │\n",
       "│ Afghanistan          │ AS        │   <span style=\"color: #008080; text-decoration-color: #008080; font-weight: bold\">29121286</span> │\n",
       "└──────────────────────┴───────────┴────────────┘\n",
       "</pre>\n"
      ],
      "text/plain": [
       "┏━━━━━━━━━━━━━━━━━━━━━━┳━━━━━━━━━━━┳━━━━━━━━━━━━┓\n",
       "┃\u001b[1m \u001b[0m\u001b[1mname\u001b[0m\u001b[1m                \u001b[0m\u001b[1m \u001b[0m┃\u001b[1m \u001b[0m\u001b[1mcontinent\u001b[0m\u001b[1m \u001b[0m┃\u001b[1m \u001b[0m\u001b[1mpopulation\u001b[0m\u001b[1m \u001b[0m┃\n",
       "┡━━━━━━━━━━━━━━━━━━━━━━╇━━━━━━━━━━━╇━━━━━━━━━━━━┩\n",
       "│ \u001b[1;34mstring\u001b[0m               │ \u001b[1;34mstring\u001b[0m    │ \u001b[1;34mint32\u001b[0m      │\n",
       "├──────────────────────┼───────────┼────────────┤\n",
       "│ Andorra              │ EU        │      \u001b[1;36m84000\u001b[0m │\n",
       "│ United Arab Emirates │ AS        │    \u001b[1;36m4975593\u001b[0m │\n",
       "│ Afghanistan          │ AS        │   \u001b[1;36m29121286\u001b[0m │\n",
       "└──────────────────────┴───────────┴────────────┘"
      ]
     },
     "execution_count": 3,
     "metadata": {},
     "output_type": "execute_result"
    }
   ],
   "source": [
    "ibis.options.interactive = True\n",
    "\n",
    "countries['name', 'continent', 'population'].limit(3)"
   ]
  },
  {
   "cell_type": "markdown",
   "metadata": {},
   "source": [
    "But now let's see what happens if we leave the `interactive` option to `False` (the default),\n",
    "and we operate in lazy mode."
   ]
  },
  {
   "cell_type": "code",
   "execution_count": 4,
   "metadata": {},
   "outputs": [
    {
     "data": {
      "text/html": [
       "<pre style=\"white-space:pre;overflow-x:auto;line-height:normal;font-family:Menlo,'DejaVu Sans Mono',consolas,'Courier New',monospace\">r0 := AlchemyTable: countries\n",
       "  iso_alpha2  string\n",
       "  iso_alpha3  string\n",
       "  iso_numeric int32\n",
       "  fips        string\n",
       "  name        string\n",
       "  capital     string\n",
       "  area_km2    float64\n",
       "  population  int32\n",
       "  continent   string\n",
       "\n",
       "r1 := Selection[r0]\n",
       "  selections:\n",
       "    name:       r0.name\n",
       "    continent:  r0.continent\n",
       "    population: r0.population\n",
       "\n",
       "Limit[r1, n=3]\n",
       "</pre>\n"
      ],
      "text/plain": [
       "r0 := AlchemyTable: countries\n",
       "  iso_alpha2  string\n",
       "  iso_alpha3  string\n",
       "  iso_numeric int32\n",
       "  fips        string\n",
       "  name        string\n",
       "  capital     string\n",
       "  area_km2    float64\n",
       "  population  int32\n",
       "  continent   string\n",
       "\n",
       "r1 := Selection[r0]\n",
       "  selections:\n",
       "    name:       r0.name\n",
       "    continent:  r0.continent\n",
       "    population: r0.population\n",
       "\n",
       "Limit[r1, n=3]"
      ]
     },
     "execution_count": 4,
     "metadata": {},
     "output_type": "execute_result"
    }
   ],
   "source": [
    "ibis.options.interactive = False\n",
    "\n",
    "countries['name', 'continent', 'population'].limit(3)"
   ]
  },
  {
   "cell_type": "markdown",
   "metadata": {},
   "source": [
    "What we find is the graph of the expressions that would return the desired result instead of the result itself.\n",
    "\n",
    "Let's analyze the expressions in the graph:\n",
    "\n",
    "- We query the `countries` table (all rows and all columns)\n",
    "- We select the `name`, `continent` and `population` columns\n",
    "- We limit the results to only the first `3` rows\n",
    "\n",
    "Now consider that the data is in a database, possibly in a different host than the one executing Ibis.\n",
    "Also consider that the results returned to the user need to be moved to the memory of the host executing Ibis.\n",
    "\n",
    "When using interactive (or eager) mode, if we perform one operation at a time, we would do:\n",
    "\n",
    "- We would move all the rows and columns from the backend (database, big data system, etc.) into memory\n",
    "- Once in memory, we would discard all the columns but `name`, `continent` and `population`\n",
    "- After that, we would discard all the rows, except the first `3`\n",
    "\n",
    "This is not very efficient. If you consider that the table can have millions of rows, backed by a\n",
    "big data system like Spark or Impala, this may not even be possible (not enough memory to load all the data).\n",
    "\n",
    "The solution is to use lazy mode. In lazy mode, instead of obtaining the results after each operation,\n",
    "we build an expression (a graph) of all the operations that need to be done. After all the operations\n",
    "are recorded, the graph is sent to the backend which will perform the operation in an efficient way - only\n",
    "moving to memory the required data.\n",
    "\n",
    "You can think of this as writing a shopping list and requesting someone to go to the supermarket and buy\n",
    "everything you need once the list is complete. As opposed as getting someone to bring all the products of\n",
    "the supermarket to your home and then return everything you don't want.\n",
    "\n",
    "Let's continue with our example, save the expression in a variable `countries_expression`, and check its type."
   ]
  },
  {
   "cell_type": "code",
   "execution_count": 5,
   "metadata": {},
   "outputs": [
    {
     "data": {
      "text/plain": [
       "ibis.expr.types.relations.Table"
      ]
     },
     "execution_count": 5,
     "metadata": {},
     "output_type": "execute_result"
    }
   ],
   "source": [
    "countries_expression = countries['name', 'continent', 'population'].limit(3)\n",
    "type(countries_expression)"
   ]
  },
  {
   "cell_type": "markdown",
   "metadata": {},
   "source": [
    "The type is an Ibis `TableExpr`, since the result is a table (in a broad way, you can consider it a dataframe).\n",
    "\n",
    "Now we have our query instructions (our expression, fetching only 3 columns and 3 rows) in the variable `countries_expression`.\n",
    "\n",
    "At this point, nothing has been requested from the database. We have defined what we want to extract, but we didn't\n",
    "request it from the database yet. We can continue building our expression if we haven't finished yet. Or once we\n",
    "are done, we can simply request it from the database using the method `.execute()`."
   ]
  },
  {
   "cell_type": "code",
   "execution_count": 6,
   "metadata": {},
   "outputs": [
    {
     "data": {
      "text/html": [
       "<div>\n",
       "<style scoped>\n",
       "    .dataframe tbody tr th:only-of-type {\n",
       "        vertical-align: middle;\n",
       "    }\n",
       "\n",
       "    .dataframe tbody tr th {\n",
       "        vertical-align: top;\n",
       "    }\n",
       "\n",
       "    .dataframe thead th {\n",
       "        text-align: right;\n",
       "    }\n",
       "</style>\n",
       "<table border=\"1\" class=\"dataframe\">\n",
       "  <thead>\n",
       "    <tr style=\"text-align: right;\">\n",
       "      <th></th>\n",
       "      <th>name</th>\n",
       "      <th>continent</th>\n",
       "      <th>population</th>\n",
       "    </tr>\n",
       "  </thead>\n",
       "  <tbody>\n",
       "    <tr>\n",
       "      <th>0</th>\n",
       "      <td>Andorra</td>\n",
       "      <td>EU</td>\n",
       "      <td>84000</td>\n",
       "    </tr>\n",
       "    <tr>\n",
       "      <th>1</th>\n",
       "      <td>United Arab Emirates</td>\n",
       "      <td>AS</td>\n",
       "      <td>4975593</td>\n",
       "    </tr>\n",
       "    <tr>\n",
       "      <th>2</th>\n",
       "      <td>Afghanistan</td>\n",
       "      <td>AS</td>\n",
       "      <td>29121286</td>\n",
       "    </tr>\n",
       "  </tbody>\n",
       "</table>\n",
       "</div>"
      ],
      "text/plain": [
       "                   name continent  population\n",
       "0               Andorra        EU       84000\n",
       "1  United Arab Emirates        AS     4975593\n",
       "2           Afghanistan        AS    29121286"
      ]
     },
     "execution_count": 6,
     "metadata": {},
     "output_type": "execute_result"
    }
   ],
   "source": [
    "countries_expression.execute()"
   ]
  },
  {
   "cell_type": "markdown",
   "metadata": {},
   "source": [
    "We can build other types of expressions, for example, one that instead of returning a table,\n",
    "returns a columns."
   ]
  },
  {
   "cell_type": "code",
   "execution_count": 7,
   "metadata": {},
   "outputs": [
    {
     "data": {
      "text/html": [
       "<pre style=\"white-space:pre;overflow-x:auto;line-height:normal;font-family:Menlo,'DejaVu Sans Mono',consolas,'Courier New',monospace\">r0 := AlchemyTable: countries\n",
       "  iso_alpha2  string\n",
       "  iso_alpha3  string\n",
       "  iso_numeric int32\n",
       "  fips        string\n",
       "  name        string\n",
       "  capital     string\n",
       "  area_km2    float64\n",
       "  population  int32\n",
       "  continent   string\n",
       "\n",
       "Selection[r0]\n",
       "  selections:\n",
       "    population_in_millions: r0.population / 1000000\n",
       "</pre>\n"
      ],
      "text/plain": [
       "r0 := AlchemyTable: countries\n",
       "  iso_alpha2  string\n",
       "  iso_alpha3  string\n",
       "  iso_numeric int32\n",
       "  fips        string\n",
       "  name        string\n",
       "  capital     string\n",
       "  area_km2    float64\n",
       "  population  int32\n",
       "  continent   string\n",
       "\n",
       "Selection[r0]\n",
       "  selections:\n",
       "    population_in_millions: r0.population / 1000000"
      ]
     },
     "execution_count": 7,
     "metadata": {},
     "output_type": "execute_result"
    }
   ],
   "source": [
    "population_in_millions = (countries['population'] / 1_000_000).name(\n",
    "    'population_in_millions'\n",
    ")\n",
    "population_in_millions"
   ]
  },
  {
   "cell_type": "markdown",
   "metadata": {},
   "source": [
    "If we check its type, we can see how it is a `FloatingColumn` expression."
   ]
  },
  {
   "cell_type": "code",
   "execution_count": 8,
   "metadata": {},
   "outputs": [
    {
     "data": {
      "text/plain": [
       "ibis.expr.types.numeric.FloatingColumn"
      ]
     },
     "execution_count": 8,
     "metadata": {},
     "output_type": "execute_result"
    }
   ],
   "source": [
    "type(population_in_millions)"
   ]
  },
  {
   "cell_type": "markdown",
   "metadata": {},
   "source": [
    "We can combine the previous expression to be a column of a table expression."
   ]
  },
  {
   "cell_type": "code",
   "execution_count": 9,
   "metadata": {},
   "outputs": [
    {
     "data": {
      "text/html": [
       "<pre style=\"white-space:pre;overflow-x:auto;line-height:normal;font-family:Menlo,'DejaVu Sans Mono',consolas,'Courier New',monospace\">r0 := AlchemyTable: countries\n",
       "  iso_alpha2  string\n",
       "  iso_alpha3  string\n",
       "  iso_numeric int32\n",
       "  fips        string\n",
       "  name        string\n",
       "  capital     string\n",
       "  area_km2    float64\n",
       "  population  int32\n",
       "  continent   string\n",
       "\n",
       "r1 := Selection[r0]\n",
       "  selections:\n",
       "    name:                   r0.name\n",
       "    continent:              r0.continent\n",
       "    population_in_millions: r0.population / 1000000\n",
       "\n",
       "Limit[r1, n=3]\n",
       "</pre>\n"
      ],
      "text/plain": [
       "r0 := AlchemyTable: countries\n",
       "  iso_alpha2  string\n",
       "  iso_alpha3  string\n",
       "  iso_numeric int32\n",
       "  fips        string\n",
       "  name        string\n",
       "  capital     string\n",
       "  area_km2    float64\n",
       "  population  int32\n",
       "  continent   string\n",
       "\n",
       "r1 := Selection[r0]\n",
       "  selections:\n",
       "    name:                   r0.name\n",
       "    continent:              r0.continent\n",
       "    population_in_millions: r0.population / 1000000\n",
       "\n",
       "Limit[r1, n=3]"
      ]
     },
     "execution_count": 9,
     "metadata": {},
     "output_type": "execute_result"
    }
   ],
   "source": [
    "countries['name', 'continent', population_in_millions].limit(3)"
   ]
  },
  {
   "cell_type": "markdown",
   "metadata": {},
   "source": [
    "Since we are in lazy mode (not interactive), those expressions don't request any data from the database\n",
    "unless explicitly requested with `.execute()`.\n",
    "\n",
    "## Logging queries\n",
    "\n",
    "For SQL backends (and for others when it makes sense), the query sent to the database can be logged.\n",
    "This can be done by setting the `verbose` option to `True`."
   ]
  },
  {
   "cell_type": "code",
   "execution_count": 10,
   "metadata": {},
   "outputs": [
    {
     "name": "stdout",
     "output_type": "stream",
     "text": [
      "SELECT t0.name, t0.continent, t0.population / CAST(:param_1 AS REAL) AS population_in_millions \n",
      "FROM main.countries AS t0\n",
      " LIMIT :param_2\n"
     ]
    },
    {
     "data": {
      "text/html": [
       "<div>\n",
       "<style scoped>\n",
       "    .dataframe tbody tr th:only-of-type {\n",
       "        vertical-align: middle;\n",
       "    }\n",
       "\n",
       "    .dataframe tbody tr th {\n",
       "        vertical-align: top;\n",
       "    }\n",
       "\n",
       "    .dataframe thead th {\n",
       "        text-align: right;\n",
       "    }\n",
       "</style>\n",
       "<table border=\"1\" class=\"dataframe\">\n",
       "  <thead>\n",
       "    <tr style=\"text-align: right;\">\n",
       "      <th></th>\n",
       "      <th>name</th>\n",
       "      <th>continent</th>\n",
       "      <th>population_in_millions</th>\n",
       "    </tr>\n",
       "  </thead>\n",
       "  <tbody>\n",
       "    <tr>\n",
       "      <th>0</th>\n",
       "      <td>Andorra</td>\n",
       "      <td>EU</td>\n",
       "      <td>0.084000</td>\n",
       "    </tr>\n",
       "    <tr>\n",
       "      <th>1</th>\n",
       "      <td>United Arab Emirates</td>\n",
       "      <td>AS</td>\n",
       "      <td>4.975593</td>\n",
       "    </tr>\n",
       "    <tr>\n",
       "      <th>2</th>\n",
       "      <td>Afghanistan</td>\n",
       "      <td>AS</td>\n",
       "      <td>29.121286</td>\n",
       "    </tr>\n",
       "  </tbody>\n",
       "</table>\n",
       "</div>"
      ],
      "text/plain": [
       "                   name continent  population_in_millions\n",
       "0               Andorra        EU                0.084000\n",
       "1  United Arab Emirates        AS                4.975593\n",
       "2           Afghanistan        AS               29.121286"
      ]
     },
     "execution_count": 10,
     "metadata": {},
     "output_type": "execute_result"
    }
   ],
   "source": [
    "ibis.options.verbose = True\n",
    "\n",
    "countries['name', 'continent', population_in_millions].limit(3).execute()"
   ]
  },
  {
   "cell_type": "markdown",
   "metadata": {},
   "source": [
    "By default, the logging is done to the terminal, but we can process the query with a custom function.\n",
    "This allows us to save executed queries to a file, save to a database, send them to a web service, etc.\n",
    "\n",
    "For example, to save queries to a file, we can write a custom function that given a query, saves it to a\n",
    "log file."
   ]
  },
  {
   "cell_type": "code",
   "execution_count": 11,
   "metadata": {},
   "outputs": [],
   "source": [
    "from pathlib import Path\n",
    "\n",
    "\n",
    "def log_query_to_file(query: str) -> None:\n",
    "    \"\"\"Log queries to `./tutorial_queries.log`.\"\"\"\n",
    "    fname = Path() / 'tutorial_queries.log'\n",
    "    query = query.replace(\"\\n\", \" \")\n",
    "    with fname.open(mode='a') as f:\n",
    "        # log on a single line\n",
    "        f.write(f\"{query}\\n\")"
   ]
  },
  {
   "cell_type": "markdown",
   "metadata": {},
   "source": [
    "Then we can set the `verbose_log` option to the custom function, execute one query,\n",
    "wait one second, and execute another query."
   ]
  },
  {
   "cell_type": "code",
   "execution_count": 12,
   "metadata": {},
   "outputs": [
    {
     "data": {
      "text/html": [
       "<div>\n",
       "<style scoped>\n",
       "    .dataframe tbody tr th:only-of-type {\n",
       "        vertical-align: middle;\n",
       "    }\n",
       "\n",
       "    .dataframe tbody tr th {\n",
       "        vertical-align: top;\n",
       "    }\n",
       "\n",
       "    .dataframe thead th {\n",
       "        text-align: right;\n",
       "    }\n",
       "</style>\n",
       "<table border=\"1\" class=\"dataframe\">\n",
       "  <thead>\n",
       "    <tr style=\"text-align: right;\">\n",
       "      <th></th>\n",
       "      <th>name</th>\n",
       "      <th>continent</th>\n",
       "      <th>population_in_millions</th>\n",
       "    </tr>\n",
       "  </thead>\n",
       "  <tbody>\n",
       "    <tr>\n",
       "      <th>0</th>\n",
       "      <td>Andorra</td>\n",
       "      <td>EU</td>\n",
       "      <td>0.084000</td>\n",
       "    </tr>\n",
       "    <tr>\n",
       "      <th>1</th>\n",
       "      <td>United Arab Emirates</td>\n",
       "      <td>AS</td>\n",
       "      <td>4.975593</td>\n",
       "    </tr>\n",
       "    <tr>\n",
       "      <th>2</th>\n",
       "      <td>Afghanistan</td>\n",
       "      <td>AS</td>\n",
       "      <td>29.121286</td>\n",
       "    </tr>\n",
       "  </tbody>\n",
       "</table>\n",
       "</div>"
      ],
      "text/plain": [
       "                   name continent  population_in_millions\n",
       "0               Andorra        EU                0.084000\n",
       "1  United Arab Emirates        AS                4.975593\n",
       "2           Afghanistan        AS               29.121286"
      ]
     },
     "execution_count": 12,
     "metadata": {},
     "output_type": "execute_result"
    }
   ],
   "source": [
    "ibis.options.verbose_log = log_query_to_file\n",
    "\n",
    "countries.execute()\n",
    "countries['name', 'continent', population_in_millions].limit(3).execute()"
   ]
  },
  {
   "cell_type": "markdown",
   "metadata": {},
   "source": [
    "This has created a log file in `$PWD/tutorial_queries.log` where the executed queries have been logged."
   ]
  },
  {
   "cell_type": "code",
   "execution_count": 13,
   "metadata": {},
   "outputs": [
    {
     "name": "stdout",
     "output_type": "stream",
     "text": [
      "     1\tSELECT t0.iso_alpha2, t0.iso_alpha3, t0.iso_numeric, t0.fips, t0.name, t0.capital, t0.area_km2, t0.population, t0.continent  FROM main.countries AS t0\n",
      "     2\tSELECT t0.name, t0.continent, t0.population / CAST(:param_1 AS REAL) AS population_in_millions  FROM main.countries AS t0 LIMIT :param_2\n",
      "     3\tSELECT t0.iso_alpha2, t0.iso_alpha3, t0.iso_numeric, t0.fips, t0.name, t0.capital, t0.area_km2, t0.population, t0.continent  FROM main.countries AS t0\n",
      "     4\tSELECT t0.name, t0.continent, t0.population / CAST(:param_1 AS REAL) AS population_in_millions  FROM main.countries AS t0  LIMIT :param_2\n"
     ]
    }
   ],
   "source": [
    "!cat -n $PWD/tutorial_queries.log"
   ]
  }
 ],
 "metadata": {
  "kernelspec": {
   "display_name": "Python 3 (ipykernel)",
   "language": "python",
   "name": "python3"
  },
  "language_info": {
   "codemirror_mode": {
    "name": "ipython",
    "version": 3
   },
   "file_extension": ".py",
   "mimetype": "text/x-python",
   "name": "python",
   "nbconvert_exporter": "python",
   "pygments_lexer": "ipython3",
   "version": "3.10.9"
  }
 },
 "nbformat": 4,
 "nbformat_minor": 4
}
