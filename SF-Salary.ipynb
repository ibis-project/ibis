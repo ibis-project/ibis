{
 "cells": [
  {
   "cell_type": "code",
   "execution_count": 14,
   "metadata": {},
   "outputs": [
    {
     "name": "stdout",
     "output_type": "stream",
     "text": [
      "Requirement already satisfied: ibis-framework[sqlite] in /Users/vinojosa/Documents/OpenSourceProjects/ibis (1.3.0+157.g550c894)\n",
      "Requirement already satisfied: multipledispatch>=0.6.0 in /Users/vinojosa/opt/anaconda3/envs/ibis-dev/lib/python3.8/site-packages (from ibis-framework[sqlite]) (0.6.0)\n",
      "Requirement already satisfied: numpy>=1.11 in /Users/vinojosa/opt/anaconda3/envs/ibis-dev/lib/python3.8/site-packages (from ibis-framework[sqlite]) (1.19.1)\n",
      "Requirement already satisfied: pandas>=0.21 in /Users/vinojosa/opt/anaconda3/envs/ibis-dev/lib/python3.8/site-packages (from ibis-framework[sqlite]) (1.1.2)\n",
      "Requirement already satisfied: pytz in /Users/vinojosa/opt/anaconda3/envs/ibis-dev/lib/python3.8/site-packages (from ibis-framework[sqlite]) (2020.1)\n",
      "Requirement already satisfied: regex in /Users/vinojosa/opt/anaconda3/envs/ibis-dev/lib/python3.8/site-packages (from ibis-framework[sqlite]) (2020.9.27)\n",
      "Requirement already satisfied: toolz in /Users/vinojosa/opt/anaconda3/envs/ibis-dev/lib/python3.8/site-packages (from ibis-framework[sqlite]) (0.11.1)\n",
      "Collecting sqlalchemy<1.3.7,>=1.1\n",
      "  Downloading SQLAlchemy-1.3.6.tar.gz (5.9 MB)\n",
      "\u001b[K     |████████████████████████████████| 5.9 MB 857 kB/s eta 0:00:01\n",
      "\u001b[?25hRequirement already satisfied: six in /Users/vinojosa/opt/anaconda3/envs/ibis-dev/lib/python3.8/site-packages (from multipledispatch>=0.6.0->ibis-framework[sqlite]) (1.15.0)\n",
      "Requirement already satisfied: python-dateutil>=2.7.3 in /Users/vinojosa/opt/anaconda3/envs/ibis-dev/lib/python3.8/site-packages (from pandas>=0.21->ibis-framework[sqlite]) (2.8.1)\n",
      "Building wheels for collected packages: sqlalchemy\n",
      "  Building wheel for sqlalchemy (setup.py) ... \u001b[?25ldone\n",
      "\u001b[?25h  Created wheel for sqlalchemy: filename=SQLAlchemy-1.3.6-cp38-cp38-macosx_10_9_x86_64.whl size=1141937 sha256=3fba3bbd85988a91d7e352a0a2f80e223dddbb0c6bb6a0bf4a5e3601c585721f\n",
      "  Stored in directory: /Users/vinojosa/Library/Caches/pip/wheels/82/27/70/26134197b457059b273f81d80e18d721c4e2f8085eed3b294d\n",
      "Successfully built sqlalchemy\n",
      "Installing collected packages: sqlalchemy\n",
      "  Attempting uninstall: sqlalchemy\n",
      "    Found existing installation: SQLAlchemy 1.3.19\n",
      "    Uninstalling SQLAlchemy-1.3.19:\n",
      "      Successfully uninstalled SQLAlchemy-1.3.19\n",
      "Successfully installed sqlalchemy-1.3.6\n"
     ]
    }
   ],
   "source": [
    "!pip install ibis-framework[sqlite]"
   ]
  },
  {
   "cell_type": "code",
   "execution_count": 1,
   "metadata": {},
   "outputs": [],
   "source": [
    "import ibis"
   ]
  },
  {
   "cell_type": "code",
   "execution_count": 39,
   "metadata": {},
   "outputs": [],
   "source": [
    "db = ibis.sqlite.connect('sf_salary.sqlite')"
   ]
  },
  {
   "cell_type": "code",
   "execution_count": 40,
   "metadata": {},
   "outputs": [],
   "source": [
    "sal = db.table('Salaries')\n",
    "test = db.table('test')"
   ]
  },
  {
   "cell_type": "code",
   "execution_count": 44,
   "metadata": {},
   "outputs": [],
   "source": [
    "total_sal = sal['BasePay'].sum()"
   ]
  },
  {
   "cell_type": "code",
   "execution_count": 45,
   "metadata": {},
   "outputs": [
    {
     "data": {
      "text/plain": [
       "9819151073.592775"
      ]
     },
     "execution_count": 45,
     "metadata": {},
     "output_type": "execute_result"
    }
   ],
   "source": [
    "total_sal.execute()"
   ]
  },
  {
   "cell_type": "code",
   "execution_count": 14,
   "metadata": {},
   "outputs": [],
   "source": [
    "from ibis import schema\n",
    "sc2 = schema(names=['foo', 'bar', 'baz'],\n",
    "             types=['string', 'int64', 'boolean'])"
   ]
  },
  {
   "cell_type": "code",
   "execution_count": 15,
   "metadata": {},
   "outputs": [],
   "source": [
    "db.create_table('test', schema=sc2)"
   ]
  },
  {
   "cell_type": "code",
   "execution_count": null,
   "metadata": {},
   "outputs": [],
   "source": []
  },
  {
   "cell_type": "code",
   "execution_count": null,
   "metadata": {},
   "outputs": [],
   "source": []
  },
  {
   "cell_type": "code",
   "execution_count": null,
   "metadata": {},
   "outputs": [],
   "source": []
  }
 ],
 "metadata": {
  "kernelspec": {
   "display_name": "Python 3",
   "language": "python",
   "name": "python3"
  },
  "language_info": {
   "codemirror_mode": {
    "name": "ipython",
    "version": 3
   },
   "file_extension": ".py",
   "mimetype": "text/x-python",
   "name": "python",
   "nbconvert_exporter": "python",
   "pygments_lexer": "ipython3",
   "version": "3.8.5"
  }
 },
 "nbformat": 4,
 "nbformat_minor": 4
}
